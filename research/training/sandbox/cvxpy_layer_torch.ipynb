{
 "cells": [
  {
   "cell_type": "code",
   "execution_count": 1,
   "id": "110b1a79",
   "metadata": {},
   "outputs": [
    {
     "name": "stdout",
     "output_type": "stream",
     "text": [
      "pytorch\n"
     ]
    }
   ],
   "source": [
    "# 0 define backend\n",
    "import sys, os, time\n",
    "\n",
    "# %env DDE_BACKEND=tensorflow.compat.v1\n",
    "# %env XLA_FLAGS=--xla_gpu_cuda_data_dir=/usr/local/home/cyan3/miniforge/envs/tf\n",
    "\n",
    "os.environ['DDE_BACKEND'] = \"pytorch\" # v2\n",
    "# /usr/local/home/cyan3/miniforge/pkgs/cudatoolkit-11.7.0-hd8887f6_10/lib/libdevice.10.bc\n",
    "# os.environ['CUDA_HOME'] = '/usr/local/home/cyan3/miniforge/pkgs/cudatoolkit-11.7.0-hd8887f6_10/bin'\n",
    "os.environ['CUDA_HOME'] = '/usr/local/home/cyan3/miniforge/pkgs/cudatoolkit-11.3.1-h2bc3f7f_2/bin'\n",
    "# /usr/local/home/cyan3/miniforge/pkgs/cudatoolkit-11.3.1-h2bc3f7f_2/lib/libdevice.10.bc\n",
    "# https://stackoverflow.com/questions/68614547/tensorflow-libdevice-not-found-why-is-it-not-found-in-the-searched-path\n",
    "# this directory has /nvvm/libdevice/libdevice.10.bc\n",
    "\n",
    "print(os.environ['DDE_BACKEND'])"
   ]
  },
  {
   "cell_type": "code",
   "execution_count": 2,
   "id": "956b850b",
   "metadata": {},
   "outputs": [
    {
     "name": "stderr",
     "output_type": "stream",
     "text": [
      "Using backend: pytorch\n",
      "\n"
     ]
    },
    {
     "name": "stdout",
     "output_type": "stream",
     "text": [
      "True\n",
      "1\n",
      "NVIDIA RTX A2000 Laptop GPU\n",
      "11.3\n",
      "True\n",
      "0\n"
     ]
    },
    {
     "name": "stderr",
     "output_type": "stream",
     "text": [
      "2022-09-11 10:14:15.163401: I tensorflow/core/platform/cpu_feature_guard.cc:193] This TensorFlow binary is optimized with oneAPI Deep Neural Network Library (oneDNN) to use the following CPU instructions in performance-critical operations:  AVX2 AVX512F AVX512_VNNI FMA\n",
      "To enable them in other operations, rebuild TensorFlow with the appropriate compiler flags.\n",
      "2022-09-11 10:14:15.370880: I tensorflow/core/util/util.cc:169] oneDNN custom operations are on. You may see slightly different numerical results due to floating-point round-off errors from different computation orders. To turn them off, set the environment variable `TF_ENABLE_ONEDNN_OPTS=0`.\n",
      "2022-09-11 10:14:15.454466: E tensorflow/stream_executor/cuda/cuda_blas.cc:2981] Unable to register cuBLAS factory: Attempting to register factory for plugin cuBLAS when one has already been registered\n",
      "2022-09-11 10:14:16.021871: W tensorflow/stream_executor/platform/default/dso_loader.cc:64] Could not load dynamic library 'libnvinfer.so.7'; dlerror: libnvinfer.so.7: cannot open shared object file: No such file or directory; LD_LIBRARY_PATH: /opt/rti.com/rti_connext_dds-5.3.1//lib/x64Linux3gcc5.4.0::/usr/local/lib:/usr/local/include:/usr/lib64/:/home/cyan3/Dev/ames/VerveCollabTest/bundles/com.rti.dds.target/os/linux/x86_64/:/usr/local/irg/lib/:/usr/local/viper/lib/:/usr/local/home/cyan3/miniforge/envs/tf/lib/\n",
      "2022-09-11 10:14:16.021941: W tensorflow/stream_executor/platform/default/dso_loader.cc:64] Could not load dynamic library 'libnvinfer_plugin.so.7'; dlerror: libnvinfer_plugin.so.7: cannot open shared object file: No such file or directory; LD_LIBRARY_PATH: /opt/rti.com/rti_connext_dds-5.3.1//lib/x64Linux3gcc5.4.0::/usr/local/lib:/usr/local/include:/usr/lib64/:/home/cyan3/Dev/ames/VerveCollabTest/bundles/com.rti.dds.target/os/linux/x86_64/:/usr/local/irg/lib/:/usr/local/viper/lib/:/usr/local/home/cyan3/miniforge/envs/tf/lib/\n",
      "2022-09-11 10:14:16.021946: W tensorflow/compiler/tf2tensorrt/utils/py_utils.cc:38] TF-TRT Warning: Cannot dlopen some TensorRT libraries. If you would like to use Nvidia GPU with TensorRT, please make sure the missing libraries mentioned above are installed properly.\n"
     ]
    },
    {
     "name": "stdout",
     "output_type": "stream",
     "text": [
      "1662916456.7189057\n"
     ]
    }
   ],
   "source": [
    "# import tensorflow as tf\n",
    "# gpu_devices = tf.config.experimental.list_physical_devices('GPU')\n",
    "# for device in gpu_devices:\n",
    "#     print(device)\n",
    "\n",
    "import torch\n",
    "\n",
    "print(torch.cuda.is_available())\n",
    "print(torch.cuda.device_count())\n",
    "print(torch.cuda.get_device_name(0))\n",
    "print(torch.version.cuda)\n",
    "print(torch.cuda.is_available())\n",
    "print(torch.cuda.current_device())\n",
    "torch.cuda.set_device(0)\n",
    "\n",
    "cuda0 = torch.device('cuda:0')\n",
    "cpu = torch.device('cpu')\n",
    "\n",
    "import deepxde as dde\n",
    "import numpy as np\n",
    "from numpy import linalg as LA\n",
    "import math\n",
    "\n",
    "import matplotlib.pyplot as plt\n",
    "import pylab\n",
    "\n",
    "from os.path import dirname, join as pjoin\n",
    "\n",
    "from scipy import stats\n",
    "import scipy.io\n",
    "from scipy.stats import truncnorm, norm\n",
    "from scipy.optimize import linprog\n",
    "from scipy import sparse\n",
    "from scipy.stats import multivariate_normal\n",
    "\n",
    "if dde.backend.backend_name == \"pytorch\":\n",
    "    exp = dde.backend.torch.exp\n",
    "else:\n",
    "    from deepxde.backend import tf\n",
    "\n",
    "    exp = tf.exp\n",
    "    \n",
    "import cvxpy as cp\n",
    "import numpy as np\n",
    "import tensorflow as tf\n",
    "from scipy.linalg import solve_discrete_are\n",
    "from scipy.linalg import sqrtm\n",
    "\n",
    "# from cvxpylayers.tensorflow.cvxpylayer import CvxpyLayer\n",
    "from cvxpylayers.torch import CvxpyLayer\n",
    "\n",
    "\n",
    "\n",
    "print(time.time())"
   ]
  },
  {
   "cell_type": "code",
   "execution_count": 3,
   "id": "29978c50",
   "metadata": {},
   "outputs": [
    {
     "name": "stdout",
     "output_type": "stream",
     "text": [
      "1662916467.2237926\n"
     ]
    }
   ],
   "source": [
    "N = nSample = 100\n",
    "\n",
    "# must be floats\n",
    "state_min = 0.0\n",
    "state_max = 6.0\n",
    "\n",
    "j1, j2, j3 =1,1,2 # axis-symmetric case\n",
    "q_statepenalty_gain = 0 # 0.5\n",
    "\n",
    "T_0=0. #initial time\n",
    "T_t=200. #Terminal time\n",
    "\n",
    "print(time.time())"
   ]
  },
  {
   "cell_type": "code",
   "execution_count": 4,
   "id": "29f770b5",
   "metadata": {},
   "outputs": [
    {
     "name": "stdout",
     "output_type": "stream",
     "text": [
      "1662916467.7062387\n"
     ]
    }
   ],
   "source": [
    "x_T = np.transpose(np.linspace(state_min, state_max, N))\n",
    "y_T = np.transpose(np.linspace(state_min, state_max, N))\n",
    "z_T = np.transpose(np.linspace(state_min, state_max, N))\n",
    "x_T=x_T.reshape(len(x_T),1)\n",
    "y_T=y_T.reshape(len(y_T),1)\n",
    "z_T=z_T.reshape(len(z_T),1)\n",
    "\n",
    "print(time.time())"
   ]
  },
  {
   "cell_type": "code",
   "execution_count": 5,
   "id": "689f0e78",
   "metadata": {},
   "outputs": [
    {
     "name": "stdout",
     "output_type": "stream",
     "text": [
      "1662916468.369931\n"
     ]
    }
   ],
   "source": [
    "def pdf1d(x, mu, sigma):\n",
    "    a, b = (state_min - mu) / sigma, (state_max - mu) / sigma\n",
    "    rho_x=truncnorm.pdf(x, a, b, loc = mu, scale = sigma)\n",
    "\n",
    "    # do NOT use gaussian norm, because it is only area=1\n",
    "    # from -inf, inf, will not be for finite state/grid\n",
    "    # rho_x = norm.pdf(x, mu, sigma)\n",
    "    return rho_x\n",
    "\n",
    "def boundary(_, on_initial):\n",
    "    return on_initial\n",
    "\n",
    "print(time.time())"
   ]
  },
  {
   "cell_type": "code",
   "execution_count": 6,
   "id": "b7fa9dc0",
   "metadata": {},
   "outputs": [
    {
     "name": "stdout",
     "output_type": "stream",
     "text": [
      "(10000, 1)\n",
      "(200, 10000)\n"
     ]
    }
   ],
   "source": [
    "x_grid = np.transpose(np.linspace(state_min, state_max, nSample))\n",
    "y_grid = np.transpose(np.linspace(state_min, state_max, nSample))\n",
    "[X,Y] = np.meshgrid(x_grid,x_grid)\n",
    "C = (X - Y)**2\n",
    "\n",
    "# cvector = C.flatten('F')\n",
    "cvector = C.reshape(nSample**2,1)\n",
    "\n",
    "A = np.concatenate(\n",
    "    (\n",
    "        np.kron(\n",
    "            np.ones((1,nSample)),\n",
    "            sparse.eye(nSample).toarray()\n",
    "        ),\n",
    "        np.kron(\n",
    "            sparse.eye(nSample).toarray(),\n",
    "            np.ones((1,nSample))\n",
    "        )\n",
    "    ), axis=0)\n",
    "# 2*nSample\n",
    "\n",
    "print(cvector.shape)\n",
    "print(A.shape)"
   ]
  },
  {
   "cell_type": "code",
   "execution_count": 7,
   "id": "6c6660c6",
   "metadata": {},
   "outputs": [
    {
     "name": "stdout",
     "output_type": "stream",
     "text": [
      "1662916473.8274517\n"
     ]
    }
   ],
   "source": [
    "# 1d linprog example\n",
    "\n",
    "rho_0_1d=pdf1d(x_T, 5.0, 1.0).reshape(len(x_T),1)\n",
    "rho_T_1d=pdf1d(x_T, 4.0, 1.0).reshape(len(x_T),1)\n",
    "\n",
    "rho_0_1d = np.where(rho_0_1d < 0, 0, rho_0_1d)\n",
    "rho_0_1d = rho_0_1d / np.sum(np.abs(rho_0_1d))\n",
    "\n",
    "# rho_0_1d_trapz = np.trapz(rho_0_1d, axis=0)[0]\n",
    "# rho_0_1d = rho_0_1d / rho_0_1d_trapz\n",
    "# rho_0_1d_trapz = np.trapz(rho_0_1d, axis=0)\n",
    "# print(\"rho_0_1d_trapz=\",rho_0_1d_trapz)\n",
    "\n",
    "rho_T_1d = np.where(rho_T_1d < 0, 0, rho_T_1d)\n",
    "rho_T_1d = rho_T_1d / np.sum(np.abs(rho_T_1d))\n",
    "\n",
    "# rho_T_1d_trapz = np.trapz(rho_T_1d, axis=0)[0]\n",
    "# rho_T_1d = rho_T_1d / rho_T_1d_trapz\n",
    "# rho_T_1d_trapz = np.trapz(rho_T_1d, axis=0)\n",
    "# print(\"rho_T_1d_trapz=\",rho_T_1d_trapz)\n",
    "\n",
    "rho_0 = rho_0_1d\n",
    "rho_T = rho_T_1d\n",
    "\n",
    "print(time.time())"
   ]
  },
  {
   "cell_type": "code",
   "execution_count": 8,
   "id": "d223e944",
   "metadata": {},
   "outputs": [
    {
     "name": "stdout",
     "output_type": "stream",
     "text": [
      "Running HiGHS 1.2.2 [date: 2022-08-26, git hash: n/a]\n",
      "Copyright (c) 2022 ERGO-Code under MIT licence terms\n",
      "0.6318734471629914\n",
      "Presolving model\n",
      "200 rows, 10000 cols, 20000 nonzeros\n",
      "199 rows, 10000 cols, 19900 nonzeros\n",
      "Presolve : Reductions: rows 199(-1); columns 10000(-0); elements 19900(-100)\n",
      "Solving the presolved LP\n",
      "Using EKK dual simplex solver - serial\n",
      "  Iteration        Objective     Infeasibilities num(sum)\n",
      "          0     0.0000000000e+00 Pr: 199(1.99666) 0s\n",
      "       2699     6.3187344716e-01 Pr: 0(0) 0s\n",
      "Solving the original LP from the solution after postsolve\n",
      "Model   status      : Optimal\n",
      "Simplex   iterations: 2699\n",
      "Objective value     :  6.3187344716e-01\n",
      "HiGHS run time      :          0.10\n",
      "WARNING: Method getModelStatus(const bool scaled_model) is deprecated: alternative method is getModelStatus()\n"
     ]
    }
   ],
   "source": [
    "res = linprog(\n",
    "    cvector,\n",
    "    A_eq=A,\n",
    "    b_eq=np.concatenate((rho_0, rho_T), axis=0),\n",
    "    bounds=[(0, np.inf)],\n",
    "    options={\"disp\": True}\n",
    ")\n",
    "print(res.fun)"
   ]
  },
  {
   "cell_type": "code",
   "execution_count": 9,
   "id": "cf66965f",
   "metadata": {},
   "outputs": [
    {
     "name": "stdout",
     "output_type": "stream",
     "text": [
      "\n",
      "The optimal value is 0.6318734626810212\n"
     ]
    }
   ],
   "source": [
    "# Define and solve the CVXPY problem.\n",
    "x = cp.Variable(\n",
    "    cvector.shape[0],\n",
    "    nonneg=True\n",
    ")\n",
    "prob = cp.Problem(\n",
    "    cp.Minimize(cvector.T @ x),\n",
    "    [\n",
    "        A @ x == np.concatenate((\n",
    "            rho_0,\n",
    "            rho_T\n",
    "        ), axis=0).reshape(-1),\n",
    "        # do NOT specify bounds constraints here\n",
    "    ],\n",
    ")\n",
    "prob.solve(verbose=False)\n",
    "\n",
    "# Print result.\n",
    "print(\"\\nThe optimal value is\", prob.value)\n",
    "\n",
    "# print(\"A dual solution is\")\n",
    "# print(prob.constraints[0].dual_value)"
   ]
  },
  {
   "cell_type": "code",
   "execution_count": 8,
   "id": "68a180b7",
   "metadata": {},
   "outputs": [
    {
     "name": "stdout",
     "output_type": "stream",
     "text": [
      "1662916480.7724204\n"
     ]
    }
   ],
   "source": [
    "# Define and solve the CVXPY problem.\n",
    "x = cp.Variable(\n",
    "    cvector.shape[0],\n",
    "    nonneg=True\n",
    ")\n",
    "pred = cp.Parameter((A.shape[0],))\n",
    "problem = cp.Problem(\n",
    "    cp.Minimize(cvector.T @ x),\n",
    "    [\n",
    "        A @ x == pred,\n",
    "    ],\n",
    ")\n",
    "assert problem.is_dpp()\n",
    "cvxpylayer = CvxpyLayer(\n",
    "    problem,\n",
    "    parameters=[pred],\n",
    "    variables=[x])\n",
    "\n",
    "print(time.time())"
   ]
  },
  {
   "cell_type": "code",
   "execution_count": 33,
   "id": "f903f7bb",
   "metadata": {},
   "outputs": [
    {
     "name": "stdout",
     "output_type": "stream",
     "text": [
      "1662919073.11003\n"
     ]
    }
   ],
   "source": [
    "# rho_0_tensor = tf.constant(rho_0, shape=(100,))\n",
    "rho_0_tensor = torch.from_numpy(\n",
    "    rho_0.reshape(-1)\n",
    ").requires_grad_(False)\n",
    "\n",
    "cvector_tensor = torch.from_numpy(\n",
    "    cvector.reshape(-1)\n",
    ").requires_grad_(False)\n",
    "\n",
    "\n",
    "rho_I=pdf1d(x_T, 4.0, 1.0).reshape(len(x_T),1)\n",
    "rho_I = np.where(rho_I < 0, 0, rho_I)\n",
    "rho_I = rho_I / np.sum(np.abs(rho_I))\n",
    "rho_I = rho_I.reshape((100,))\n",
    "\n",
    "# y_pred = tf.Variable(tf.zeros((100,), tf.double))\n",
    "# y_pred = tf.Variable(rho_I, shape=(100,))\n",
    "# this MUST be tf.Variable to get a gradient w.r.t\n",
    "y_pred = torch.from_numpy(rho_I).requires_grad_(True)\n",
    "\n",
    "print(time.time())"
   ]
  },
  {
   "cell_type": "code",
   "execution_count": 34,
   "id": "9481a7a5",
   "metadata": {},
   "outputs": [
    {
     "name": "stdout",
     "output_type": "stream",
     "text": [
      "<class 'torch.Tensor'>\n",
      "1662919075.6208153\n",
      "<class 'torch.Tensor'>\n",
      "cpu dt:  55.81674122810364\n",
      "wass_dist1= tensor(0.6330, device='cpu', dtype=torch.float64, grad_fn=<DotBackward0>)\n",
      "tensor([-70.2294, -59.9991, -47.2306, -31.3524, -11.6804,  -1.8298,  -1.9436,\n",
      "         -2.0575,  -2.1714,  -2.2852,  -2.3991,  -2.5129,  -2.6267,  -2.7405,\n",
      "         -2.8542,  -2.9680,  -3.0817,  -3.1954,  -3.3090,  -3.4227,  -3.5364,\n",
      "         -3.6500,  -3.7637,  -3.8773,  -3.9909,  -4.1045,  -4.2180,  -4.3315,\n",
      "         -4.4451,  -4.5586,  -4.6721,  -4.7856,  -4.8991,  -5.0125,  -5.1260,\n",
      "         -5.2395,  -5.3529,  -5.4663,  -5.5796,  -5.6929,  -5.8062,  -5.9195,\n",
      "         -6.0327,  -6.1460,  -6.2593,  -6.3725,  -6.4858,  -6.5991,  -6.7123,\n",
      "         -6.8259,  -6.9322,  -7.0382,  -7.1443,  -7.2503,  -7.3564,  -7.4625,\n",
      "         -7.5685,  -7.6746,  -7.7808,  -7.8869,  -7.9930,  -8.0991,  -8.2053,\n",
      "         -8.3115,  -8.4178,  -8.5169,  -8.6159,  -8.7149,  -8.8138,  -8.9128,\n",
      "         -9.0118,  -9.1108,  -9.2026,  -9.2943,  -9.3860,  -9.4777,  -9.5694,\n",
      "         -9.6539,  -9.7383,  -9.8226,  -9.9070,  -9.9841, -10.0612, -10.1383,\n",
      "        -10.2081, -10.2778, -10.3403, -10.4027, -10.4578, -10.5129, -10.5607,\n",
      "        -10.6085, -10.6489, -10.6893, -10.7223, -10.7480, -10.7737, -10.7921,\n",
      "        -10.8031, -10.8068], device='cpu', dtype=torch.float64)\n"
     ]
    }
   ],
   "source": [
    "# to sanity check that backwards on cvxpy Parameter works on cpu\n",
    "rho_0_tensor = rho_0_tensor.to(cpu)\n",
    "cvector_tensor = cvector_tensor.to(cpu)\n",
    "y_pred = y_pred.to(cpu)\n",
    "\n",
    "# print(y_pred.numpy())\n",
    "print(type(y_pred))\n",
    "\n",
    "print(time.time())\n",
    "\n",
    "y_pred.grad = None\n",
    "\n",
    "param = torch.cat((rho_0_tensor, y_pred), 0)\n",
    "print(type(param))\n",
    "\n",
    "s = time.time()\n",
    "x_sol, = cvxpylayer(param)\n",
    "print(\"cpu dt: \", time.time() - s)\n",
    "\n",
    "wass_dist1 = torch.matmul(cvector_tensor, x_sol)\n",
    "print(\"wass_dist1=\", wass_dist1)\n",
    "wass_dist1.backward()\n",
    "print(y_pred.grad)"
   ]
  },
  {
   "cell_type": "code",
   "execution_count": 35,
   "id": "67777fcf",
   "metadata": {},
   "outputs": [
    {
     "name": "stdout",
     "output_type": "stream",
     "text": [
      "<class 'torch.Tensor'>\n",
      "1662919173.7651596\n",
      "<class 'torch.Tensor'>\n",
      "cuda dt:  56.07662630081177\n",
      "wass_dist1= tensor(0.6330, dtype=torch.float64, grad_fn=<DotBackward0>)\n",
      "tensor([-70.2294, -59.9991, -47.2306, -31.3524, -11.6804,  -1.8298,  -1.9436,\n",
      "         -2.0575,  -2.1714,  -2.2852,  -2.3991,  -2.5129,  -2.6267,  -2.7405,\n",
      "         -2.8542,  -2.9680,  -3.0817,  -3.1954,  -3.3090,  -3.4227,  -3.5364,\n",
      "         -3.6500,  -3.7637,  -3.8773,  -3.9909,  -4.1045,  -4.2180,  -4.3315,\n",
      "         -4.4451,  -4.5586,  -4.6721,  -4.7856,  -4.8991,  -5.0125,  -5.1260,\n",
      "         -5.2395,  -5.3529,  -5.4663,  -5.5796,  -5.6929,  -5.8062,  -5.9195,\n",
      "         -6.0327,  -6.1460,  -6.2593,  -6.3725,  -6.4858,  -6.5991,  -6.7123,\n",
      "         -6.8259,  -6.9322,  -7.0382,  -7.1443,  -7.2503,  -7.3564,  -7.4625,\n",
      "         -7.5685,  -7.6746,  -7.7808,  -7.8869,  -7.9930,  -8.0991,  -8.2053,\n",
      "         -8.3115,  -8.4178,  -8.5169,  -8.6159,  -8.7149,  -8.8138,  -8.9128,\n",
      "         -9.0118,  -9.1108,  -9.2026,  -9.2943,  -9.3860,  -9.4777,  -9.5694,\n",
      "         -9.6539,  -9.7383,  -9.8226,  -9.9070,  -9.9841, -10.0612, -10.1383,\n",
      "        -10.2081, -10.2778, -10.3403, -10.4027, -10.4578, -10.5129, -10.5607,\n",
      "        -10.6085, -10.6489, -10.6893, -10.7223, -10.7480, -10.7737, -10.7921,\n",
      "        -10.8031, -10.8068], dtype=torch.float64)\n"
     ]
    }
   ],
   "source": [
    "# to sanity check that backwards on cvxpy Parameter works on gpu / cuda\n",
    "rho_0_tensor = rho_0_tensor.to(cuda0)\n",
    "cvector_tensor = cvector_tensor.to(cuda0)\n",
    "y_pred = y_pred.to(cuda0)\n",
    "\n",
    "# when using cuda0, need this to get non-None grad\n",
    "y_pred.retain_grad()\n",
    "\n",
    "# print(y_pred.numpy())\n",
    "print(type(y_pred))\n",
    "\n",
    "print(time.time())\n",
    "\n",
    "y_pred.grad = None\n",
    "\n",
    "param = torch.cat((rho_0_tensor, y_pred), 0)\n",
    "print(type(param))\n",
    "\n",
    "s = time.time()\n",
    "x_sol, = cvxpylayer(param)\n",
    "print(\"cuda dt: \", time.time() - s)\n",
    "\n",
    "wass_dist1 = torch.matmul(cvector_tensor, x_sol)\n",
    "print(\"wass_dist1=\", wass_dist1)\n",
    "wass_dist1.backward()\n",
    "print(y_pred.grad)"
   ]
  },
  {
   "cell_type": "code",
   "execution_count": 1,
   "id": "f7b49f7f",
   "metadata": {},
   "outputs": [
    {
     "name": "stdout",
     "output_type": "stream",
     "text": [
      "(iter 0) loss: 1.44756 \n",
      "(iter 1) loss: 1.44285 \n",
      "(iter 2) loss: 1.43401 \n",
      "(iter 3) loss: 1.42093 \n",
      "(iter 4) loss: 1.40527 \n",
      "(iter 5) loss: 1.38592 \n",
      "(iter 6) loss: 1.3664 \n",
      "(iter 7) loss: 1.34757 \n",
      "(iter 8) loss: 1.32758 \n",
      "(iter 9) loss: 1.30595 \n",
      "(iter 10) loss: 1.28228 \n",
      "(iter 11) loss: 1.25629 \n",
      "(iter 12) loss: 1.22718 \n",
      "(iter 13) loss: 1.19548 \n",
      "(iter 14) loss: 1.1638 \n",
      "(iter 15) loss: 1.13183 \n",
      "(iter 16) loss: 1.10071 \n",
      "(iter 17) loss: 1.07389 \n",
      "(iter 18) loss: 1.04922 \n",
      "(iter 19) loss: 1.0255 \n",
      "(iter 20) loss: 1.0046 \n",
      "(iter 21) loss: 0.986741 \n",
      "(iter 22) loss: 0.969629 \n",
      "(iter 23) loss: 0.954039 \n",
      "(iter 24) loss: 0.940507 \n",
      "(iter 25) loss: 0.92855 \n",
      "(iter 26) loss: 0.918468 \n",
      "(iter 27) loss: 0.909959 \n",
      "(iter 28) loss: 0.902737 \n",
      "(iter 29) loss: 0.896589 \n",
      "(iter 30) loss: 0.891334 \n",
      "(iter 31) loss: 0.886808 \n",
      "(iter 32) loss: 0.882901 \n",
      "(iter 33) loss: 0.879502 \n",
      "(iter 34) loss: 0.876534 \n",
      "(iter 35) loss: 0.873927 \n",
      "(iter 36) loss: 0.871631 \n",
      "(iter 37) loss: 0.869598 \n",
      "(iter 38) loss: 0.867792 \n",
      "(iter 39) loss: 0.866181 \n",
      "(iter 40) loss: 0.864737 \n",
      "(iter 41) loss: 0.863438 \n",
      "(iter 42) loss: 0.862266 \n",
      "(iter 43) loss: 0.861204 \n",
      "(iter 44) loss: 0.860243 \n",
      "(iter 45) loss: 0.859366 \n",
      "(iter 46) loss: 0.858562 \n",
      "(iter 47) loss: 0.857827 \n",
      "(iter 48) loss: 0.857151 \n",
      "(iter 49) loss: 0.856528 \n",
      "(iter 50) loss: 0.855953 \n",
      "(iter 51) loss: 0.855419 \n",
      "(iter 52) loss: 0.854923 \n",
      "(iter 53) loss: 0.854462 \n",
      "(iter 54) loss: 0.854033 \n",
      "(iter 55) loss: 0.853629 \n",
      "(iter 56) loss: 0.853252 \n",
      "(iter 57) loss: 0.852896 \n",
      "(iter 58) loss: 0.852561 \n",
      "(iter 59) loss: 0.852244 \n",
      "(iter 60) loss: 0.851943 \n",
      "(iter 61) loss: 0.851658 \n",
      "(iter 62) loss: 0.851387 \n",
      "(iter 63) loss: 0.851129 \n",
      "(iter 64) loss: 0.850882 \n",
      "(iter 65) loss: 0.850645 \n",
      "(iter 66) loss: 0.850418 \n",
      "(iter 67) loss: 0.850201 \n",
      "(iter 68) loss: 0.849992 \n",
      "(iter 69) loss: 0.849791 \n",
      "(iter 70) loss: 0.849598 \n",
      "(iter 71) loss: 0.849411 \n",
      "(iter 72) loss: 0.849231 \n",
      "(iter 73) loss: 0.849058 \n",
      "(iter 74) loss: 0.84889 \n",
      "(iter 75) loss: 0.848727 \n",
      "(iter 76) loss: 0.848569 \n",
      "(iter 77) loss: 0.848415 \n",
      "(iter 78) loss: 0.848267 \n",
      "(iter 79) loss: 0.848122 \n",
      "(iter 80) loss: 0.847981 \n",
      "(iter 81) loss: 0.847844 \n",
      "(iter 82) loss: 0.84771 \n",
      "(iter 83) loss: 0.84758 \n",
      "(iter 84) loss: 0.847453 \n",
      "(iter 85) loss: 0.847329 \n",
      "(iter 86) loss: 0.847207 \n",
      "(iter 87) loss: 0.847088 \n",
      "(iter 88) loss: 0.846972 \n",
      "(iter 89) loss: 0.846859 \n",
      "(iter 90) loss: 0.846747 \n",
      "(iter 91) loss: 0.846637 \n",
      "(iter 92) loss: 0.846531 \n",
      "(iter 93) loss: 0.846426 \n",
      "(iter 94) loss: 0.846323 \n",
      "(iter 95) loss: 0.846222 \n",
      "(iter 96) loss: 0.846123 \n",
      "(iter 97) loss: 0.846025 \n",
      "(iter 98) loss: 0.845928 \n",
      "(iter 99) loss: 0.845834 \n"
     ]
    },
    {
     "data": {
      "image/png": "[encoded data removed]",
      "text/plain": [
       "<Figure size 640x480 with 1 Axes>"
      ]
     },
     "metadata": {},
     "output_type": "display_data"
    }
   ],
   "source": [
    "import cvxpy as cp\n",
    "import numpy as np\n",
    "import torch\n",
    "from scipy.linalg import solve_discrete_are\n",
    "from scipy.linalg import sqrtm\n",
    "\n",
    "from cvxpylayers.torch import CvxpyLayer\n",
    "\n",
    "# torch.cuda.set_device(0)\n",
    "\n",
    "# torch.cuda.set_device('cpu')\n",
    "\n",
    "# Generate data\n",
    "torch.manual_seed(1)\n",
    "np.random.seed(1)\n",
    "\n",
    "n = 2\n",
    "m = 3\n",
    "\n",
    "A = np.eye(n) + 1e-2 * np.random.randn(n, n)\n",
    "B = 1e-2 / 3 * np.random.randn(n, m)\n",
    "Q = np.eye(n)\n",
    "R = np.eye(m)\n",
    "\n",
    "# Compute LQR control policy\n",
    "P_lqr = solve_discrete_are(A, B, Q, R)\n",
    "P = R + B.T@P_lqr@B\n",
    "P_sqrt_lqr = sqrtm(P)\n",
    "\n",
    "# Construct CVXPY problem and layer\n",
    "x_cvxpy = cp.Parameter((n, 1))\n",
    "P_sqrt_cvxpy = cp.Parameter((m, m))\n",
    "P_21_cvxpy = cp.Parameter((n, m))\n",
    "q_cvxpy = cp.Parameter((m, 1))\n",
    "\n",
    "u_cvxpy = cp.Variable((m, 1))\n",
    "y_cvxpy = cp.Variable((n, 1))\n",
    "\n",
    "objective = .5 * cp.sum_squares(P_sqrt_cvxpy @ u_cvxpy) + x_cvxpy.T @ y_cvxpy + q_cvxpy.T @ u_cvxpy\n",
    "problem = cp.Problem(cp.Minimize(objective), [cp.norm(u_cvxpy) <= 1, y_cvxpy == P_21_cvxpy @ u_cvxpy])\n",
    "assert problem.is_dpp()\n",
    "policy = CvxpyLayer(\n",
    "    problem,\n",
    "    [x_cvxpy, P_sqrt_cvxpy, P_21_cvxpy, q_cvxpy],\n",
    "    [u_cvxpy])\n",
    "\n",
    "import matplotlib.pyplot as plt\n",
    "\n",
    "def train(iters):\n",
    "    # Initialize with LQR control lyapunov function\n",
    "    P_sqrt = torch.from_numpy(P_sqrt_lqr).requires_grad_(True)\n",
    "    P_sqrt.to(torch.float32)\n",
    "    \n",
    "    P_21 = torch.from_numpy(A.T @ P_lqr @ B).requires_grad_(True)\n",
    "    \n",
    "    P_sqrt.to(cuda0)\n",
    "    P_21.to(cuda0)\n",
    "\n",
    "    q = torch.zeros((m, 1), dtype=torch.float32, requires_grad=True, device=cuda0)\n",
    "    variables = [P_sqrt, P_21, q]\n",
    "    A_tch, B_tch, Q_tch, R_tch = map(torch.from_numpy, [A, B, Q, R])\n",
    "    \n",
    "    A_tch = A_tch.to(cuda0)\n",
    "    A_tch = A_tch.to(torch.float32)\n",
    "    B_tch = B_tch.to(cuda0)\n",
    "    B_tch = B_tch.to(torch.float32)\n",
    "    Q_tch = Q_tch.to(cuda0)\n",
    "    Q_tch = Q_tch.to(torch.float32)\n",
    "    R_tch = R_tch.to(cuda0)\n",
    "    R_tch = R_tch.to(torch.float32)\n",
    "\n",
    "    def g(x, u):\n",
    "        return (x.t() @ Q_tch @ x + u.t() @ R_tch @ u).squeeze()\n",
    "\n",
    "    def evaluate(x0, P_sqrt, P_21, q, T):\n",
    "        x = x0\n",
    "        x = x.to(cuda0)\n",
    "        cost = 0.\n",
    "        for _ in range(T):\n",
    "            P_sqrt = P_sqrt.to(cuda0)\n",
    "            P_sqrt = P_sqrt.to(torch.float32)\n",
    "            P_21 = P_21.to(cuda0)\n",
    "            P_21 = P_21.to(torch.float32)\n",
    "            q = q.to(cuda0)\n",
    "            q = q.to(torch.float32)\n",
    "\n",
    "            u, = policy(x, P_sqrt, P_21, q)\n",
    "            cost += g(x, u) / T\n",
    "            x = A_tch @ x + B_tch @ u + .2 * torch.randn((n, 1), device=cuda0)\n",
    "        return cost\n",
    "\n",
    "    def eval_loss(N=8, T=25):\n",
    "        return sum([\n",
    "            evaluate(\n",
    "                torch.zeros((n, 1), device=cuda0),\n",
    "                P_sqrt,\n",
    "                P_21,\n",
    "                q,\n",
    "                T=T\n",
    "            )\n",
    "            for _ in range(N)\n",
    "        ]) / N\n",
    "\n",
    "    results = []\n",
    "    optimizer = torch.optim.SGD(variables, lr=.02, momentum=.9)\n",
    "    for i in range(iters):\n",
    "        # use same seeds each iteration to get pretty training plot\n",
    "        torch.manual_seed(1)\n",
    "        np.random.seed(1)\n",
    "        optimizer.zero_grad()\n",
    "        loss = eval_loss()\n",
    "        loss.backward()\n",
    "        optimizer.step()\n",
    "        results.append(loss.item())\n",
    "        print(\"(iter %d) loss: %g \" % (i, results[-1]))\n",
    "    return results\n",
    "\n",
    "\n",
    "results = train(iters=100)\n",
    "\n",
    "plt.figure()\n",
    "plt.plot(results)\n",
    "plt.xlabel('iteration')\n",
    "plt.ylabel('average cost')\n",
    "plt.savefig(\"adp.pdf\")\n",
    "plt.show()"
   ]
  },
  {
   "cell_type": "code",
   "execution_count": null,
   "id": "38c551bf",
   "metadata": {},
   "outputs": [],
   "source": []
  }
 ],
 "metadata": {
  "kernelspec": {
   "display_name": "Python 3 (ipykernel)",
   "language": "python",
   "name": "python3"
  },
  "language_info": {
   "codemirror_mode": {
    "name": "ipython",
    "version": 3
   },
   "file_extension": ".py",
   "mimetype": "text/x-python",
   "name": "python",
   "nbconvert_exporter": "python",
   "pygments_lexer": "ipython3",
   "version": "3.9.13"
  }
 },
 "nbformat": 4,
 "nbformat_minor": 5
}
