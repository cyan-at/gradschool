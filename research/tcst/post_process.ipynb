{
 "cells": [
  {
   "cell_type": "code",
   "execution_count": 1,
   "id": "ebe66ead",
   "metadata": {},
   "outputs": [],
   "source": [
    "import numpy as np\n",
    "import sys, os, time\n",
    "import matplotlib.pyplot as plt\n",
    "from scipy import stats\n",
    "\n",
    "from scipy.interpolate import griddata\n",
    "from scipy.interpolate import interp1d\n",
    "from scipy import interpolate\n",
    "from mpl_toolkits import mplot3d\n",
    "from matplotlib import cm\n",
    "import numpy as np\n",
    "import matplotlib.pyplot as plt\n",
    "from matplotlib.figure import Figure\n",
    "from mat4py import loadmat\n",
    "\n",
    "from pylab import figure, show\n",
    "from mpl_toolkits.mplot3d import Axes3D\n",
    "\n",
    "from scipy.stats import truncnorm\n",
    "import numpy as np\n",
    "from matplotlib import rc\n",
    "import matplotlib.pyplot as plt\n",
    "from matplotlib import cm\n",
    "from mpl_toolkits.mplot3d import Axes3D\n",
    "from matplotlib.patches import FancyArrowPatch\n",
    "from mpl_toolkits.mplot3d import proj3d\n",
    "from mpl_toolkits.axes_grid1 import ImageGrid\n",
    "from matplotlib.colors import LightSource\n",
    "from scipy.stats import gaussian_kde\n",
    "%matplotlib inline\n",
    "\n",
    "import matplotlib\n",
    "import numpy as np\n",
    "import matplotlib.pyplot as plt"
   ]
  },
  {
   "cell_type": "code",
   "execution_count": 2,
   "id": "65d3f86a",
   "metadata": {},
   "outputs": [],
   "source": [
    "def get_u2(test, output_tensor, inputs_tensor, args, batchsize):\n",
    "    # import ipdb; ipdb.set_trace()\n",
    "\n",
    "    t0_u = test[:batchsize, inputs.shape[1] + 3 - 1:inputs.shape[1] + 5 - 1]\n",
    "    tT_u = test[batchsize:2*batchsize, inputs.shape[1] + 3 - 1:inputs.shape[1] + 5 - 1]\n",
    "    tt_u = test[2*batchsize:, inputs.shape[1] + 3 - 1:inputs.shape[1] + 5 - 1]\n",
    "    print(\n",
    "        np.max(t0_u),\n",
    "        np.max(tT_u),\n",
    "        np.max(tt_u)\n",
    "    )\n",
    "\n",
    "    return t0_u, tT_u, tt_u"
   ]
  },
  {
   "cell_type": "code",
   "execution_count": 3,
   "id": "dd7d741f",
   "metadata": {},
   "outputs": [],
   "source": [
    "def do_integration2(control_data, d, T_0, T_t, mu_0, sigma_0, args, sde, sde2):\n",
    "    # dt = (T_t - T_0)/(args.bif)\n",
    "    # ts = np.arange(T_0, T_t + dt, dt)\n",
    "    ts = torch.linspace(T_0, T_t, int(T_t * 500), device=cuda0)\n",
    "    # ts = torch.linspace(T_0, 1, int(1 * 500), device=cuda0)\n",
    "\n",
    "    # import ipdb; ipdb.set_trace()\n",
    "\n",
    "    initial_sample = np.random.multivariate_normal(\n",
    "        np.array(mu_0), np.eye(d)*sigma_0, args.M) # 100 x 3\n",
    "\n",
    "    print(sigma_0)\n",
    "\n",
    "    v_scales = [float(x) for x in args.v_scale.split(\",\")]\n",
    "    biases = [float(x) for x in args.bias.split(\",\")]\n",
    "\n",
    "    ##############################\n",
    "\n",
    "    all_results = {}\n",
    "\n",
    "    mus = np.zeros(d*2)\n",
    "    variances = np.zeros(d*2)\n",
    "\n",
    "    without_control = np.empty(\n",
    "        (\n",
    "            initial_sample.shape[0],\n",
    "            initial_sample.shape[1],\n",
    "            len(ts),\n",
    "        ))\n",
    "\n",
    "    with_control = np.empty(\n",
    "        (\n",
    "            initial_sample.shape[0],\n",
    "            initial_sample.shape[1],\n",
    "            len(ts),\n",
    "        ))\n",
    "\n",
    "    initial_sample_tensor = torch.tensor(initial_sample,\n",
    "        dtype=torch.float32, device=cuda0)\n",
    "\n",
    "    # import ipdb; ipdb.set_trace()\n",
    "\n",
    "    ts = ts.to(cuda0)\n",
    "\n",
    "    for i in range(initial_sample_tensor.shape[0]):\n",
    "        y0 = initial_sample_tensor[i, :]\n",
    "        y0 = torch.reshape(y0, [1, -1])\n",
    "\n",
    "        # import ipdb; ipdb.set_trace()\n",
    "\n",
    "        bm = torchsde.BrownianInterval(\n",
    "            t0=float(T_0),\n",
    "            t1=float(T_t),\n",
    "            size=y0.shape,\n",
    "            device=cuda0,\n",
    "        )  # We need space-time Levy area to use the SRK solver\n",
    "        \n",
    "        dt = 1/(T_t*500)\n",
    "        dt = 0.01\n",
    "\n",
    "        y_pred = torchsde.sdeint(sde, y0, ts, method='euler', bm=bm, dt=dt).squeeze()\n",
    "        # calculate predictions\n",
    "        without_control[i, :, :] = y_pred.detach().cpu().numpy().T\n",
    "\n",
    "        y_pred = torchsde.sdeint(sde2, y0, ts, method='euler', bm=bm, dt=dt).squeeze()\n",
    "        with_control[i, :, :] = y_pred.detach().cpu().numpy().T\n",
    "\n",
    "        print(i)\n",
    "        print(y0)\n",
    "        print(y_pred[-1, :])\n",
    "\n",
    "    for d_i in range(d):\n",
    "        mus[2*d_i] = np.mean(with_control[:, d_i, -1])\n",
    "        variances[2*d_i] = np.var(with_control[:, d_i, -1])\n",
    "\n",
    "        mus[2*d_i+1] = np.mean(without_control[:, d_i, -1])\n",
    "        variances[2*d_i+1] = np.var(without_control[:, d_i, -1])\n",
    "\n",
    "    ts = ts.detach().cpu().numpy()\n",
    "\n",
    "    return ts, initial_sample, with_control, without_control,\\\n",
    "        None, mus, variances"
   ]
  },
  {
   "cell_type": "code",
   "execution_count": 15,
   "id": "91e7a975",
   "metadata": {},
   "outputs": [],
   "source": [
    "sys.path.insert(0,'./training/iman/')\n",
    "from train import *\n",
    "\n",
    "d = 2\n",
    "batchsize = None\n",
    "\n",
    "d = 2\n",
    "N = 15\n",
    "batchsize = None\n",
    "\n",
    "mu_0 = [0.35, 0.35]\n",
    "\n",
    "sigma = 0.1\n",
    "T_t = 200.0\n",
    "bcc = np.array([0.41235, 0.37605])\n",
    "\n",
    "class Container(object):\n",
    "    state_bound_min = 0.1\n",
    "    state_bound_max = 0.6\n",
    "    bound_u = 0\n",
    "\n",
    "    bif = 100000\n",
    "    batchsize2 = \"5000\"\n",
    "    batch2_period = 5000\n",
    "    batchsize = \"\"\n",
    "    \n",
    "    diff_on_cpu = 1\n",
    "    grid_n = 30\n",
    "    interp_mode = \"nearest\"\n",
    "    \n",
    "    M = 50\n",
    "    v_scale = \"1.0\"\n",
    "    bias = \"1.0\"\n",
    "    \n",
    "    testdat = './training/iman/test.dat'\n",
    "    N = 15\n",
    "    modelpt = './training/iman/tt200_2d_mse-15000.pt'\n",
    "    \n",
    "    sigma = sigma\n",
    "    T_t = T_t\n",
    "args = Container()\n",
    "\n",
    "N = args.N"
   ]
  },
  {
   "cell_type": "code",
   "execution_count": 5,
   "id": "52519186",
   "metadata": {},
   "outputs": [
    {
     "name": "stdout",
     "output_type": "stream",
     "text": [
      "test.shape (5450, 7)\n",
      "found 2 dimension state space\n"
     ]
    }
   ],
   "source": [
    "test = np.loadtxt(args.testdat)\n",
    "\n",
    "print(\"test.shape\", test.shape)\n",
    "d = test.shape[1] - 1 - 4 # one for time, 4 for pinn output\n",
    "print(\"found %d dimension state space\" % (d))\n",
    "M = N**d"
   ]
  },
  {
   "cell_type": "code",
   "execution_count": 6,
   "id": "4d2a2cd3",
   "metadata": {},
   "outputs": [
    {
     "name": "stdout",
     "output_type": "stream",
     "text": [
      "hello?\n",
      "hello?\n",
      "hello?\n",
      "hello?\n",
      "hello?\n",
      "hello?\n",
      "using model:  ./sde/T_t200_2D/15fold_3_2_layer_model.pt\n",
      "Using GPU.\n",
      "test.shape (5450, 7)\n",
      "found 2 dimension state space\n"
     ]
    }
   ],
   "source": [
    "sys.path.insert(0, './sde/T_t200_2D')\n",
    "from trained_sde_model import SDE\n",
    "\n",
    "sde = SDE()\n",
    "\n",
    "files = glob.glob(\n",
    "    sde_path + \"/*.pt\", \n",
    "    recursive = False)\n",
    "assert(len(files) == 1)\n",
    "print(\"using model: \", files[0])\n",
    "sde.load_state_dict(torch.load(files[0]))\n",
    "\n",
    "if torch.cuda.is_available():\n",
    "    print(\"Using GPU.\")\n",
    "    sde = sde.to(cuda0)\n",
    "# set model to evaluation mode\n",
    "sde.eval()\n",
    "    \n",
    "sde.r = torch.tensor(np.array([0.0]*2), dtype=torch.float32)\n",
    "sde.r = sde.r.reshape([-1, 2])\n",
    "\n",
    "test = np.loadtxt(args.testdat)\n",
    "print(\"test.shape\", test.shape)\n",
    "d = test.shape[1] - 1 - 4 # one for time, 4 for pinn output\n",
    "print(\"found %d dimension state space\" % (d))\n",
    "M = N**d"
   ]
  },
  {
   "cell_type": "code",
   "execution_count": 7,
   "id": "143c5ca1",
   "metadata": {},
   "outputs": [
    {
     "name": "stdout",
     "output_type": "stream",
     "text": [
      "(5450, 1)\n"
     ]
    }
   ],
   "source": [
    "\n",
    "data = np.genfromtxt('./training/iman/test.dat')\n",
    "points=data[:,0:2]\n",
    "inputs=data[:,4].reshape(-1,1)\n",
    "psi=data[:,2].reshape(-1,1)\n",
    "print(inputs.shape)\n",
    "\n",
    "fig, ax = plt.subplots(1,1)\n",
    "ax.plot(points[:,1:2], points[:,0:1], '.')\n",
    "ax.set_xlabel(r'$t$ [s]', fontsize=16)\n",
    "ax.set_ylabel(r\"$\\langle C_{6} \\rangle$ \", fontsize=16,rotation='horizontal')\n",
    "ax.yaxis.set_label_coords(-0.07, 0.5)\n",
    "ax.xaxis.set_label_coords(0.5, -.1)\n",
    "plt.tight_layout()\n",
    "fig.set_size_inches(8,4)\n",
    "plt.show()"
   ]
  },
  {
   "cell_type": "code",
   "execution_count": 8,
   "id": "f6c01522",
   "metadata": {},
   "outputs": [
    {
     "name": "stdout",
     "output_type": "stream",
     "text": [
      "abhishek\n",
      "abhishek\n",
      "abhishek\n",
      "abhi\n",
      "sampling domain by  5000\n",
      "num_test NONE\n",
      "hello?\n",
      "hello?\n",
      "hello?\n",
      "hello?\n",
      "hello?\n",
      "Compiling model...\n",
      "'compile' took 0.000076 s\n",
      "\n"
     ]
    }
   ],
   "source": [
    "model, meshes = get_model(\n",
    "    d,\n",
    "    N,\n",
    "    batchsize,\n",
    "    0,\n",
    "    \"tanh\",\n",
    "\n",
    "    mu_0,\n",
    "    sigma,\n",
    "\n",
    "    bcc,\n",
    "    sigma,\n",
    "\n",
    "    T_t,\n",
    "    args,\n",
    "    sde.network_f,\n",
    "    sde.network_g,\n",
    ")\n",
    "model.restore(args.modelpt)"
   ]
  },
  {
   "cell_type": "code",
   "execution_count": 9,
   "id": "00afc6ec",
   "metadata": {},
   "outputs": [
    {
     "name": "stdout",
     "output_type": "stream",
     "text": [
      "inputs.shape (5450, 3)\n",
      "inputs.shape (5450, 3)\n"
     ]
    }
   ],
   "source": [
    "inputs = np.float32(test[:, :d+1])\n",
    "\n",
    "print(\"inputs.shape\", inputs.shape)\n",
    "\n",
    "inputs = np.vstack((\n",
    "    model.data.bc_points(),\n",
    "    model.data.train_x_all\n",
    "))\n",
    "\n",
    "print(\"inputs.shape\", inputs.shape)"
   ]
  },
  {
   "cell_type": "code",
   "execution_count": 10,
   "id": "2f72db25",
   "metadata": {},
   "outputs": [
    {
     "name": "stdout",
     "output_type": "stream",
     "text": [
      "batchsize 225 inputs.shape (5450, 3) d 2\n",
      "found T_t 200.0\n",
      "keeping input on cpu\n",
      "0.8249644 0.017827593 0.52377063\n",
      "# tt_di nans: 0 0 54000\n",
      "# tt_di nans: 1 0 54000\n"
     ]
    }
   ],
   "source": [
    "test, T_t,\\\n",
    "rho0, rhoT,\\\n",
    "bc_grids, domain_grids, grid_n_meshes,\\\n",
    "control_data = make_control_data(\n",
    "    model, inputs, N, d, meshes, args, get_u2)"
   ]
  },
  {
   "cell_type": "code",
   "execution_count": 11,
   "id": "e7f56b9b",
   "metadata": {},
   "outputs": [
    {
     "name": "stdout",
     "output_type": "stream",
     "text": [
      "hello?\n",
      "hello?\n",
      "hello?\n",
      "hello?\n",
      "hello?\n",
      "hello?\n",
      "Using GPU.\n"
     ]
    },
    {
     "data": {
      "text/plain": [
       "SDE2(\n",
       "  (network_f): Sequential(\n",
       "    (0): Linear(in_features=5, out_features=200, bias=True)\n",
       "    (1): Tanh()\n",
       "    (2): Linear(in_features=200, out_features=200, bias=True)\n",
       "    (3): Tanh()\n",
       "    (4): Linear(in_features=200, out_features=2, bias=True)\n",
       "  )\n",
       "  (network_g): Sequential(\n",
       "    (0): Linear(in_features=5, out_features=200, bias=True)\n",
       "    (1): Tanh()\n",
       "    (2): Linear(in_features=200, out_features=200, bias=True)\n",
       "    (3): Tanh()\n",
       "    (4): Linear(in_features=200, out_features=2, bias=True)\n",
       "  )\n",
       ")"
      ]
     },
     "execution_count": 11,
     "metadata": {},
     "output_type": "execute_result"
    }
   ],
   "source": [
    "class SDE2(SDE):\n",
    "    def __init__(self, control_data):\n",
    "        super(SDE2, self).__init__()\n",
    "\n",
    "        self.control_data = control_data\n",
    "\n",
    "    def query_u(self, t, y):\n",
    "        if torch.abs(t - 0) < 1e-8:\n",
    "            t_key = 't0'\n",
    "        elif torch.abs(t - 1.0) < 1e-8:\n",
    "            t_key = 'tT'\n",
    "        else:\n",
    "            t_key = 'tt'\n",
    "        t_control_data = self.control_data[t_key]\n",
    "\n",
    "        query = y[0].detach().cpu().numpy()\n",
    "\n",
    "        if t_control_data['grid'].shape[1] == 2 + 1:\n",
    "            t2 = t.detach().cpu().numpy()\n",
    "            query = np.append(query, t2)\n",
    "\n",
    "        if 'grid_tree' in t_control_data:\n",
    "            _, closest_grid_idx = t_control_data['grid_tree'].query(\n",
    "                np.expand_dims(query, axis=0),\n",
    "                k=1)\n",
    "        else:\n",
    "            closest_grid_idx = np.linalg.norm(\n",
    "                query - t_control_data['grid'], ord=1, axis=1).argmin()\n",
    "\n",
    "        u1 = t_control_data['0'][closest_grid_idx]\n",
    "        u2 = t_control_data['1'][closest_grid_idx]\n",
    "\n",
    "        u_tensor = torch.tensor(np.array([u1, u2]), dtype=torch.float32)\n",
    "        u_tensor = u_tensor.reshape([-1, 2])\n",
    "\n",
    "        return u_tensor\n",
    "\n",
    "    # drift\n",
    "    def f(self, t, y): # ~D1\n",
    "        u_tensor = self.query_u(t, y)\n",
    "\n",
    "        t = torch.reshape(t, [-1, 1])\n",
    "        # need to cat the ramp rates on the input vector for y\n",
    "        input_vec = torch.cat([y, u_tensor, t], axis=1)\n",
    "\n",
    "        # print(self.network_f.forward(input_vec).shape)\n",
    "\n",
    "        return self.network_f.forward(input_vec)\n",
    "\n",
    "    # diffusion\n",
    "    def g(self, t, y): # ~D2\n",
    "        \"\"\"\n",
    "        Output of g: should be a single tensor of size\n",
    "        (batch_size, d)\n",
    "        \"\"\"\n",
    "        u_tensor = self.query_u(t, y)\n",
    "\n",
    "        t = torch.reshape(t, [-1, 1])\n",
    "\n",
    "        # need to cat the ramp rates on the input vector for g\n",
    "        input_vec = torch.cat([y, u_tensor, t], axis=1)\n",
    "\n",
    "        # print(\"g\", self.network_g.forward(input_vec))\n",
    "\n",
    "        return self.network_g.forward(input_vec)\n",
    "\n",
    "sde2 = SDE2(control_data)\n",
    "\n",
    "sde2.load_state_dict(torch.load(files[0]))\n",
    "if torch.cuda.is_available():\n",
    "    print(\"Using GPU.\")\n",
    "    sde2 = sde2.to(cuda0)\n",
    "# set model to evaluation mode\n",
    "sde2.eval()"
   ]
  },
  {
   "cell_type": "code",
   "execution_count": null,
   "id": "c97a75e6",
   "metadata": {},
   "outputs": [
    {
     "name": "stdout",
     "output_type": "stream",
     "text": [
      "0.1\n",
      "0\n",
      "tensor([[0.660, 0.582]])\n",
      "tensor([0.243, 0.361], grad_fn=<SliceBackward0>)\n",
      "1\n",
      "tensor([[0.246, 0.510]])\n",
      "tensor([0.256, 0.360], grad_fn=<SliceBackward0>)\n",
      "2\n",
      "tensor([[0.563, 0.350]])\n",
      "tensor([0.206, 0.363], grad_fn=<SliceBackward0>)\n",
      "3\n",
      "tensor([[0.025, 0.001]])\n",
      "tensor([0.246, 0.365], grad_fn=<SliceBackward0>)\n",
      "4\n",
      "tensor([[-0.243,  0.191]])\n",
      "tensor([0.220, 0.358], grad_fn=<SliceBackward0>)\n"
     ]
    }
   ],
   "source": [
    "ts, initial_sample, with_control, without_control,\\\n",
    "    all_results, mus, variances = do_integration2(\n",
    "        control_data, d, T_0, T_t, mu_0, args.sigma,\n",
    "        args, sde, sde2)"
   ]
  },
  {
   "cell_type": "code",
   "execution_count": 14,
   "id": "84929612",
   "metadata": {},
   "outputs": [
    {
     "name": "stdout",
     "output_type": "stream",
     "text": [
      "with: 0.23, 0.00, without: 0.23, 0.00\n",
      "with: 0.37, 0.00, without: 0.37, 0.00\n"
     ]
    }
   ],
   "source": [
    "for j in range(2):\n",
    "    print(\n",
    "        'with: %.2f, %.2f, without: %.2f, %.2f' % (\n",
    "            mus[2*j], variances[2*j],\n",
    "            mus[2*j+1], variances[2*j+1]))"
   ]
  }
 ],
 "metadata": {
  "kernelspec": {
   "display_name": "Python 3 (ipykernel)",
   "language": "python",
   "name": "python3"
  },
  "language_info": {
   "codemirror_mode": {
    "name": "ipython",
    "version": 3
   },
   "file_extension": ".py",
   "mimetype": "text/x-python",
   "name": "python",
   "nbconvert_exporter": "python",
   "pygments_lexer": "ipython3",
   "version": "3.9.13"
  }
 },
 "nbformat": 4,
 "nbformat_minor": 5
}
