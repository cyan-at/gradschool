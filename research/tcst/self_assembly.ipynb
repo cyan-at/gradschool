{
 "cells": [
  {
   "cell_type": "code",
   "execution_count": 1,
   "id": "3463c219",
   "metadata": {},
   "outputs": [
    {
     "name": "stdout",
     "output_type": "stream",
     "text": [
      "pytorch\n"
     ]
    },
    {
     "name": "stderr",
     "output_type": "stream",
     "text": [
      "Using backend: pytorch\n",
      "\n"
     ]
    },
    {
     "name": "stdout",
     "output_type": "stream",
     "text": [
      "True\n",
      "1\n",
      "NVIDIA RTX A2000 Laptop GPU\n",
      "11.6\n",
      "0\n",
      "pytorch\n"
     ]
    },
    {
     "name": "stderr",
     "output_type": "stream",
     "text": [
      "/usr/local/home/cyan3/miniforge/envs/tf/lib/python3.9/site-packages/deepxde/backend/pytorch/tensor.py:66: UserWarning: To copy construct from a tensor, it is recommended to use sourceTensor.clone().detach() or sourceTensor.clone().detach().requires_grad_(True), rather than torch.tensor(sourceTensor).\n",
      "  return torch.tensor(initial_value, dtype=dtype, requires_grad=True)\n"
     ]
    },
    {
     "name": "stdout",
     "output_type": "stream",
     "text": [
      "no SDE\n"
     ]
    },
    {
     "ename": "ModuleNotFoundError",
     "evalue": "No module named 'trained_sde_model'",
     "output_type": "error",
     "traceback": [
      "\u001b[0;31m---------------------------------------------------------------------------\u001b[0m",
      "\u001b[0;31mModuleNotFoundError\u001b[0m                       Traceback (most recent call last)",
      "Cell \u001b[0;32mIn[1], line 72\u001b[0m\n\u001b[1;32m     70\u001b[0m sde_path \u001b[38;5;241m=\u001b[39m \u001b[38;5;124m'\u001b[39m\u001b[38;5;124m../../sde/T_t200_2D/\u001b[39m\u001b[38;5;124m'\u001b[39m\n\u001b[1;32m     71\u001b[0m sys\u001b[38;5;241m.\u001b[39mpath\u001b[38;5;241m.\u001b[39minsert(\u001b[38;5;241m0\u001b[39m,sde_path)\n\u001b[0;32m---> 72\u001b[0m \u001b[38;5;28;01mfrom\u001b[39;00m \u001b[38;5;21;01mtrained_sde_model\u001b[39;00m \u001b[38;5;28;01mimport\u001b[39;00m \u001b[38;5;241m*\u001b[39m\n\u001b[1;32m     74\u001b[0m \u001b[38;5;28;01mimport\u001b[39;00m \u001b[38;5;21;01margparse\u001b[39;00m\n\u001b[1;32m     75\u001b[0m \u001b[38;5;28;01mimport\u001b[39;00m \u001b[38;5;21;01mglob\u001b[39;00m\n",
      "\u001b[0;31mModuleNotFoundError\u001b[0m: No module named 'trained_sde_model'"
     ]
    }
   ],
   "source": [
    "# 0 define backend\n",
    "import sys, os, time\n",
    "\n",
    "# %env DDE_BACKEND=tensorflow.compat.v1\n",
    "# %env XLA_FLAGS=--xla_gpu_cuda_data_dir=/usr/local/home/cyan3/miniforge/envs/tf\n",
    "\n",
    "os.environ['DDE_BACKEND'] = \"pytorch\" # v2\n",
    "os.environ['XLA_FLAGS'] = \"--xla_gpu_cuda_data_dir=/usr/local/home/cyan3/miniforge/envs/tf\"\n",
    "\n",
    "# https://stackoverflow.com/questions/68614547/tensorflow-libdevice-not-found-why-is-it-not-found-in-the-searched-path\n",
    "# this directory has /nvvm/libdevice/libdevice.10.bc\n",
    "\n",
    "print(os.environ['DDE_BACKEND'])\n",
    "\n",
    "import torch\n",
    "torch.set_printoptions(precision=3)\n",
    "torch.set_printoptions(sci_mode=False)\n",
    "print(torch.cuda.is_available())\n",
    "print(torch.cuda.device_count())\n",
    "print(torch.cuda.get_device_name(0))\n",
    "print(torch.version.cuda)\n",
    "print(torch.cuda.current_device())\n",
    "torch.cuda.set_device(0)\n",
    "\n",
    "# https://pytorch.org/tutorials/recipes/recipes/tuning_guide.html\n",
    "try:\n",
    "    torch.jit.enable_onednn_fusion(True)\n",
    "except:\n",
    "    print(\"no onednn\")\n",
    "\n",
    "cuda0 = torch.device('cuda:0')\n",
    "cpu = torch.device('cpu')\n",
    "device = cuda0\n",
    "\n",
    "import deepxde as dde\n",
    "import numpy as np\n",
    "from numpy import linalg as LA\n",
    "import math\n",
    "import matplotlib.pyplot as plt\n",
    "import pylab\n",
    "from os.path import dirname, join as pjoin\n",
    "from scipy import stats\n",
    "import scipy.io\n",
    "from scipy.stats import truncnorm, norm\n",
    "from scipy.optimize import linprog\n",
    "from scipy import sparse\n",
    "from scipy.stats import multivariate_normal\n",
    "from scipy.spatial.distance import cdist\n",
    "if dde.backend.backend_name == \"pytorch\":\n",
    "    exp = dde.backend.torch.exp\n",
    "else:\n",
    "    from deepxde.backend import tf\n",
    "    exp = tf.exp\n",
    "import cvxpy as cp\n",
    "import numpy as np\n",
    "from scipy.linalg import solve_discrete_are\n",
    "from scipy.linalg import sqrtm as sqrtm2\n",
    "\n",
    "######################################\n",
    "\n",
    "import torch\n",
    "from torch.autograd import Function\n",
    "import numpy as np\n",
    "import scipy.linalg\n",
    "\n",
    "sys.path.insert(0,'..')\n",
    "from common import *\n",
    "from layers import *\n",
    "\n",
    "sde_path = '../../sde/T_t200_2D/'\n",
    "sys.path.insert(0,sde_path)\n",
    "from trained_sde_model import *\n",
    "\n",
    "import argparse\n",
    "import glob"
   ]
  },
  {
   "cell_type": "code",
   "execution_count": null,
   "id": "ae1e930b",
   "metadata": {},
   "outputs": [],
   "source": [
    "params = {'backend': 'ps',\n",
    "          'xtick.labelsize': 12,\n",
    "          'ytick.labelsize': 12,\n",
    "          'legend.handlelength': 1,\n",
    "          'legend.borderaxespad': 0,\n",
    "          'font.family': 'serif',\n",
    "          'font.serif': ['Computer Modern Roman'],\n",
    "          'ps.usedistiller': 'xpdf',\n",
    "          'text.usetex': True,\n",
    "          # include here any neede package for latex\n",
    "          'text.latex.preamble': [r'\\usepackage{amsmath}'],\n",
    "          }\n",
    "plt.rcParams.update(params)\n",
    "plt.style.use('seaborn-white')"
   ]
  },
  {
   "cell_type": "code",
   "execution_count": null,
   "id": "9afdc78b",
   "metadata": {},
   "outputs": [],
   "source": [
    "if dde.backend.backend_name == \"pytorch\":\n",
    "    exp = dde.backend.torch.exp\n",
    "else:\n",
    "    from deepxde.backend import tf\n",
    "\n",
    "    exp = tf.exp\n"
   ]
  },
  {
   "cell_type": "code",
   "execution_count": null,
   "id": "79a1d1ce",
   "metadata": {},
   "outputs": [],
   "source": [
    "S3 = dde.Variable(1.0)"
   ]
  },
  {
   "cell_type": "code",
   "execution_count": null,
   "id": "21a1aecb",
   "metadata": {},
   "outputs": [],
   "source": [
    "\n",
    "def pde(x, y):\n",
    "    \n",
    "    \"\"\"Self assembly system.\n",
    "    dy1_t = 1/2*(y3^2)-dy1_x*D1-dy1_xx*D2\n",
    "    dy2_t = -dD1y2_x +dD2y2_xx\n",
    "    y3=dy1_x*dD1_y3+dy1_xx*dD2_y3\n",
    "    All collocation-based residuals are defined here\n",
    "    Including a penalty function for negative solutions\n",
    "    \"\"\"\n",
    "    y1, y2, y3 = y[:, 0:1], y[:, 1:2], y[:, 2:]\n",
    "    dy1_t = dde.grad.jacobian(y1, x, j=1)\n",
    "    dy1_x = dde.grad.jacobian(y1, x, j=0)\n",
    "    dy1_xx = dde.grad.hessian(y1, x, j=0)\n",
    "\n",
    "    D2=d*tf.math.exp(-(x[:, 0:1]-b-c*y3)*(x[:, 0:1]-b-c*y3))+f\n",
    "    F=a*K*T*(x[:, 0:1]-b-c*y3)*(x[:, 0:1]-b-c*y3)\n",
    "#     dD2_x=dde.grad.jacobian(D2, x, j=0)\n",
    "#     dF_x=dde.grad.jacobian(F, x, j=0)\n",
    "#     D1=dD2_x-dF_x*(D2/(K*T))\n",
    "    D1=-2*(x[:, 0:1]-b-c*y3)*((d*tf.math.exp(-(x[:, 0:1]-b-c*y3)*(x[:, 0:1]-b-c*y3)))+a*D2)\n",
    "    dy2_t = dde.grad.jacobian(y2, x, j=1)\n",
    "    dD1y2_x=dde.grad.jacobian(D1*y2, x, j=0)\n",
    "    dD2y2_xx = dde.grad.hessian(D2*y2, x,  j=0)\n",
    "    dD1_y3=dde.grad.jacobian(D1, y3)\n",
    "    dD2_y3=dde.grad.jacobian(D2, y3)\n",
    "    tt=100\n",
    "\n",
    "    \n",
    "    \n",
    "    return [\n",
    "        dy1_t-.5*(S3*y3*S3*y3)+D1*dy1_x+D2*dy1_xx,\n",
    "        dy2_t+dD1y2_x-dD2y2_xx,\n",
    "        S3*y3-dy1_x*dD1_y3-dy1_xx*dD2_y3,\n",
    "#         neg_loss,\n",
    "#         neg_loss_y2,\n",
    "    ]\n"
   ]
  },
  {
   "cell_type": "code",
   "execution_count": null,
   "id": "c3eb598b",
   "metadata": {},
   "outputs": [],
   "source": [
    "def boundary(_, on_initial):\n",
    "    return on_initial\n",
    "\n",
    "\n",
    "def pdf1d_T(x):\n",
    "    mu = 5.\n",
    "    sigma = .1\n",
    "    a, b = (0. - mu) / sigma, (6. - mu) / sigma\n",
    "    rho_T=truncnorm.pdf(x, a, b, loc = mu, scale = sigma)\n",
    "    return rho_T\n",
    "\n",
    "\n",
    "def pdf1d_0(x):\n",
    "    sigma = .2\n",
    "    mu=0.\n",
    "    a, b = (0. - mu) / sigma, (6. - mu) / sigma\n",
    "    rho_0=truncnorm.pdf(x, a, b, loc = mu, scale = sigma)\n",
    "    return rho_0\n",
    "\n",
    "\n",
    "# def modify_output(X, Y):\n",
    "#     y1, y2, y3  = Y[:, 0:1], Y[:, 1:2], Y[:, 2:3]\n",
    "#     u_new = tf.clip_by_value(y3, clip_value_min = .5, clip_value_max = 4)\n",
    "#     return tf.concat((y1, y2, u_new), axis=1)\n"
   ]
  },
  {
   "cell_type": "code",
   "execution_count": null,
   "id": "0ffb8a3a",
   "metadata": {},
   "outputs": [],
   "source": [
    "\n",
    "x_T = np.transpose(np.linspace(0., 6., 1000))\n",
    "T_t=200. #Terminal time\n",
    "x_T=x_T.reshape(len(x_T),1)\n",
    "time=T_t*np.ones(( 1,len(x_T))).reshape(len(x_T),1)\n",
    "rho_T=pdf1d_T(x_T).reshape(len(x_T),1)\n",
    "\n",
    "terminal_time=np.hstack((x_T,time))\n",
    "rho_T_BC = dde.icbc.PointSetBC(terminal_time, rho_T, component=1)\n",
    "\n",
    "a, b, c, d, f= 10., 2.1, 0.75, .0045, 0.0005\n",
    "\n",
    "K, T=1.38066*10**-23, 293.\n",
    "\n",
    "geom = dde.geometry.Interval(0., 6.)\n",
    "timedomain = dde.geometry.TimeDomain(0., T_t)\n",
    "geomtime = dde.geometry.GeometryXTime(geom, timedomain)\n",
    "rho_0_BC = dde.icbc.IC(geomtime, lambda x: pdf1d_0(x[:,0:1]) , boundary, component=1)\n"
   ]
  },
  {
   "cell_type": "code",
   "execution_count": null,
   "id": "487fd549",
   "metadata": {},
   "outputs": [],
   "source": [
    "data = dde.data.TimePDE(geomtime, pde,  [rho_0_BC,rho_T_BC], num_domain=5000, num_initial=500)\n",
    "net = dde.nn.FNN([2] + [70] *3  + [3], \"tanh\", \"Glorot normal\")\n",
    "# net.apply_output_transform(modify_output)\n",
    "# net.apply_output_transform(modify_output)\n",
    "model = dde.Model(data, net)\n"
   ]
  },
  {
   "cell_type": "code",
   "execution_count": null,
   "id": "fa4b449d",
   "metadata": {},
   "outputs": [],
   "source": [
    "loss_func=[\"MSE\",\"MSE\",\"MSE\",\"wass\",\"MSE\"]\n",
    "model.compile(\"adam\", lr=1e-3,loss=loss_func)\n",
    "losshistory, train_state = model.train(epochs=15000)\n",
    "\n"
   ]
  },
  {
   "cell_type": "code",
   "execution_count": null,
   "id": "a04ce059",
   "metadata": {},
   "outputs": [],
   "source": [
    "dde.saveplot(losshistory, train_state, issave=True, isplot=True)"
   ]
  },
  {
   "cell_type": "code",
   "execution_count": null,
   "id": "c7ddc203",
   "metadata": {},
   "outputs": [],
   "source": []
  },
  {
   "cell_type": "code",
   "execution_count": null,
   "id": "90b7cb5d",
   "metadata": {},
   "outputs": [],
   "source": []
  }
 ],
 "metadata": {
  "kernelspec": {
   "display_name": "Python 3 (ipykernel)",
   "language": "python",
   "name": "python3"
  },
  "language_info": {
   "codemirror_mode": {
    "name": "ipython",
    "version": 3
   },
   "file_extension": ".py",
   "mimetype": "text/x-python",
   "name": "python",
   "nbconvert_exporter": "python",
   "pygments_lexer": "ipython3",
   "version": "3.9.13"
  }
 },
 "nbformat": 4,
 "nbformat_minor": 5
}
