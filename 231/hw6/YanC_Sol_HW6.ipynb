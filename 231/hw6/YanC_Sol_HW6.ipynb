{
 "cells": [
  {
   "cell_type": "markdown",
   "metadata": {},
   "source": [
    "# Problem 1 [100 points] Feedback Linearization\n",
    "\n",
    "Consider the dynamics of one-link robotic arm, given by\n",
    "\\begin{align*}\n",
    "J_{1}\\ddot{q}_{1} + F_{1}\\dot{q}_{1} + \\frac{K}{N}\\left(q_2 - \\frac{q_1}{N}\\right) &= \\tau,\\\\\n",
    "J_{2}\\ddot{q}_{2} + F_{2}\\dot{q}_{2} + K\\left(q_2 - \\frac{q_1}{N}\\right) &= -mgd\\cos q_2,\n",
    "\\end{align*}\n",
    "where $q_1,q_2$ denote angular positions (in rad), and $\\tau$ denotes the actuation torque. The parameters $\\{J_i,F_i\\}_{i=1}^{2}$ respectively denote the moments of inertia and rotational damping coeffcients of the actuator shaft (for $i=1$) and the link (for $i=2$), respectively. The parameters $K,N,m,d$ denote the torsional spring constant, the transmission gear ratio, mass of the link, and distance of the center of gravity of the link from a fixed frame of reference, respectively. The **state vector** is $x:=(q_1,q_2,\\dot{q}_1,\\dot{q}_2)^{\\top}\\in [0,2\\pi)^{2}\\times\\mathbb{R}^{2}$ and the **control input** is $u:=\\tau\\in\\mathbb{R}$."
   ]
  },
  {
   "cell_type": "markdown",
   "metadata": {},
   "source": [
    "## (a) [(5+5) + 20 = 30 points] Deciding feedback linearizability\n",
    "\n",
    "(i) Write the dynamics of the robotic arm in **standard control-affine form** $\\dot{x} = f(x) + g(x) u$, i.e., **explicitly write** the drift vector field $f(x)$ and the input vector field $g(x)$, both of size $4\\times 1$, in terms of the state components $x_1, x_2,x_3,x_4$ and the parameters."
   ]
  },
  {
   "cell_type": "markdown",
   "metadata": {},
   "source": [
    "1. We can do some algebra on each equation to isolate the $\\ddot{q_1}$ and $\\ddot{q_2}$ terms on the RHS, and given $\\tau = u$, we can express the dynamics as:\n",
    "\\begin{align}\n",
    "\\dot{x} = \\left[\\begin{matrix} \\dot{q_1} \\\\ \\dot{q_2} \\\\ \\ddot{q_1} \\\\ \\ddot{q_2} \\end{matrix}\\right] = \\left[\\begin{matrix} \\dot{q_1} \\\\ \\dot{q_2} \\\\ \\frac{- F_{1} \\dot{q_1} - \\frac{K \\left(q_2 - \\frac{q_1}{N}\\right)}{N}}{J_{1}} \\\\ \\frac{- F_{2} \\dot{q_2} - K \\left(q_2 - \\frac{q_1}{N}\\right) - d g m \\cos{q_2}}{J_{2}}\\end{matrix}\\right] \\left( f\\left(x\\right) \\right) + \\left[\\begin{matrix}0\\\\0\\\\\\frac{1}{J_{1}}\\\\0\\end{matrix}\\right] \\left( g\\left(x\\right) \\right) u\n",
    "\\end{align}"
   ]
  },
  {
   "cell_type": "markdown",
   "metadata": {},
   "source": [
    "(ii) Determine the region in the state space $[0,2\\pi)^{2}\\times\\mathbb{R}^{2}$, over which this system is full state static feedback linearizable. (**Hint:** use Lec. 16 p. 11, also Step 1 in p. 12.)"
   ]
  },
  {
   "cell_type": "markdown",
   "metadata": {},
   "source": [
    "1. From Lec 16 pg 11, condition (i) we check is that the $M$ matrix has full rank. We see that:\n",
    "\\begin{align}\n",
    "M & = \\left[\\begin{matrix} g(x^{0}) && adj_{f} g (x^{0}) && adj_{f}^{2} g(x^{0}) && adj_{f}^{3} g(x^{0}) \\end{matrix}\\right] \\\\ & = \\left[\\begin{matrix}0 & - \\frac{1}{J_{1}} & - \\frac{F_{1}}{J_{1}^{2}} & - \\frac{F_{1}^{2}}{J_{1}^{3}} - \\frac{K}{J_{1}^{2} N^{2}}\\\\0 & 0 & 0 & - \\frac{K}{J_{1} J_{2} N}\\\\\\frac{1}{J_{1}} & \\frac{F_{1}}{J_{1}^{2}} & \\frac{F_{1}^{2}}{J_{1}^{3}} + \\frac{K}{J_{1}^{2} N^{2}} & \\frac{F_{1}^{3}}{J_{1}^{4}} + \\frac{2 F_{1} K}{J_{1}^{3} N^{2}}\\\\0 & 0 & \\frac{K}{J_{1} J_{2} N} & \\frac{K \\left(F_{1} J_{2} + F_{2} J_{1}\\right)}{J_{1}^{2} J_{2}^{2} N}\\end{matrix}\\right]\n",
    "\\end{align}\n",
    "<br>\n",
    "2. $rank(M) = 4 = n$, it is **full rank** over $[0,2\\pi)^{2}\\times\\mathbb{R}^{2}$ since **no entries are a function of any element of the state**, they are all constant parameters.\n",
    "<br>\n",
    "3. We also need to check condition (ii) from the same reference, we see that:\n",
    "\\begin{align}\n",
    "\\left[\\begin{matrix} g(x^{0}) && adj_{f} g (x^{0})\\end{matrix}\\right] = \\left[\\begin{matrix} 0 \\\\ 0 \\\\ 0 \\\\ 0\\end{matrix}\\right] \\\\\n",
    "\\left[\\begin{matrix} g(x^{0}) && adj_{f}^{2} g (x^{0})\\end{matrix}\\right] = \\left[\\begin{matrix} 0 \\\\ 0 \\\\ 0 \\\\ 0\\end{matrix}\\right] \\\\\n",
    "\\left[\\begin{matrix} adj_{f} g (x^{0}) && adj_{f}^{2} g (x^{0})\\end{matrix}\\right] = \\left[\\begin{matrix} 0 \\\\ 0 \\\\ 0 \\\\ 0\\end{matrix}\\right]\n",
    "\\end{align}\n",
    "<br>\n",
    "4. For each of the lie brackets in 3., we see that the lie bracket does **not** add rank, and each 2 pair of $g(x^{0})$, $adj_{f} g(x^{0})$, $adj_{f}^{2} g(x^{0})$ are  **not** full rank (they are rank(2)). Combining each pair of $g(x^{0})$, $adj_{f} g(x^{0})$, $adj_{f}^{2} g(x^{0})$ with the pair's lie bracket would still be **rank(2) < rank(3)**.\n",
    "<br>\n",
    "5. Then by definition the span **is involute** over $[0,2\\pi)^{2}\\times\\mathbb{R}^{2}$\n",
    "<br>\n",
    "6. Then from Lec 16 pg 11, we've checked for the 2 constructive conditions, and from 16 pg 12, Step 1, we've verified the **system is feedback linearizable**"
   ]
  },
  {
   "cell_type": "markdown",
   "metadata": {},
   "source": [
    "### (b) [10 + 10 = 20 points] Finding $\\lambda(x)$ and $r$\n",
    "\n",
    "(i) **Show that** the scalar field $\\lambda(x)$ in the Theorem given in Lec. 16 p. 10, for this system, can be taken as $\\lambda(x)=x_2$. (**Hint:** use Lec. 16 p. 13, Step 2.)"
   ]
  },
  {
   "cell_type": "markdown",
   "metadata": {},
   "source": [
    "1. We can see that for $\\lambda(x) = x_2$, $\\frac{\\partial{\\lambda}}{\\partial{x}} = \\left[\\begin{matrix} 0 \\\\ 1 \\\\ 0 \\\\ 0\\end{matrix}\\right]$\n",
    "<br>\n",
    "2. We also can see that since $g(x^{0})[2] = adj_{f} g(x^{0})[2] = adj_{f}^{2} g(x^{0})[2] = 0$:\n",
    "\\begin{align}\n",
    "\\mathcal{L}_{g} \\lambda(x) = \\left[\\begin{matrix}0&&0&&\\frac{1}{J_{1}}&&0\\end{matrix}\\right] \\left[\\begin{matrix} 0 \\\\ 1 \\\\ 0 \\\\ 0\\end{matrix}\\right] & = 0 \\\\\n",
    "\\mathcal{L}_{adj_{f} g(x^{0})} \\lambda(x) = \\left[\\begin{matrix}- \\frac{1}{J_{1}} & 0 & \\frac{F_{1}}{J_{1}^{2}} & 0\\end{matrix}\\right] \\left[\\begin{matrix} 0 \\\\ 1 \\\\ 0 \\\\ 0\\end{matrix}\\right] & = 0\\\\\n",
    "\\mathcal{L}_{adj_{f}^{2} g(x^{0})} \\lambda(x) = \\left[\\begin{matrix}- \\frac{F_{1}}{J_{1}^{2}} & 0 & \\frac{F_{1}^{2}}{J_{1}^{3}} + \\frac{K}{J_{1}^{2} N^{2}} & \\frac{K}{J_{1} J_{2} N}\\end{matrix}\\right] \\left[\\begin{matrix} 0 \\\\ 1 \\\\ 0 \\\\ 0\\end{matrix}\\right] & = 0\\\\\n",
    "\\end{align}\n",
    "<br>\n",
    "3. We can also see that since $adj_{f}^{3} g(x^{0})[2] \\neq 0$:\n",
    "\\begin{align}\n",
    "\\mathcal{L}_{adj_{f}^{3} g(x^{0})} \\lambda(x) = \\left[\\begin{matrix}- \\frac{F_{1}^{2}}{J_{1}^{3}} - \\frac{K}{J_{1}^{2} N^{2}} & - \\frac{K}{J_{1} J_{2} N} & \\frac{F_{1}^{3}}{J_{1}^{4}} + \\frac{2 F_{1} K}{J_{1}^{3} N^{2}} & \\frac{K \\left(F_{1} J_{2} + F_{2} J_{1}\\right)}{J_{1}^{2} J_{2}^{2} N}\\end{matrix}\\right]\n",
    " \\left[\\begin{matrix} 0 \\\\ 1 \\\\ 0 \\\\ 0\\end{matrix}\\right] & = - \\frac{K}{J_{1} J_{2} N} \\neq 0\\\\\n",
    "\\end{align}\n",
    "<br>\n",
    "4. Then from Lec 16 pg 13, Step 2, we see that $\\lambda(x) = x_2$ **satisfies the desired system of PDEs**."
   ]
  },
  {
   "cell_type": "markdown",
   "metadata": {},
   "source": [
    "(ii) **By directly computing the relative degree** $r$ (a positive integer), **prove that** the state equation derived in part (a)(i), augmented with the output equation $y=\\lambda(x)=x_2$, indeed has relative degree 4, that is, satisfies the $r=n$ condition in the region determined in part (a)(ii). (**Hint:** use Lec. 15 p. 12 for computing the relative degree)"
   ]
  },
  {
   "cell_type": "markdown",
   "metadata": {},
   "source": [
    "1. We can show first that for our system, $y = h(x) = \\lambda(x) = x_2$, and:\n",
    "\\begin{align}\n",
    "\\mathcal{L}_{g} \\mathcal{L}_{f}^{0} h & = \\mathcal{L}_{g} h = \\mathcal{L}_{g} \\lambda(x) = \\left[\\begin{matrix}0&0&\\frac{1}{J_{1}}&0\\end{matrix}\\right] \\left[\\begin{matrix} 0 \\\\ 1 \\\\ 0 \\\\ 0\\end{matrix}\\right] = 0 \\\\\n",
    "\\mathcal{L}_{g} \\mathcal{L}_{f}^{1} h & = \\mathcal{L}_{g} \\left< \\frac{\\partial{h}}{\\partial{x}}, f \\right> = \\mathcal{L}_{g} \\left< \\left[\\begin{matrix} 0 & 1 & 0 & 0\\end{matrix}\\right], f \\right> = \\mathcal{L}_{g} \\dot{q_2} = \\left[\\begin{matrix}0&0&\\frac{1}{J_{1}}&0\\end{matrix}\\right] \\left[\\begin{matrix} 0 \\\\ 0 \\\\ 0 \\\\ 1\\end{matrix}\\right] = 0 \\\\\n",
    "\\mathcal{L}_{g} \\mathcal{L}_{f}^{2} h & = \\mathcal{L}_{g} \\left< \\frac{\\partial{}}{\\partial{x}} \\mathcal{L}_{f}^{1} h , f \\right> = \\mathcal{L}_{g} \\left< \\frac{\\partial{}}{\\partial{x}} \\dot{q_2} , f \\right> = \\mathcal{L}_{g} \\left< \\left[\\begin{matrix} 0 \\\\ 0 \\\\ 0 \\\\ 1\\end{matrix}\\right] , f \\right> \\\\\n",
    " & = \\mathcal{L}_{g} f[3] = \\left< \\frac{\\partial{}}{\\partial{x}} f[3], g\\right> = \\left< \\left[\\begin{matrix}\\frac{K}{J_{2} N} & \\frac{- K + d g m \\sin{\\left(q_2\\right)}}{J_{2}} & 0 & - \\frac{F_{2}}{J_{2}}\\end{matrix}\\right]\n",
    ", \\left[\\begin{matrix}0 \\\\ 0 \\\\ \\frac{1}{J_{1}} \\\\ 0\\end{matrix}\\right] \\right> = 0 \\\\\n",
    "\\mathcal{L}_{g} \\mathcal{L}_{f}^{3} h & = \\mathcal{L}_{g} \\left< \\frac{\\partial{}}{\\partial{x}} \\mathcal{L}_{f}^{2} h , f \\right> = \\mathcal{L}_{g} \\left< \\frac{\\partial{}}{\\partial{x}} f[3], f\\right> \\\\\n",
    "& = \\mathcal{L}_{g} \\left( - \\frac{F_{2} \\left(- F_{2} \\dot{q_2} - K \\left(q_2 - \\frac{q_1}{N}\\right) - d g m \\cos{\\left(q_2 \\right)}\\right)}{J_{2}^{2}} + \\frac{K \\dot{q_1}}{J_{2} N} + \\frac{\\left(- K + d g m \\sin{\\left(q_2 \\right)}\\right) \\dot{q_2}}{J_{2}} \\right) \\\\\n",
    "& = \\left< \\frac{\\partial{}}{\\partial{x}} \\mathcal{L}_{f}^{3} h , g\\right> = \\frac{K}{J_{1} J_{2} N} \\neq 0\n",
    "\\end{align}\n",
    "<br>\n",
    "2. From 1., we see that $\\mathcal{L}_{g} \\mathcal{L}_{f}^{0} h = \\mathcal{L}_{g} \\mathcal{L}_{f}^{1} h = \\mathcal{L}_{g} \\mathcal{L}_{f}^{2} h = 0$, and $\\mathcal{L}_{g} \\mathcal{L}_{f}^{3} h \\neq 0$\n",
    "<br>\n",
    "3. From 2. and Lec 15 pg 12, we prove that this SISO system has relative degree $3 + 1 = 4 = n$"
   ]
  },
  {
   "cell_type": "markdown",
   "metadata": {},
   "source": [
    "## (c) [(5+5+5+5) + 5 + 25 = 50 points] Normal form and closed loop simulation\n",
    "\n",
    "(i) Use the Steps 3 and 4 in Lec. 16 p. 14-15 to **derive the feedback linearizing tuple** $(\\tau(\\cdot),\\alpha(\\cdot),\\beta(\\cdot))$. **Also clearly write down** the control system in the feedback linearized coordinates with the new $4\\times 1$ state vector $z$ and the new control $v\\in\\mathbb{R}$, where $z:=\\tau(x)$ and $u=\\alpha(x)+\\beta(x)v$."
   ]
  },
  {
   "cell_type": "markdown",
   "metadata": {},
   "source": [
    "1. We can derive $\\alpha(\\cdot)$:\n",
    "\\begin{align}\n",
    "\\alpha(x) & = \\frac{-\\left< \\frac{\\partial{}}{\\partial{x}} \\mathcal{L}_{f}^{3} h , f\\right>}{\\left< \\frac{\\partial{}}{\\partial{x}} \\mathcal{L}_{f}^{3} h , g\\right>} \\\\\n",
    "& = \\frac{F_{2} J_{1} J_{2} K N^{2} \\dot{q_1} + J_{1} J_{2} N^{3} \\left(- F_{2} K + F_{2} d g m \\sin{\\left(q_2 \\right)} - J_{2} d g m \\cos{\\left(q_2 \\right)} \\dot{q_2}\\right) \\dot{q_2} + J_{1} N^{2} \\left(F_{2}^{2} + J_{2} \\left(- K + d g m \\sin{\\left(q_2 \\right)}\\right)\\right) \\left(K \\left(N q_2 - q_1\\right) + N \\left(F_{2} \\dot{q_2} + d g m \\cos{\\left(q_2 \\right)}\\right)\\right) + J_{2}^{2} K \\left(F_{1} N^{2} \\dot{q_1} + K \\left(N q_2 - q_1\\right)\\right)}{J_{2}^{2} K N^{2}}\n",
    "\\end{align}\n",
    "<br>\n",
    "2. We can derive $\\beta(\\cdot)$:\n",
    "\\begin{align}\n",
    "\\beta(x) & = \\frac{1}{\\mathcal{L}_{g} \\mathcal{L}_{f}^{3} \\lambda(x)} = \\frac{J_{1} J_{2} N}{K}\n",
    "\\end{align}\n",
    "<br>\n",
    "3. We can derive $\\tau(\\cdot)$:\n",
    "\\begin{align}\n",
    "\\tau(x) & = \\left( \\begin{matrix} \\lambda(x) \\\\ \\mathcal{L}_{f} \\lambda(x) \\\\ \\mathcal{L}_{f}^{2} \\lambda(x) \\\\ \\mathcal{L}_{f}^{3} \\lambda(x)\\end{matrix} \\right) \\\\\n",
    "& = \\left( \\begin{matrix} q_2 \\\\ \\dot{q_2} \\\\ \\frac{- F_{2} \\dot{q_2} - K \\left(q_2 - \\frac{q_1}{N}\\right) - d g m \\cos{\\left(q_2 \\right)}}{J_{2}}\n",
    " \\\\ - \\frac{F_{2} \\left(- F_{2} \\dot{q_2} - K \\left(q_2 - \\frac{q_1}{N}\\right) - d g m \\cos{\\left(q_2 \\right)}\\right)}{J_{2}^{2}} + \\frac{K \\dot{q_1}}{J_{2} N} + \\frac{\\left(- K + d g m \\sin{\\left(q_2 \\right)}\\right) \\dot{q_2}}{J_{2}} \\end{matrix} \\right)\n",
    "\\end{align}"
   ]
  },
  {
   "cell_type": "markdown",
   "metadata": {},
   "source": [
    "(ii) Give physical interpretation of the components of the vector $z$ (think of their units). "
   ]
  },
  {
   "cell_type": "markdown",
   "metadata": {},
   "source": [
    "1. We see that for the elements of $z = \\tau(x)$\n",
    "<br>\n",
    "2. $z_1$ is joint position\n",
    "<br>\n",
    "3. $z_2$ is velocity of that joint\n",
    "<br>\n",
    "4. $z_3$ is the acceleration of that joint, as we derived in (a)(i)\n",
    "<br>\n",
    "5. $z_4$ is the Lie derivative of $z_3$ along $f$, intuitively it is how the acceleration term $z_3$ changes as we move along the system dynamics vector field $f$."
   ]
  },
  {
   "cell_type": "markdown",
   "metadata": {},
   "source": [
    "(iii) **Use a simple pole placement controller** $v=k^{\\top}z$ where $k:=(k_1,k_2,k_3,k_4)^{\\top}\\in\\mathbb{R}^{4}$ to stabilize the feedback linearized states to the origin. For this stablizing controller, **submit the plots** for $x_1,x_2,x_3,x_4,u$ versus time $t=0:0.01:5$ with initial condition $x(t=0)=(\\pi/6, \\pi/3, 1, 2)^{\\top}$. (**Hint:** recall that over the region in which the system is feedback linearizable, the map $\\tau$ must be a diffeomorphism, and $x=\\tau^{-1}(z)$)"
   ]
  },
  {
   "cell_type": "code",
   "execution_count": null,
   "metadata": {},
   "outputs": [],
   "source": []
  }
 ],
 "metadata": {
  "kernelspec": {
   "display_name": "Python 3 (ipykernel)",
   "language": "python",
   "name": "python3"
  },
  "language_info": {
   "codemirror_mode": {
    "name": "ipython",
    "version": 3
   },
   "file_extension": ".py",
   "mimetype": "text/x-python",
   "name": "python",
   "nbconvert_exporter": "python",
   "pygments_lexer": "ipython3",
   "version": "3.8.10"
  }
 },
 "nbformat": 4,
 "nbformat_minor": 4
}
