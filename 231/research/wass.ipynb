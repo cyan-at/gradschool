{
 "cells": [
  {
   "cell_type": "code",
   "execution_count": 1,
   "id": "d782664a",
   "metadata": {},
   "outputs": [
    {
     "name": "stdout",
     "output_type": "stream",
     "text": [
      "env: DDE_BACKEND=tensorflow.compat.v1\n",
      "env: XLA_FLAGS=--xla_gpu_cuda_data_dir=/usr/local/home/cyan3/miniforge/envs/tf\n"
     ]
    }
   ],
   "source": [
    "# 0 define backend\n",
    "\n",
    "%env DDE_BACKEND=tensorflow.compat.v1\n",
    "\n",
    "%env XLA_FLAGS=--xla_gpu_cuda_data_dir=/usr/local/home/cyan3/miniforge/envs/tf\n",
    "# https://stackoverflow.com/questions/68614547/tensorflow-libdevice-not-found-why-is-it-not-found-in-the-searched-path\n",
    "# this directory has /nvvm/libdevice/libdevice.10.bc"
   ]
  },
  {
   "cell_type": "code",
   "execution_count": 2,
   "id": "3463c219",
   "metadata": {},
   "outputs": [
    {
     "name": "stderr",
     "output_type": "stream",
     "text": [
      "Using backend: tensorflow.compat.v1\n",
      "\n"
     ]
    },
    {
     "name": "stdout",
     "output_type": "stream",
     "text": [
      "WARNING:tensorflow:From /usr/local/home/cyan3/miniforge/envs/tf/lib/python3.9/site-packages/tensorflow/python/compat/v2_compat.py:111: disable_resource_variables (from tensorflow.python.ops.variable_scope) is deprecated and will be removed in a future version.\n",
      "Instructions for updating:\n",
      "non-resource variables are not supported in the long term\n"
     ]
    },
    {
     "name": "stderr",
     "output_type": "stream",
     "text": [
      "2022-09-04 18:56:08.502008: I tensorflow/stream_executor/cuda/cuda_gpu_executor.cc:939] successful NUMA node read from SysFS had negative value (-1), but there must be at least one NUMA node, so returning NUMA node zero\n",
      "2022-09-04 18:56:08.505938: I tensorflow/stream_executor/cuda/cuda_gpu_executor.cc:939] successful NUMA node read from SysFS had negative value (-1), but there must be at least one NUMA node, so returning NUMA node zero\n",
      "2022-09-04 18:56:08.506135: I tensorflow/stream_executor/cuda/cuda_gpu_executor.cc:939] successful NUMA node read from SysFS had negative value (-1), but there must be at least one NUMA node, so returning NUMA node zero\n"
     ]
    },
    {
     "name": "stdout",
     "output_type": "stream",
     "text": [
      "Enable just-in-time compilation with XLA.\n",
      "\n",
      "WARNING:tensorflow:From /usr/local/home/cyan3/miniforge/envs/tf/lib/python3.9/site-packages/deepxde/nn/initializers.py:118: The name tf.keras.initializers.he_normal is deprecated. Please use tf.compat.v1.keras.initializers.he_normal instead.\n",
      "\n",
      "PhysicalDevice(name='/physical_device:GPU:0', device_type='GPU')\n"
     ]
    }
   ],
   "source": [
    "import tensorflow.compat.v1 as tf\n",
    "\n",
    "import deepxde as dde\n",
    "import numpy as np\n",
    "from scipy import stats\n",
    "import numpy as np\n",
    "import matplotlib.pyplot as plt\n",
    "import pylab\n",
    "from numpy import linalg as LA\n",
    "import math\n",
    "import scipy.io\n",
    "from os.path import dirname, join as pjoin\n",
    "from scipy.stats import truncnorm\n",
    "# import tensorflow as tf\n",
    "\n",
    "gpu_devices = tf.config.experimental.list_physical_devices('GPU')\n",
    "for device in gpu_devices:\n",
    "    print(device)\n"
   ]
  },
  {
   "cell_type": "code",
   "execution_count": 3,
   "id": "5c2b93c5",
   "metadata": {},
   "outputs": [
    {
     "data": {
      "text/plain": [
       "[PhysicalDevice(name='/physical_device:GPU:0', device_type='GPU')]"
      ]
     },
     "execution_count": 3,
     "metadata": {},
     "output_type": "execute_result"
    }
   ],
   "source": [
    "tf.config.list_physical_devices('GPU')"
   ]
  },
  {
   "cell_type": "code",
   "execution_count": 4,
   "id": "ae1e930b",
   "metadata": {},
   "outputs": [],
   "source": [
    "params = {'backend': 'ps',\n",
    "          'xtick.labelsize': 12,\n",
    "          'ytick.labelsize': 12,\n",
    "          'legend.handlelength': 1,\n",
    "          'legend.borderaxespad': 0,\n",
    "          'font.family': 'serif',\n",
    "          'font.serif': ['Computer Modern Roman'],\n",
    "          'ps.usedistiller': 'xpdf',\n",
    "          'text.usetex': True,\n",
    "          # include here any neede package for latex\n",
    "          'text.latex.preamble': [r'\\usepackage{amsmath}'],\n",
    "          }\n",
    "plt.rcParams.update(params)\n",
    "plt.style.use('seaborn-white')"
   ]
  },
  {
   "cell_type": "code",
   "execution_count": 5,
   "id": "9afdc78b",
   "metadata": {},
   "outputs": [],
   "source": [
    "if dde.backend.backend_name == \"pytorch\":\n",
    "    exp = dde.backend.torch.exp\n",
    "else:\n",
    "    from deepxde.backend import tf\n",
    "\n",
    "    exp = tf.exp\n"
   ]
  },
  {
   "cell_type": "code",
   "execution_count": 6,
   "id": "79a1d1ce",
   "metadata": {},
   "outputs": [],
   "source": [
    "S3 = dde.Variable(1.0)"
   ]
  },
  {
   "cell_type": "code",
   "execution_count": 7,
   "id": "21a1aecb",
   "metadata": {},
   "outputs": [],
   "source": [
    "\n",
    "def pde(x, y):\n",
    "    \n",
    "    \"\"\"Self assembly system.\n",
    "    dy1_t = 1/2*(y3^2)-dy1_x*D1-dy1_xx*D2\n",
    "    dy2_t = -dD1y2_x +dD2y2_xx\n",
    "    y3=dy1_x*dD1_y3+dy1_xx*dD2_y3\n",
    "    All collocation-based residuals are defined here\n",
    "    Including a penalty function for negative solutions\n",
    "    \"\"\"\n",
    "    y1, y2, y3 = y[:, 0:1], y[:, 1:2], y[:, 2:]\n",
    "    dy1_t = dde.grad.jacobian(y1, x, j=1)\n",
    "    dy1_x = dde.grad.jacobian(y1, x, j=0)\n",
    "    dy1_xx = dde.grad.hessian(y1, x, j=0)\n",
    "\n",
    "    D2=d*tf.math.exp(-(x[:, 0:1]-b-c*y3)*(x[:, 0:1]-b-c*y3))+f\n",
    "    F=a*K*T*(x[:, 0:1]-b-c*y3)*(x[:, 0:1]-b-c*y3)\n",
    "#     dD2_x=dde.grad.jacobian(D2, x, j=0)\n",
    "#     dF_x=dde.grad.jacobian(F, x, j=0)\n",
    "#     D1=dD2_x-dF_x*(D2/(K*T))\n",
    "    D1=-2*(x[:, 0:1]-b-c*y3)*((d*tf.math.exp(-(x[:, 0:1]-b-c*y3)*(x[:, 0:1]-b-c*y3)))+a*D2)\n",
    "    dy2_t = dde.grad.jacobian(y2, x, j=1)\n",
    "    dD1y2_x=dde.grad.jacobian(D1*y2, x, j=0)\n",
    "    dD2y2_xx = dde.grad.hessian(D2*y2, x,  j=0)\n",
    "    dD1_y3=dde.grad.jacobian(D1, y3)\n",
    "    dD2_y3=dde.grad.jacobian(D2, y3)\n",
    "    tt=100\n",
    "\n",
    "    \n",
    "    \n",
    "    return [\n",
    "        dy1_t-.5*(S3*y3*S3*y3)+D1*dy1_x+D2*dy1_xx,\n",
    "        dy2_t+dD1y2_x-dD2y2_xx,\n",
    "        S3*y3-dy1_x*dD1_y3-dy1_xx*dD2_y3,\n",
    "#         neg_loss,\n",
    "#         neg_loss_y2,\n",
    "    ]\n"
   ]
  },
  {
   "cell_type": "code",
   "execution_count": 8,
   "id": "c3eb598b",
   "metadata": {},
   "outputs": [],
   "source": [
    "def boundary(_, on_initial):\n",
    "    return on_initial\n",
    "\n",
    "\n",
    "def pdf1d_T(x):\n",
    "    mu = 5.\n",
    "    sigma = .1\n",
    "    a, b = (0. - mu) / sigma, (6. - mu) / sigma\n",
    "    rho_T=truncnorm.pdf(x, a, b, loc = mu, scale = sigma)\n",
    "    return rho_T\n",
    "\n",
    "\n",
    "def pdf1d_0(x):\n",
    "    sigma = .2\n",
    "    mu=0.\n",
    "    a, b = (0. - mu) / sigma, (6. - mu) / sigma\n",
    "    rho_0=truncnorm.pdf(x, a, b, loc = mu, scale = sigma)\n",
    "    return rho_0\n",
    "\n",
    "\n",
    "def modify_output(X, Y):\n",
    "    y1, y2, y3  = Y[:, 0:1], Y[:, 1:2], Y[:, 2:3]\n",
    "    u_new = tf.clip_by_value(y3, clip_value_min = .5, clip_value_max = 4)\n",
    "    return tf.concat((y1, y2, u_new), axis=1)\n"
   ]
  },
  {
   "cell_type": "code",
   "execution_count": 9,
   "id": "0ffb8a3a",
   "metadata": {},
   "outputs": [],
   "source": [
    "\n",
    "x_T = np.transpose(np.linspace(0., 6., 100))\n",
    "T_t=200. #Terminal time\n",
    "T_0=0. #initial time\n",
    "x_T=x_T.reshape(len(x_T),1)\n",
    "time=T_t*np.ones(( 1,len(x_T))).reshape(len(x_T),1)\n",
    "time_0=T_0*np.ones(( 1,len(x_T))).reshape(len(x_T),1)\n",
    "rho_T=pdf1d_T(x_T).reshape(len(x_T),1)\n",
    "rho_0=pdf1d_0(x_T).reshape(len(x_T),1)\n",
    "\n",
    "terminal_time=np.hstack((x_T,time))\n",
    "Initial_time=np.hstack((x_T,time_0))\n",
    "rho_T_BC = dde.icbc.PointSetBC(terminal_time, rho_T, component=1)\n",
    "rho_0_BC = dde.icbc.PointSetBC(Initial_time, rho_0, component=1)\n",
    "\n",
    "a, b, c, d, f= 10., 2.1, 0.75, .0045, 0.0005\n",
    "\n",
    "K, T=1.38066*10**-23, 293.\n",
    "\n",
    "geom = dde.geometry.Interval(0., 6.)\n",
    "timedomain = dde.geometry.TimeDomain(0., T_t)\n",
    "geomtime = dde.geometry.GeometryXTime(geom, timedomain)\n",
    "# rho_0_BC = dde.icbc.IC(geomtime, lambda x: pdf1d_0(x[:,0:1]) , boundary, component=1)\n"
   ]
  },
  {
   "cell_type": "code",
   "execution_count": 11,
   "id": "487fd549",
   "metadata": {},
   "outputs": [],
   "source": [
    "data = dde.data.TimePDE(geomtime, pde,  [rho_0_BC,rho_T_BC], num_domain=5000, num_initial=500)\n",
    "net = dde.nn.FNN([2] + [70] *3  + [3], \"tanh\", \"Glorot normal\")\n",
    "# net.apply_output_transform(modify_output)\n",
    "# net.apply_output_transform(modify_output)\n",
    "model = dde.Model(data, net)\n"
   ]
  },
  {
   "cell_type": "code",
   "execution_count": 12,
   "id": "bd6f3072",
   "metadata": {},
   "outputs": [],
   "source": [
    "# from scipy.optimize import linprog\n",
    "# from scipy import sparse\n",
    "# import numpy as np\n",
    "\n",
    "# nSample=100\n",
    "# x_grid = np.transpose(np.linspace(0., 6., nSample))\n",
    "# y_grid = np.transpose(np.linspace(0., 6., nSample))\n",
    "\n",
    "\n",
    "# [X,Y] = np.meshgrid(x_grid,y_grid)\n",
    "# C = (X - Y)**2\n",
    "# cvector = C.flatten('F')\n",
    "\n",
    "\n",
    "# A = np.concatenate((np.kron(np.ones((1,nSample)), sparse.eye(nSample).toarray()), np.kron(sparse.eye(nSample).toarray(),np.ones((1,nSample)))), axis=0)\n",
    "# bvector = np.concatenate((rho_T, rho_T), axis=0)\n",
    "# res = linprog(cvector, A_eq=A, b_eq=bvector, options={\"disp\": True})\n",
    "\n",
    "# print(res.fun)"
   ]
  },
  {
   "cell_type": "code",
   "execution_count": null,
   "id": "0a171554",
   "metadata": {},
   "outputs": [],
   "source": []
  },
  {
   "cell_type": "code",
   "execution_count": 13,
   "id": "fa4b449d",
   "metadata": {
    "scrolled": true
   },
   "outputs": [
    {
     "name": "stdout",
     "output_type": "stream",
     "text": [
      "Compiling model...\n",
      "Building feed-forward neural network...\n",
      "'build' took 0.022906 s\n",
      "\n"
     ]
    },
    {
     "name": "stderr",
     "output_type": "stream",
     "text": [
      "/usr/local/home/cyan3/miniforge/envs/tf/lib/python3.9/site-packages/deepxde/nn/tensorflow_compat_v1/fnn.py:103: UserWarning: `tf.layers.dense` is deprecated and will be removed in a future version. Please use `tf.keras.layers.Dense` instead.\n",
      "  return tf.layers.dense(\n",
      "/usr/local/home/cyan3/miniforge/envs/tf/lib/python3.9/site-packages/keras/legacy_tf_layers/core.py:255: UserWarning: `layer.apply` is deprecated and will be removed in a future version. Please use `layer.__call__` method instead.\n",
      "  return layer.apply(inputs)\n",
      "2022-09-04 18:56:35.538787: I tensorflow/core/platform/cpu_feature_guard.cc:151] This TensorFlow binary is optimized with oneAPI Deep Neural Network Library (oneDNN) to use the following CPU instructions in performance-critical operations:  SSE4.1 SSE4.2 AVX AVX2 AVX512F FMA\n",
      "To enable them in other operations, rebuild TensorFlow with the appropriate compiler flags.\n",
      "2022-09-04 18:56:35.539396: I tensorflow/stream_executor/cuda/cuda_gpu_executor.cc:939] successful NUMA node read from SysFS had negative value (-1), but there must be at least one NUMA node, so returning NUMA node zero\n",
      "2022-09-04 18:56:35.539694: I tensorflow/stream_executor/cuda/cuda_gpu_executor.cc:939] successful NUMA node read from SysFS had negative value (-1), but there must be at least one NUMA node, so returning NUMA node zero\n",
      "2022-09-04 18:56:35.539900: I tensorflow/stream_executor/cuda/cuda_gpu_executor.cc:939] successful NUMA node read from SysFS had negative value (-1), but there must be at least one NUMA node, so returning NUMA node zero\n",
      "2022-09-04 18:56:35.865565: I tensorflow/stream_executor/cuda/cuda_gpu_executor.cc:939] successful NUMA node read from SysFS had negative value (-1), but there must be at least one NUMA node, so returning NUMA node zero\n",
      "2022-09-04 18:56:35.865821: I tensorflow/stream_executor/cuda/cuda_gpu_executor.cc:939] successful NUMA node read from SysFS had negative value (-1), but there must be at least one NUMA node, so returning NUMA node zero\n",
      "2022-09-04 18:56:35.866031: I tensorflow/stream_executor/cuda/cuda_gpu_executor.cc:939] successful NUMA node read from SysFS had negative value (-1), but there must be at least one NUMA node, so returning NUMA node zero\n",
      "2022-09-04 18:56:35.866278: W tensorflow/core/common_runtime/gpu/gpu_bfc_allocator.cc:39] Overriding allow_growth setting because the TF_FORCE_GPU_ALLOW_GROWTH environment variable is set. Original config value was 0.\n",
      "2022-09-04 18:56:35.866303: I tensorflow/core/common_runtime/gpu/gpu_device.cc:1525] Created device /job:localhost/replica:0/task:0/device:GPU:0 with 622 MB memory:  -> device: 0, name: NVIDIA RTX A2000 Laptop GPU, pci bus id: 0000:01:00.0, compute capability: 8.6\n"
     ]
    },
    {
     "name": "stdout",
     "output_type": "stream",
     "text": [
      "'compile' took 1.698180 s\n",
      "\n",
      "Warning: epochs is deprecated and will be removed in a future version. Use iterations instead.\n",
      "Initializing variables...\n",
      "Training model...\n",
      "\n"
     ]
    },
    {
     "name": "stderr",
     "output_type": "stream",
     "text": [
      "2022-09-04 18:56:37.401480: W tensorflow/compiler/jit/kernels/xla_ops.cc:436] Compilation failed:UNIMPLEMENTED: Could not find compiler for platform CUDA: NOT_FOUND: could not find registered compiler for platform CUDA -- check target linkage (hint: try adding tensorflow/compiler/jit:xla_gpu_jit as a dependency).  Falling back to TF function call.\n",
      "2022-09-04 18:56:37.941565: I tensorflow/stream_executor/cuda/cuda_blas.cc:1774] TensorFloat-32 will be used for the matrix multiplication. This will only be logged once.\n",
      "2022-09-04 18:56:37.942846: I tensorflow/stream_executor/cuda/cuda_gpu_executor.cc:939] successful NUMA node read from SysFS had negative value (-1), but there must be at least one NUMA node, so returning NUMA node zero\n",
      "2022-09-04 18:56:37.943088: I tensorflow/stream_executor/cuda/cuda_gpu_executor.cc:939] successful NUMA node read from SysFS had negative value (-1), but there must be at least one NUMA node, so returning NUMA node zero\n",
      "2022-09-04 18:56:37.943247: I tensorflow/stream_executor/cuda/cuda_gpu_executor.cc:939] successful NUMA node read from SysFS had negative value (-1), but there must be at least one NUMA node, so returning NUMA node zero\n",
      "2022-09-04 18:56:37.943432: I tensorflow/stream_executor/cuda/cuda_gpu_executor.cc:939] successful NUMA node read from SysFS had negative value (-1), but there must be at least one NUMA node, so returning NUMA node zero\n",
      "2022-09-04 18:56:37.943590: I tensorflow/stream_executor/cuda/cuda_gpu_executor.cc:939] successful NUMA node read from SysFS had negative value (-1), but there must be at least one NUMA node, so returning NUMA node zero\n",
      "2022-09-04 18:56:37.943731: I tensorflow/core/common_runtime/gpu/gpu_device.cc:1525] Created device /job:localhost/replica:0/task:0/device:GPU:0 with 622 MB memory:  -> device: 0, name: NVIDIA RTX A2000 Laptop GPU, pci bus id: 0000:01:00.0, compute capability: 8.6\n"
     ]
    },
    {
     "name": "stdout",
     "output_type": "stream",
     "text": [
      "Running HiGHS 1.2.2 [date: 2022-08-30, git hash: n/a]\n",
      "Copyright (c) 2022 ERGO-Code under MIT licence terms\n",
      "Presolving model\n",
      "Problem status detected on presolve: Infeasible\n",
      "Model   status      : Infeasible\n",
      "Objective value     :  0.0000000000e+00\n",
      "HiGHS run time      :          0.01\n",
      "WARNING: Method getModelStatus(const bool scaled_model) is deprecated: alternative method is getModelStatus()\n",
      "Running HiGHS 1.2.2 [date: 2022-08-30, git hash: n/a]\n",
      "Copyright (c) 2022 ERGO-Code under MIT licence terms\n",
      "Presolving model\n",
      "Problem status detected on presolve: Infeasible\n",
      "Model   status      : Infeasible\n",
      "Objective value     :  0.0000000000e+00\n",
      "HiGHS run time      :          0.01\n",
      "WARNING: Method getModelStatus(const bool scaled_model) is deprecated: alternative method is getModelStatus()\n"
     ]
    },
    {
     "ename": "InvalidArgumentError",
     "evalue": "2 root error(s) found.\n  (0) INVALID_ARGUMENT: pyfunc_1 returns 0 values, but expects to see 1 values.\n\t [[node EagerPyFunc_1\n (defined at /usr/local/home/cyan3/miniforge/envs/tf/lib/python3.9/site-packages/deepxde/losses.py:71)\n]]\n\t [[cluster_0_1/merge_oidx_0/_5]]\n  (1) INVALID_ARGUMENT: pyfunc_1 returns 0 values, but expects to see 1 values.\n\t [[node EagerPyFunc_1\n (defined at /usr/local/home/cyan3/miniforge/envs/tf/lib/python3.9/site-packages/deepxde/losses.py:71)\n]]\n0 successful operations.\n0 derived errors ignored.\n\nErrors may have originated from an input operation.\nInput Source operations connected to node EagerPyFunc_1:\nIn[0] zeros_like_4 (defined at /usr/local/home/cyan3/miniforge/envs/tf/lib/python3.9/site-packages/deepxde/backend/tensorflow_compat_v1/tensor.py:158)\t\nIn[1] sub_22 (defined at /usr/local/home/cyan3/miniforge/envs/tf/lib/python3.9/site-packages/deepxde/icbc/boundary_conditions.py:188)\n\nOperation defined at: (most recent call last)\n>>>   File \"/usr/local/home/cyan3/miniforge/envs/tf/lib/python3.9/runpy.py\", line 197, in _run_module_as_main\n>>>     return _run_code(code, main_globals, None,\n>>> \n>>>   File \"/usr/local/home/cyan3/miniforge/envs/tf/lib/python3.9/runpy.py\", line 87, in _run_code\n>>>     exec(code, run_globals)\n>>> \n>>>   File \"/usr/local/home/cyan3/miniforge/envs/tf/lib/python3.9/site-packages/ipykernel_launcher.py\", line 17, in <module>\n>>>     app.launch_new_instance()\n>>> \n>>>   File \"/usr/local/home/cyan3/miniforge/envs/tf/lib/python3.9/site-packages/traitlets/config/application.py\", line 976, in launch_instance\n>>>     app.start()\n>>> \n>>>   File \"/usr/local/home/cyan3/miniforge/envs/tf/lib/python3.9/site-packages/ipykernel/kernelapp.py\", line 712, in start\n>>>     self.io_loop.start()\n>>> \n>>>   File \"/usr/local/home/cyan3/miniforge/envs/tf/lib/python3.9/site-packages/tornado/platform/asyncio.py\", line 215, in start\n>>>     self.asyncio_loop.run_forever()\n>>> \n>>>   File \"/usr/local/home/cyan3/miniforge/envs/tf/lib/python3.9/asyncio/base_events.py\", line 601, in run_forever\n>>>     self._run_once()\n>>> \n>>>   File \"/usr/local/home/cyan3/miniforge/envs/tf/lib/python3.9/asyncio/base_events.py\", line 1905, in _run_once\n>>>     handle._run()\n>>> \n>>>   File \"/usr/local/home/cyan3/miniforge/envs/tf/lib/python3.9/asyncio/events.py\", line 80, in _run\n>>>     self._context.run(self._callback, *self._args)\n>>> \n>>>   File \"/usr/local/home/cyan3/miniforge/envs/tf/lib/python3.9/site-packages/ipykernel/kernelbase.py\", line 510, in dispatch_queue\n>>>     await self.process_one()\n>>> \n>>>   File \"/usr/local/home/cyan3/miniforge/envs/tf/lib/python3.9/site-packages/ipykernel/kernelbase.py\", line 499, in process_one\n>>>     await dispatch(*args)\n>>> \n>>>   File \"/usr/local/home/cyan3/miniforge/envs/tf/lib/python3.9/site-packages/ipykernel/kernelbase.py\", line 406, in dispatch_shell\n>>>     await result\n>>> \n>>>   File \"/usr/local/home/cyan3/miniforge/envs/tf/lib/python3.9/site-packages/ipykernel/kernelbase.py\", line 730, in execute_request\n>>>     reply_content = await reply_content\n>>> \n>>>   File \"/usr/local/home/cyan3/miniforge/envs/tf/lib/python3.9/site-packages/ipykernel/ipkernel.py\", line 383, in do_execute\n>>>     res = shell.run_cell(\n>>> \n>>>   File \"/usr/local/home/cyan3/miniforge/envs/tf/lib/python3.9/site-packages/ipykernel/zmqshell.py\", line 528, in run_cell\n>>>     return super().run_cell(*args, **kwargs)\n>>> \n>>>   File \"/usr/local/home/cyan3/miniforge/envs/tf/lib/python3.9/site-packages/IPython/core/interactiveshell.py\", line 2881, in run_cell\n>>>     result = self._run_cell(\n>>> \n>>>   File \"/usr/local/home/cyan3/miniforge/envs/tf/lib/python3.9/site-packages/IPython/core/interactiveshell.py\", line 2936, in _run_cell\n>>>     return runner(coro)\n>>> \n>>>   File \"/usr/local/home/cyan3/miniforge/envs/tf/lib/python3.9/site-packages/IPython/core/async_helpers.py\", line 129, in _pseudo_sync_runner\n>>>     coro.send(None)\n>>> \n>>>   File \"/usr/local/home/cyan3/miniforge/envs/tf/lib/python3.9/site-packages/IPython/core/interactiveshell.py\", line 3135, in run_cell_async\n>>>     has_raised = await self.run_ast_nodes(code_ast.body, cell_name,\n>>> \n>>>   File \"/usr/local/home/cyan3/miniforge/envs/tf/lib/python3.9/site-packages/IPython/core/interactiveshell.py\", line 3338, in run_ast_nodes\n>>>     if await self.run_code(code, result, async_=asy):\n>>> \n>>>   File \"/usr/local/home/cyan3/miniforge/envs/tf/lib/python3.9/site-packages/IPython/core/interactiveshell.py\", line 3398, in run_code\n>>>     exec(code_obj, self.user_global_ns, self.user_ns)\n>>> \n>>>   File \"/tmp/ipykernel_264221/3461619996.py\", line 2, in <cell line: 2>\n>>>     model.compile(\"adam\", lr=1e-3,loss=loss_func)\n>>> \n>>>   File \"/usr/local/home/cyan3/miniforge/envs/tf/lib/python3.9/site-packages/deepxde/utils/internal.py\", line 22, in wrapper\n>>>     result = f(*args, **kwargs)\n>>> \n>>>   File \"/usr/local/home/cyan3/miniforge/envs/tf/lib/python3.9/site-packages/deepxde/model.py\", line 124, in compile\n>>>     self._compile_tensorflow_compat_v1(lr, loss_fn, decay, loss_weights)\n>>> \n>>>   File \"/usr/local/home/cyan3/miniforge/envs/tf/lib/python3.9/site-packages/deepxde/model.py\", line 169, in _compile_tensorflow_compat_v1\n>>>     losses_train = losses(self.data.losses_train)\n>>> \n>>>   File \"/usr/local/home/cyan3/miniforge/envs/tf/lib/python3.9/site-packages/deepxde/model.py\", line 155, in losses\n>>>     losses = losses_fn(\n>>> \n>>>   File \"/usr/local/home/cyan3/miniforge/envs/tf/lib/python3.9/site-packages/deepxde/data/data.py\", line 13, in losses_train\n>>>     return self.losses(targets, outputs, loss_fn, inputs, model, aux=aux)\n>>> \n>>>   File \"/usr/local/home/cyan3/miniforge/envs/tf/lib/python3.9/site-packages/deepxde/data/pde.py\", line 154, in losses\n>>>     losses.append(loss_fn[len(error_f) + i](bkd.zeros_like(error), error))\n>>> \n>>>   File \"/usr/local/home/cyan3/miniforge/envs/tf/lib/python3.9/site-packages/deepxde/losses.py\", line 71, in WASS2\n>>>     return tf.py_function(\n>>> \n\nInput Source operations connected to node EagerPyFunc_1:\nIn[0] zeros_like_4 (defined at /usr/local/home/cyan3/miniforge/envs/tf/lib/python3.9/site-packages/deepxde/backend/tensorflow_compat_v1/tensor.py:158)\t\nIn[1] sub_22 (defined at /usr/local/home/cyan3/miniforge/envs/tf/lib/python3.9/site-packages/deepxde/icbc/boundary_conditions.py:188)\n\nOperation defined at: (most recent call last)\n>>>   File \"/usr/local/home/cyan3/miniforge/envs/tf/lib/python3.9/runpy.py\", line 197, in _run_module_as_main\n>>>     return _run_code(code, main_globals, None,\n>>> \n>>>   File \"/usr/local/home/cyan3/miniforge/envs/tf/lib/python3.9/runpy.py\", line 87, in _run_code\n>>>     exec(code, run_globals)\n>>> \n>>>   File \"/usr/local/home/cyan3/miniforge/envs/tf/lib/python3.9/site-packages/ipykernel_launcher.py\", line 17, in <module>\n>>>     app.launch_new_instance()\n>>> \n>>>   File \"/usr/local/home/cyan3/miniforge/envs/tf/lib/python3.9/site-packages/traitlets/config/application.py\", line 976, in launch_instance\n>>>     app.start()\n>>> \n>>>   File \"/usr/local/home/cyan3/miniforge/envs/tf/lib/python3.9/site-packages/ipykernel/kernelapp.py\", line 712, in start\n>>>     self.io_loop.start()\n>>> \n>>>   File \"/usr/local/home/cyan3/miniforge/envs/tf/lib/python3.9/site-packages/tornado/platform/asyncio.py\", line 215, in start\n>>>     self.asyncio_loop.run_forever()\n>>> \n>>>   File \"/usr/local/home/cyan3/miniforge/envs/tf/lib/python3.9/asyncio/base_events.py\", line 601, in run_forever\n>>>     self._run_once()\n>>> \n>>>   File \"/usr/local/home/cyan3/miniforge/envs/tf/lib/python3.9/asyncio/base_events.py\", line 1905, in _run_once\n>>>     handle._run()\n>>> \n>>>   File \"/usr/local/home/cyan3/miniforge/envs/tf/lib/python3.9/asyncio/events.py\", line 80, in _run\n>>>     self._context.run(self._callback, *self._args)\n>>> \n>>>   File \"/usr/local/home/cyan3/miniforge/envs/tf/lib/python3.9/site-packages/ipykernel/kernelbase.py\", line 510, in dispatch_queue\n>>>     await self.process_one()\n>>> \n>>>   File \"/usr/local/home/cyan3/miniforge/envs/tf/lib/python3.9/site-packages/ipykernel/kernelbase.py\", line 499, in process_one\n>>>     await dispatch(*args)\n>>> \n>>>   File \"/usr/local/home/cyan3/miniforge/envs/tf/lib/python3.9/site-packages/ipykernel/kernelbase.py\", line 406, in dispatch_shell\n>>>     await result\n>>> \n>>>   File \"/usr/local/home/cyan3/miniforge/envs/tf/lib/python3.9/site-packages/ipykernel/kernelbase.py\", line 730, in execute_request\n>>>     reply_content = await reply_content\n>>> \n>>>   File \"/usr/local/home/cyan3/miniforge/envs/tf/lib/python3.9/site-packages/ipykernel/ipkernel.py\", line 383, in do_execute\n>>>     res = shell.run_cell(\n>>> \n>>>   File \"/usr/local/home/cyan3/miniforge/envs/tf/lib/python3.9/site-packages/ipykernel/zmqshell.py\", line 528, in run_cell\n>>>     return super().run_cell(*args, **kwargs)\n>>> \n>>>   File \"/usr/local/home/cyan3/miniforge/envs/tf/lib/python3.9/site-packages/IPython/core/interactiveshell.py\", line 2881, in run_cell\n>>>     result = self._run_cell(\n>>> \n>>>   File \"/usr/local/home/cyan3/miniforge/envs/tf/lib/python3.9/site-packages/IPython/core/interactiveshell.py\", line 2936, in _run_cell\n>>>     return runner(coro)\n>>> \n>>>   File \"/usr/local/home/cyan3/miniforge/envs/tf/lib/python3.9/site-packages/IPython/core/async_helpers.py\", line 129, in _pseudo_sync_runner\n>>>     coro.send(None)\n>>> \n>>>   File \"/usr/local/home/cyan3/miniforge/envs/tf/lib/python3.9/site-packages/IPython/core/interactiveshell.py\", line 3135, in run_cell_async\n>>>     has_raised = await self.run_ast_nodes(code_ast.body, cell_name,\n>>> \n>>>   File \"/usr/local/home/cyan3/miniforge/envs/tf/lib/python3.9/site-packages/IPython/core/interactiveshell.py\", line 3338, in run_ast_nodes\n>>>     if await self.run_code(code, result, async_=asy):\n>>> \n>>>   File \"/usr/local/home/cyan3/miniforge/envs/tf/lib/python3.9/site-packages/IPython/core/interactiveshell.py\", line 3398, in run_code\n>>>     exec(code_obj, self.user_global_ns, self.user_ns)\n>>> \n>>>   File \"/tmp/ipykernel_264221/3461619996.py\", line 2, in <cell line: 2>\n>>>     model.compile(\"adam\", lr=1e-3,loss=loss_func)\n>>> \n>>>   File \"/usr/local/home/cyan3/miniforge/envs/tf/lib/python3.9/site-packages/deepxde/utils/internal.py\", line 22, in wrapper\n>>>     result = f(*args, **kwargs)\n>>> \n>>>   File \"/usr/local/home/cyan3/miniforge/envs/tf/lib/python3.9/site-packages/deepxde/model.py\", line 124, in compile\n>>>     self._compile_tensorflow_compat_v1(lr, loss_fn, decay, loss_weights)\n>>> \n>>>   File \"/usr/local/home/cyan3/miniforge/envs/tf/lib/python3.9/site-packages/deepxde/model.py\", line 169, in _compile_tensorflow_compat_v1\n>>>     losses_train = losses(self.data.losses_train)\n>>> \n>>>   File \"/usr/local/home/cyan3/miniforge/envs/tf/lib/python3.9/site-packages/deepxde/model.py\", line 155, in losses\n>>>     losses = losses_fn(\n>>> \n>>>   File \"/usr/local/home/cyan3/miniforge/envs/tf/lib/python3.9/site-packages/deepxde/data/data.py\", line 13, in losses_train\n>>>     return self.losses(targets, outputs, loss_fn, inputs, model, aux=aux)\n>>> \n>>>   File \"/usr/local/home/cyan3/miniforge/envs/tf/lib/python3.9/site-packages/deepxde/data/pde.py\", line 154, in losses\n>>>     losses.append(loss_fn[len(error_f) + i](bkd.zeros_like(error), error))\n>>> \n>>>   File \"/usr/local/home/cyan3/miniforge/envs/tf/lib/python3.9/site-packages/deepxde/losses.py\", line 71, in WASS2\n>>>     return tf.py_function(\n>>> \n\nOriginal stack trace for 'EagerPyFunc_1':\n  File \"/usr/local/home/cyan3/miniforge/envs/tf/lib/python3.9/runpy.py\", line 197, in _run_module_as_main\n    return _run_code(code, main_globals, None,\n  File \"/usr/local/home/cyan3/miniforge/envs/tf/lib/python3.9/runpy.py\", line 87, in _run_code\n    exec(code, run_globals)\n  File \"/usr/local/home/cyan3/miniforge/envs/tf/lib/python3.9/site-packages/ipykernel_launcher.py\", line 17, in <module>\n    app.launch_new_instance()\n  File \"/usr/local/home/cyan3/miniforge/envs/tf/lib/python3.9/site-packages/traitlets/config/application.py\", line 976, in launch_instance\n    app.start()\n  File \"/usr/local/home/cyan3/miniforge/envs/tf/lib/python3.9/site-packages/ipykernel/kernelapp.py\", line 712, in start\n    self.io_loop.start()\n  File \"/usr/local/home/cyan3/miniforge/envs/tf/lib/python3.9/site-packages/tornado/platform/asyncio.py\", line 215, in start\n    self.asyncio_loop.run_forever()\n  File \"/usr/local/home/cyan3/miniforge/envs/tf/lib/python3.9/asyncio/base_events.py\", line 601, in run_forever\n    self._run_once()\n  File \"/usr/local/home/cyan3/miniforge/envs/tf/lib/python3.9/asyncio/base_events.py\", line 1905, in _run_once\n    handle._run()\n  File \"/usr/local/home/cyan3/miniforge/envs/tf/lib/python3.9/asyncio/events.py\", line 80, in _run\n    self._context.run(self._callback, *self._args)\n  File \"/usr/local/home/cyan3/miniforge/envs/tf/lib/python3.9/site-packages/ipykernel/kernelbase.py\", line 510, in dispatch_queue\n    await self.process_one()\n  File \"/usr/local/home/cyan3/miniforge/envs/tf/lib/python3.9/site-packages/ipykernel/kernelbase.py\", line 499, in process_one\n    await dispatch(*args)\n  File \"/usr/local/home/cyan3/miniforge/envs/tf/lib/python3.9/site-packages/ipykernel/kernelbase.py\", line 406, in dispatch_shell\n    await result\n  File \"/usr/local/home/cyan3/miniforge/envs/tf/lib/python3.9/site-packages/ipykernel/kernelbase.py\", line 730, in execute_request\n    reply_content = await reply_content\n  File \"/usr/local/home/cyan3/miniforge/envs/tf/lib/python3.9/site-packages/ipykernel/ipkernel.py\", line 383, in do_execute\n    res = shell.run_cell(\n  File \"/usr/local/home/cyan3/miniforge/envs/tf/lib/python3.9/site-packages/ipykernel/zmqshell.py\", line 528, in run_cell\n    return super().run_cell(*args, **kwargs)\n  File \"/usr/local/home/cyan3/miniforge/envs/tf/lib/python3.9/site-packages/IPython/core/interactiveshell.py\", line 2881, in run_cell\n    result = self._run_cell(\n  File \"/usr/local/home/cyan3/miniforge/envs/tf/lib/python3.9/site-packages/IPython/core/interactiveshell.py\", line 2936, in _run_cell\n    return runner(coro)\n  File \"/usr/local/home/cyan3/miniforge/envs/tf/lib/python3.9/site-packages/IPython/core/async_helpers.py\", line 129, in _pseudo_sync_runner\n    coro.send(None)\n  File \"/usr/local/home/cyan3/miniforge/envs/tf/lib/python3.9/site-packages/IPython/core/interactiveshell.py\", line 3135, in run_cell_async\n    has_raised = await self.run_ast_nodes(code_ast.body, cell_name,\n  File \"/usr/local/home/cyan3/miniforge/envs/tf/lib/python3.9/site-packages/IPython/core/interactiveshell.py\", line 3338, in run_ast_nodes\n    if await self.run_code(code, result, async_=asy):\n  File \"/usr/local/home/cyan3/miniforge/envs/tf/lib/python3.9/site-packages/IPython/core/interactiveshell.py\", line 3398, in run_code\n    exec(code_obj, self.user_global_ns, self.user_ns)\n  File \"/tmp/ipykernel_264221/3461619996.py\", line 2, in <cell line: 2>\n    model.compile(\"adam\", lr=1e-3,loss=loss_func)\n  File \"/usr/local/home/cyan3/miniforge/envs/tf/lib/python3.9/site-packages/deepxde/utils/internal.py\", line 22, in wrapper\n    result = f(*args, **kwargs)\n  File \"/usr/local/home/cyan3/miniforge/envs/tf/lib/python3.9/site-packages/deepxde/model.py\", line 124, in compile\n    self._compile_tensorflow_compat_v1(lr, loss_fn, decay, loss_weights)\n  File \"/usr/local/home/cyan3/miniforge/envs/tf/lib/python3.9/site-packages/deepxde/model.py\", line 169, in _compile_tensorflow_compat_v1\n    losses_train = losses(self.data.losses_train)\n  File \"/usr/local/home/cyan3/miniforge/envs/tf/lib/python3.9/site-packages/deepxde/model.py\", line 155, in losses\n    losses = losses_fn(\n  File \"/usr/local/home/cyan3/miniforge/envs/tf/lib/python3.9/site-packages/deepxde/data/data.py\", line 13, in losses_train\n    return self.losses(targets, outputs, loss_fn, inputs, model, aux=aux)\n  File \"/usr/local/home/cyan3/miniforge/envs/tf/lib/python3.9/site-packages/deepxde/data/pde.py\", line 154, in losses\n    losses.append(loss_fn[len(error_f) + i](bkd.zeros_like(error), error))\n  File \"/usr/local/home/cyan3/miniforge/envs/tf/lib/python3.9/site-packages/deepxde/losses.py\", line 71, in WASS2\n    return tf.py_function(\n  File \"/usr/local/home/cyan3/miniforge/envs/tf/lib/python3.9/site-packages/tensorflow/python/util/traceback_utils.py\", line 150, in error_handler\n    return fn(*args, **kwargs)\n  File \"/usr/local/home/cyan3/miniforge/envs/tf/lib/python3.9/site-packages/tensorflow/python/util/dispatch.py\", line 1096, in op_dispatch_handler\n    return dispatch_target(*args, **kwargs)\n  File \"/usr/local/home/cyan3/miniforge/envs/tf/lib/python3.9/site-packages/tensorflow/python/ops/script_ops.py\", line 522, in eager_py_func\n    return _internal_py_func(\n  File \"/usr/local/home/cyan3/miniforge/envs/tf/lib/python3.9/site-packages/tensorflow/python/ops/script_ops.py\", line 377, in _internal_py_func\n    result = gen_script_ops.eager_py_func(\n  File \"/usr/local/home/cyan3/miniforge/envs/tf/lib/python3.9/site-packages/tensorflow/python/ops/gen_script_ops.py\", line 68, in eager_py_func\n    _, _, _op, _outputs = _op_def_library._apply_op_helper(\n  File \"/usr/local/home/cyan3/miniforge/envs/tf/lib/python3.9/site-packages/tensorflow/python/framework/op_def_library.py\", line 744, in _apply_op_helper\n    op = g._create_op_internal(op_type_name, inputs, dtypes=None,\n  File \"/usr/local/home/cyan3/miniforge/envs/tf/lib/python3.9/site-packages/tensorflow/python/framework/ops.py\", line 3697, in _create_op_internal\n    ret = Operation(\n  File \"/usr/local/home/cyan3/miniforge/envs/tf/lib/python3.9/site-packages/tensorflow/python/framework/ops.py\", line 2101, in __init__\n    self._traceback = tf_stack.extract_stack_for_node(self._c_op)\n",
     "output_type": "error",
     "traceback": [
      "\u001b[0;31m---------------------------------------------------------------------------\u001b[0m",
      "\u001b[0;31mInvalidArgumentError\u001b[0m                      Traceback (most recent call last)",
      "File \u001b[0;32m/usr/local/home/cyan3/miniforge/envs/tf/lib/python3.9/site-packages/tensorflow/python/client/session.py:1380\u001b[0m, in \u001b[0;36mBaseSession._do_call\u001b[0;34m(self, fn, *args)\u001b[0m\n\u001b[1;32m   1379\u001b[0m \u001b[38;5;28;01mtry\u001b[39;00m:\n\u001b[0;32m-> 1380\u001b[0m   \u001b[38;5;28;01mreturn\u001b[39;00m \u001b[43mfn\u001b[49m\u001b[43m(\u001b[49m\u001b[38;5;241;43m*\u001b[39;49m\u001b[43margs\u001b[49m\u001b[43m)\u001b[49m\n\u001b[1;32m   1381\u001b[0m \u001b[38;5;28;01mexcept\u001b[39;00m errors\u001b[38;5;241m.\u001b[39mOpError \u001b[38;5;28;01mas\u001b[39;00m e:\n",
      "File \u001b[0;32m/usr/local/home/cyan3/miniforge/envs/tf/lib/python3.9/site-packages/tensorflow/python/client/session.py:1363\u001b[0m, in \u001b[0;36mBaseSession._do_run.<locals>._run_fn\u001b[0;34m(feed_dict, fetch_list, target_list, options, run_metadata)\u001b[0m\n\u001b[1;32m   1362\u001b[0m \u001b[38;5;28mself\u001b[39m\u001b[38;5;241m.\u001b[39m_extend_graph()\n\u001b[0;32m-> 1363\u001b[0m \u001b[38;5;28;01mreturn\u001b[39;00m \u001b[38;5;28;43mself\u001b[39;49m\u001b[38;5;241;43m.\u001b[39;49m\u001b[43m_call_tf_sessionrun\u001b[49m\u001b[43m(\u001b[49m\u001b[43moptions\u001b[49m\u001b[43m,\u001b[49m\u001b[43m \u001b[49m\u001b[43mfeed_dict\u001b[49m\u001b[43m,\u001b[49m\u001b[43m \u001b[49m\u001b[43mfetch_list\u001b[49m\u001b[43m,\u001b[49m\n\u001b[1;32m   1364\u001b[0m \u001b[43m                                \u001b[49m\u001b[43mtarget_list\u001b[49m\u001b[43m,\u001b[49m\u001b[43m \u001b[49m\u001b[43mrun_metadata\u001b[49m\u001b[43m)\u001b[49m\n",
      "File \u001b[0;32m/usr/local/home/cyan3/miniforge/envs/tf/lib/python3.9/site-packages/tensorflow/python/client/session.py:1456\u001b[0m, in \u001b[0;36mBaseSession._call_tf_sessionrun\u001b[0;34m(self, options, feed_dict, fetch_list, target_list, run_metadata)\u001b[0m\n\u001b[1;32m   1454\u001b[0m \u001b[38;5;28;01mdef\u001b[39;00m \u001b[38;5;21m_call_tf_sessionrun\u001b[39m(\u001b[38;5;28mself\u001b[39m, options, feed_dict, fetch_list, target_list,\n\u001b[1;32m   1455\u001b[0m                         run_metadata):\n\u001b[0;32m-> 1456\u001b[0m   \u001b[38;5;28;01mreturn\u001b[39;00m \u001b[43mtf_session\u001b[49m\u001b[38;5;241;43m.\u001b[39;49m\u001b[43mTF_SessionRun_wrapper\u001b[49m\u001b[43m(\u001b[49m\u001b[38;5;28;43mself\u001b[39;49m\u001b[38;5;241;43m.\u001b[39;49m\u001b[43m_session\u001b[49m\u001b[43m,\u001b[49m\u001b[43m \u001b[49m\u001b[43moptions\u001b[49m\u001b[43m,\u001b[49m\u001b[43m \u001b[49m\u001b[43mfeed_dict\u001b[49m\u001b[43m,\u001b[49m\n\u001b[1;32m   1457\u001b[0m \u001b[43m                                          \u001b[49m\u001b[43mfetch_list\u001b[49m\u001b[43m,\u001b[49m\u001b[43m \u001b[49m\u001b[43mtarget_list\u001b[49m\u001b[43m,\u001b[49m\n\u001b[1;32m   1458\u001b[0m \u001b[43m                                          \u001b[49m\u001b[43mrun_metadata\u001b[49m\u001b[43m)\u001b[49m\n",
      "\u001b[0;31mInvalidArgumentError\u001b[0m: 2 root error(s) found.\n  (0) INVALID_ARGUMENT: pyfunc_1 returns 0 values, but expects to see 1 values.\n\t [[{{node EagerPyFunc_1}}]]\n\t [[cluster_0_1/merge_oidx_0/_5]]\n  (1) INVALID_ARGUMENT: pyfunc_1 returns 0 values, but expects to see 1 values.\n\t [[{{node EagerPyFunc_1}}]]\n0 successful operations.\n0 derived errors ignored.",
      "\nDuring handling of the above exception, another exception occurred:\n",
      "\u001b[0;31mInvalidArgumentError\u001b[0m                      Traceback (most recent call last)",
      "Input \u001b[0;32mIn [13]\u001b[0m, in \u001b[0;36m<cell line: 3>\u001b[0;34m()\u001b[0m\n\u001b[1;32m      1\u001b[0m loss_func\u001b[38;5;241m=\u001b[39m[\u001b[38;5;124m\"\u001b[39m\u001b[38;5;124mMSE\u001b[39m\u001b[38;5;124m\"\u001b[39m,\u001b[38;5;124m\"\u001b[39m\u001b[38;5;124mMSE\u001b[39m\u001b[38;5;124m\"\u001b[39m,\u001b[38;5;124m\"\u001b[39m\u001b[38;5;124mMSE\u001b[39m\u001b[38;5;124m\"\u001b[39m,\u001b[38;5;124m\"\u001b[39m\u001b[38;5;124mwass\u001b[39m\u001b[38;5;124m\"\u001b[39m,\u001b[38;5;124m\"\u001b[39m\u001b[38;5;124mwass\u001b[39m\u001b[38;5;124m\"\u001b[39m]\n\u001b[1;32m      2\u001b[0m model\u001b[38;5;241m.\u001b[39mcompile(\u001b[38;5;124m\"\u001b[39m\u001b[38;5;124madam\u001b[39m\u001b[38;5;124m\"\u001b[39m, lr\u001b[38;5;241m=\u001b[39m\u001b[38;5;241m1e-3\u001b[39m,loss\u001b[38;5;241m=\u001b[39mloss_func)\n\u001b[0;32m----> 3\u001b[0m losshistory, train_state \u001b[38;5;241m=\u001b[39m \u001b[43mmodel\u001b[49m\u001b[38;5;241;43m.\u001b[39;49m\u001b[43mtrain\u001b[49m\u001b[43m(\u001b[49m\u001b[43mepochs\u001b[49m\u001b[38;5;241;43m=\u001b[39;49m\u001b[38;5;241;43m15000\u001b[39;49m\u001b[43m)\u001b[49m\n",
      "File \u001b[0;32m/usr/local/home/cyan3/miniforge/envs/tf/lib/python3.9/site-packages/deepxde/utils/internal.py:22\u001b[0m, in \u001b[0;36mtiming.<locals>.wrapper\u001b[0;34m(*args, **kwargs)\u001b[0m\n\u001b[1;32m     19\u001b[0m \u001b[38;5;129m@wraps\u001b[39m(f)\n\u001b[1;32m     20\u001b[0m \u001b[38;5;28;01mdef\u001b[39;00m \u001b[38;5;21mwrapper\u001b[39m(\u001b[38;5;241m*\u001b[39margs, \u001b[38;5;241m*\u001b[39m\u001b[38;5;241m*\u001b[39mkwargs):\n\u001b[1;32m     21\u001b[0m     ts \u001b[38;5;241m=\u001b[39m timeit\u001b[38;5;241m.\u001b[39mdefault_timer()\n\u001b[0;32m---> 22\u001b[0m     result \u001b[38;5;241m=\u001b[39m \u001b[43mf\u001b[49m\u001b[43m(\u001b[49m\u001b[38;5;241;43m*\u001b[39;49m\u001b[43margs\u001b[49m\u001b[43m,\u001b[49m\u001b[43m \u001b[49m\u001b[38;5;241;43m*\u001b[39;49m\u001b[38;5;241;43m*\u001b[39;49m\u001b[43mkwargs\u001b[49m\u001b[43m)\u001b[49m\n\u001b[1;32m     23\u001b[0m     te \u001b[38;5;241m=\u001b[39m timeit\u001b[38;5;241m.\u001b[39mdefault_timer()\n\u001b[1;32m     24\u001b[0m     \u001b[38;5;28mprint\u001b[39m(\u001b[38;5;124m\"\u001b[39m\u001b[38;5;132;01m%r\u001b[39;00m\u001b[38;5;124m took \u001b[39m\u001b[38;5;132;01m%f\u001b[39;00m\u001b[38;5;124m s\u001b[39m\u001b[38;5;130;01m\\n\u001b[39;00m\u001b[38;5;124m\"\u001b[39m \u001b[38;5;241m%\u001b[39m (f\u001b[38;5;241m.\u001b[39m\u001b[38;5;18m__name__\u001b[39m, te \u001b[38;5;241m-\u001b[39m ts))\n",
      "File \u001b[0;32m/usr/local/home/cyan3/miniforge/envs/tf/lib/python3.9/site-packages/deepxde/model.py:561\u001b[0m, in \u001b[0;36mModel.train\u001b[0;34m(self, iterations, batch_size, display_every, disregard_previous_best, callbacks, model_restore_path, model_save_path, epochs)\u001b[0m\n\u001b[1;32m    559\u001b[0m \u001b[38;5;28mself\u001b[39m\u001b[38;5;241m.\u001b[39mtrain_state\u001b[38;5;241m.\u001b[39mset_data_train(\u001b[38;5;241m*\u001b[39m\u001b[38;5;28mself\u001b[39m\u001b[38;5;241m.\u001b[39mdata\u001b[38;5;241m.\u001b[39mtrain_next_batch(\u001b[38;5;28mself\u001b[39m\u001b[38;5;241m.\u001b[39mbatch_size))\n\u001b[1;32m    560\u001b[0m \u001b[38;5;28mself\u001b[39m\u001b[38;5;241m.\u001b[39mtrain_state\u001b[38;5;241m.\u001b[39mset_data_test(\u001b[38;5;241m*\u001b[39m\u001b[38;5;28mself\u001b[39m\u001b[38;5;241m.\u001b[39mdata\u001b[38;5;241m.\u001b[39mtest())\n\u001b[0;32m--> 561\u001b[0m \u001b[38;5;28;43mself\u001b[39;49m\u001b[38;5;241;43m.\u001b[39;49m\u001b[43m_test\u001b[49m\u001b[43m(\u001b[49m\u001b[43m)\u001b[49m\n\u001b[1;32m    562\u001b[0m \u001b[38;5;28mself\u001b[39m\u001b[38;5;241m.\u001b[39mcallbacks\u001b[38;5;241m.\u001b[39mon_train_begin()\n\u001b[1;32m    563\u001b[0m \u001b[38;5;28;01mif\u001b[39;00m optimizers\u001b[38;5;241m.\u001b[39mis_external_optimizer(\u001b[38;5;28mself\u001b[39m\u001b[38;5;241m.\u001b[39mopt_name):\n",
      "File \u001b[0;32m/usr/local/home/cyan3/miniforge/envs/tf/lib/python3.9/site-packages/deepxde/model.py:693\u001b[0m, in \u001b[0;36mModel._test\u001b[0;34m(self)\u001b[0m\n\u001b[1;32m    689\u001b[0m \u001b[38;5;28;01mdef\u001b[39;00m \u001b[38;5;21m_test\u001b[39m(\u001b[38;5;28mself\u001b[39m):\n\u001b[1;32m    690\u001b[0m     (\n\u001b[1;32m    691\u001b[0m         \u001b[38;5;28mself\u001b[39m\u001b[38;5;241m.\u001b[39mtrain_state\u001b[38;5;241m.\u001b[39my_pred_train,\n\u001b[1;32m    692\u001b[0m         \u001b[38;5;28mself\u001b[39m\u001b[38;5;241m.\u001b[39mtrain_state\u001b[38;5;241m.\u001b[39mloss_train,\n\u001b[0;32m--> 693\u001b[0m     ) \u001b[38;5;241m=\u001b[39m \u001b[38;5;28;43mself\u001b[39;49m\u001b[38;5;241;43m.\u001b[39;49m\u001b[43m_outputs_losses\u001b[49m\u001b[43m(\u001b[49m\n\u001b[1;32m    694\u001b[0m \u001b[43m        \u001b[49m\u001b[38;5;28;43;01mTrue\u001b[39;49;00m\u001b[43m,\u001b[49m\n\u001b[1;32m    695\u001b[0m \u001b[43m        \u001b[49m\u001b[38;5;28;43mself\u001b[39;49m\u001b[38;5;241;43m.\u001b[39;49m\u001b[43mtrain_state\u001b[49m\u001b[38;5;241;43m.\u001b[39;49m\u001b[43mX_train\u001b[49m\u001b[43m,\u001b[49m\n\u001b[1;32m    696\u001b[0m \u001b[43m        \u001b[49m\u001b[38;5;28;43mself\u001b[39;49m\u001b[38;5;241;43m.\u001b[39;49m\u001b[43mtrain_state\u001b[49m\u001b[38;5;241;43m.\u001b[39;49m\u001b[43my_train\u001b[49m\u001b[43m,\u001b[49m\n\u001b[1;32m    697\u001b[0m \u001b[43m        \u001b[49m\u001b[38;5;28;43mself\u001b[39;49m\u001b[38;5;241;43m.\u001b[39;49m\u001b[43mtrain_state\u001b[49m\u001b[38;5;241;43m.\u001b[39;49m\u001b[43mtrain_aux_vars\u001b[49m\u001b[43m,\u001b[49m\n\u001b[1;32m    698\u001b[0m \u001b[43m    \u001b[49m\u001b[43m)\u001b[49m\n\u001b[1;32m    699\u001b[0m     \u001b[38;5;28mself\u001b[39m\u001b[38;5;241m.\u001b[39mtrain_state\u001b[38;5;241m.\u001b[39my_pred_test, \u001b[38;5;28mself\u001b[39m\u001b[38;5;241m.\u001b[39mtrain_state\u001b[38;5;241m.\u001b[39mloss_test \u001b[38;5;241m=\u001b[39m \u001b[38;5;28mself\u001b[39m\u001b[38;5;241m.\u001b[39m_outputs_losses(\n\u001b[1;32m    700\u001b[0m         \u001b[38;5;28;01mFalse\u001b[39;00m,\n\u001b[1;32m    701\u001b[0m         \u001b[38;5;28mself\u001b[39m\u001b[38;5;241m.\u001b[39mtrain_state\u001b[38;5;241m.\u001b[39mX_test,\n\u001b[1;32m    702\u001b[0m         \u001b[38;5;28mself\u001b[39m\u001b[38;5;241m.\u001b[39mtrain_state\u001b[38;5;241m.\u001b[39my_test,\n\u001b[1;32m    703\u001b[0m         \u001b[38;5;28mself\u001b[39m\u001b[38;5;241m.\u001b[39mtrain_state\u001b[38;5;241m.\u001b[39mtest_aux_vars,\n\u001b[1;32m    704\u001b[0m     )\n\u001b[1;32m    706\u001b[0m     \u001b[38;5;28;01mif\u001b[39;00m \u001b[38;5;28misinstance\u001b[39m(\u001b[38;5;28mself\u001b[39m\u001b[38;5;241m.\u001b[39mtrain_state\u001b[38;5;241m.\u001b[39my_test, (\u001b[38;5;28mlist\u001b[39m, \u001b[38;5;28mtuple\u001b[39m)):\n",
      "File \u001b[0;32m/usr/local/home/cyan3/miniforge/envs/tf/lib/python3.9/site-packages/deepxde/model.py:471\u001b[0m, in \u001b[0;36mModel._outputs_losses\u001b[0;34m(self, training, inputs, targets, auxiliary_vars)\u001b[0m\n\u001b[1;32m    469\u001b[0m \u001b[38;5;28;01mif\u001b[39;00m backend_name \u001b[38;5;241m==\u001b[39m \u001b[38;5;124m\"\u001b[39m\u001b[38;5;124mtensorflow.compat.v1\u001b[39m\u001b[38;5;124m\"\u001b[39m:\n\u001b[1;32m    470\u001b[0m     feed_dict \u001b[38;5;241m=\u001b[39m \u001b[38;5;28mself\u001b[39m\u001b[38;5;241m.\u001b[39mnet\u001b[38;5;241m.\u001b[39mfeed_dict(training, inputs, targets, auxiliary_vars)\n\u001b[0;32m--> 471\u001b[0m     \u001b[38;5;28;01mreturn\u001b[39;00m \u001b[38;5;28;43mself\u001b[39;49m\u001b[38;5;241;43m.\u001b[39;49m\u001b[43msess\u001b[49m\u001b[38;5;241;43m.\u001b[39;49m\u001b[43mrun\u001b[49m\u001b[43m(\u001b[49m\u001b[43moutputs_losses\u001b[49m\u001b[43m,\u001b[49m\u001b[43m \u001b[49m\u001b[43mfeed_dict\u001b[49m\u001b[38;5;241;43m=\u001b[39;49m\u001b[43mfeed_dict\u001b[49m\u001b[43m)\u001b[49m\n\u001b[1;32m    472\u001b[0m \u001b[38;5;28;01mif\u001b[39;00m backend_name \u001b[38;5;241m==\u001b[39m \u001b[38;5;124m\"\u001b[39m\u001b[38;5;124mtensorflow\u001b[39m\u001b[38;5;124m\"\u001b[39m:\n\u001b[1;32m    473\u001b[0m     outs \u001b[38;5;241m=\u001b[39m outputs_losses(inputs, targets, auxiliary_vars)\n",
      "File \u001b[0;32m/usr/local/home/cyan3/miniforge/envs/tf/lib/python3.9/site-packages/tensorflow/python/client/session.py:970\u001b[0m, in \u001b[0;36mBaseSession.run\u001b[0;34m(self, fetches, feed_dict, options, run_metadata)\u001b[0m\n\u001b[1;32m    967\u001b[0m run_metadata_ptr \u001b[38;5;241m=\u001b[39m tf_session\u001b[38;5;241m.\u001b[39mTF_NewBuffer() \u001b[38;5;28;01mif\u001b[39;00m run_metadata \u001b[38;5;28;01melse\u001b[39;00m \u001b[38;5;28;01mNone\u001b[39;00m\n\u001b[1;32m    969\u001b[0m \u001b[38;5;28;01mtry\u001b[39;00m:\n\u001b[0;32m--> 970\u001b[0m   result \u001b[38;5;241m=\u001b[39m \u001b[38;5;28;43mself\u001b[39;49m\u001b[38;5;241;43m.\u001b[39;49m\u001b[43m_run\u001b[49m\u001b[43m(\u001b[49m\u001b[38;5;28;43;01mNone\u001b[39;49;00m\u001b[43m,\u001b[49m\u001b[43m \u001b[49m\u001b[43mfetches\u001b[49m\u001b[43m,\u001b[49m\u001b[43m \u001b[49m\u001b[43mfeed_dict\u001b[49m\u001b[43m,\u001b[49m\u001b[43m \u001b[49m\u001b[43moptions_ptr\u001b[49m\u001b[43m,\u001b[49m\n\u001b[1;32m    971\u001b[0m \u001b[43m                     \u001b[49m\u001b[43mrun_metadata_ptr\u001b[49m\u001b[43m)\u001b[49m\n\u001b[1;32m    972\u001b[0m   \u001b[38;5;28;01mif\u001b[39;00m run_metadata:\n\u001b[1;32m    973\u001b[0m     proto_data \u001b[38;5;241m=\u001b[39m tf_session\u001b[38;5;241m.\u001b[39mTF_GetBuffer(run_metadata_ptr)\n",
      "File \u001b[0;32m/usr/local/home/cyan3/miniforge/envs/tf/lib/python3.9/site-packages/tensorflow/python/client/session.py:1193\u001b[0m, in \u001b[0;36mBaseSession._run\u001b[0;34m(self, handle, fetches, feed_dict, options, run_metadata)\u001b[0m\n\u001b[1;32m   1190\u001b[0m \u001b[38;5;66;03m# We only want to really perform the run if fetches or targets are provided,\u001b[39;00m\n\u001b[1;32m   1191\u001b[0m \u001b[38;5;66;03m# or if the call is a partial run that specifies feeds.\u001b[39;00m\n\u001b[1;32m   1192\u001b[0m \u001b[38;5;28;01mif\u001b[39;00m final_fetches \u001b[38;5;129;01mor\u001b[39;00m final_targets \u001b[38;5;129;01mor\u001b[39;00m (handle \u001b[38;5;129;01mand\u001b[39;00m feed_dict_tensor):\n\u001b[0;32m-> 1193\u001b[0m   results \u001b[38;5;241m=\u001b[39m \u001b[38;5;28;43mself\u001b[39;49m\u001b[38;5;241;43m.\u001b[39;49m\u001b[43m_do_run\u001b[49m\u001b[43m(\u001b[49m\u001b[43mhandle\u001b[49m\u001b[43m,\u001b[49m\u001b[43m \u001b[49m\u001b[43mfinal_targets\u001b[49m\u001b[43m,\u001b[49m\u001b[43m \u001b[49m\u001b[43mfinal_fetches\u001b[49m\u001b[43m,\u001b[49m\n\u001b[1;32m   1194\u001b[0m \u001b[43m                         \u001b[49m\u001b[43mfeed_dict_tensor\u001b[49m\u001b[43m,\u001b[49m\u001b[43m \u001b[49m\u001b[43moptions\u001b[49m\u001b[43m,\u001b[49m\u001b[43m \u001b[49m\u001b[43mrun_metadata\u001b[49m\u001b[43m)\u001b[49m\n\u001b[1;32m   1195\u001b[0m \u001b[38;5;28;01melse\u001b[39;00m:\n\u001b[1;32m   1196\u001b[0m   results \u001b[38;5;241m=\u001b[39m []\n",
      "File \u001b[0;32m/usr/local/home/cyan3/miniforge/envs/tf/lib/python3.9/site-packages/tensorflow/python/client/session.py:1373\u001b[0m, in \u001b[0;36mBaseSession._do_run\u001b[0;34m(self, handle, target_list, fetch_list, feed_dict, options, run_metadata)\u001b[0m\n\u001b[1;32m   1370\u001b[0m   \u001b[38;5;28;01mreturn\u001b[39;00m \u001b[38;5;28mself\u001b[39m\u001b[38;5;241m.\u001b[39m_call_tf_sessionprun(handle, feed_dict, fetch_list)\n\u001b[1;32m   1372\u001b[0m \u001b[38;5;28;01mif\u001b[39;00m handle \u001b[38;5;129;01mis\u001b[39;00m \u001b[38;5;28;01mNone\u001b[39;00m:\n\u001b[0;32m-> 1373\u001b[0m   \u001b[38;5;28;01mreturn\u001b[39;00m \u001b[38;5;28;43mself\u001b[39;49m\u001b[38;5;241;43m.\u001b[39;49m\u001b[43m_do_call\u001b[49m\u001b[43m(\u001b[49m\u001b[43m_run_fn\u001b[49m\u001b[43m,\u001b[49m\u001b[43m \u001b[49m\u001b[43mfeeds\u001b[49m\u001b[43m,\u001b[49m\u001b[43m \u001b[49m\u001b[43mfetches\u001b[49m\u001b[43m,\u001b[49m\u001b[43m \u001b[49m\u001b[43mtargets\u001b[49m\u001b[43m,\u001b[49m\u001b[43m \u001b[49m\u001b[43moptions\u001b[49m\u001b[43m,\u001b[49m\n\u001b[1;32m   1374\u001b[0m \u001b[43m                       \u001b[49m\u001b[43mrun_metadata\u001b[49m\u001b[43m)\u001b[49m\n\u001b[1;32m   1375\u001b[0m \u001b[38;5;28;01melse\u001b[39;00m:\n\u001b[1;32m   1376\u001b[0m   \u001b[38;5;28;01mreturn\u001b[39;00m \u001b[38;5;28mself\u001b[39m\u001b[38;5;241m.\u001b[39m_do_call(_prun_fn, handle, feeds, fetches)\n",
      "File \u001b[0;32m/usr/local/home/cyan3/miniforge/envs/tf/lib/python3.9/site-packages/tensorflow/python/client/session.py:1399\u001b[0m, in \u001b[0;36mBaseSession._do_call\u001b[0;34m(self, fn, *args)\u001b[0m\n\u001b[1;32m   1394\u001b[0m \u001b[38;5;28;01mif\u001b[39;00m \u001b[38;5;124m'\u001b[39m\u001b[38;5;124monly supports NHWC tensor format\u001b[39m\u001b[38;5;124m'\u001b[39m \u001b[38;5;129;01min\u001b[39;00m message:\n\u001b[1;32m   1395\u001b[0m   message \u001b[38;5;241m+\u001b[39m\u001b[38;5;241m=\u001b[39m (\u001b[38;5;124m'\u001b[39m\u001b[38;5;130;01m\\n\u001b[39;00m\u001b[38;5;124mA possible workaround: Try disabling Grappler optimizer\u001b[39m\u001b[38;5;124m'\u001b[39m\n\u001b[1;32m   1396\u001b[0m               \u001b[38;5;124m'\u001b[39m\u001b[38;5;130;01m\\n\u001b[39;00m\u001b[38;5;124mby modifying the config for creating the session eg.\u001b[39m\u001b[38;5;124m'\u001b[39m\n\u001b[1;32m   1397\u001b[0m               \u001b[38;5;124m'\u001b[39m\u001b[38;5;130;01m\\n\u001b[39;00m\u001b[38;5;124msession_config.graph_options.rewrite_options.\u001b[39m\u001b[38;5;124m'\u001b[39m\n\u001b[1;32m   1398\u001b[0m               \u001b[38;5;124m'\u001b[39m\u001b[38;5;124mdisable_meta_optimizer = True\u001b[39m\u001b[38;5;124m'\u001b[39m)\n\u001b[0;32m-> 1399\u001b[0m \u001b[38;5;28;01mraise\u001b[39;00m \u001b[38;5;28mtype\u001b[39m(e)(node_def, op, message)\n",
      "\u001b[0;31mInvalidArgumentError\u001b[0m: 2 root error(s) found.\n  (0) INVALID_ARGUMENT: pyfunc_1 returns 0 values, but expects to see 1 values.\n\t [[node EagerPyFunc_1\n (defined at /usr/local/home/cyan3/miniforge/envs/tf/lib/python3.9/site-packages/deepxde/losses.py:71)\n]]\n\t [[cluster_0_1/merge_oidx_0/_5]]\n  (1) INVALID_ARGUMENT: pyfunc_1 returns 0 values, but expects to see 1 values.\n\t [[node EagerPyFunc_1\n (defined at /usr/local/home/cyan3/miniforge/envs/tf/lib/python3.9/site-packages/deepxde/losses.py:71)\n]]\n0 successful operations.\n0 derived errors ignored.\n\nErrors may have originated from an input operation.\nInput Source operations connected to node EagerPyFunc_1:\nIn[0] zeros_like_4 (defined at /usr/local/home/cyan3/miniforge/envs/tf/lib/python3.9/site-packages/deepxde/backend/tensorflow_compat_v1/tensor.py:158)\t\nIn[1] sub_22 (defined at /usr/local/home/cyan3/miniforge/envs/tf/lib/python3.9/site-packages/deepxde/icbc/boundary_conditions.py:188)\n\nOperation defined at: (most recent call last)\n>>>   File \"/usr/local/home/cyan3/miniforge/envs/tf/lib/python3.9/runpy.py\", line 197, in _run_module_as_main\n>>>     return _run_code(code, main_globals, None,\n>>> \n>>>   File \"/usr/local/home/cyan3/miniforge/envs/tf/lib/python3.9/runpy.py\", line 87, in _run_code\n>>>     exec(code, run_globals)\n>>> \n>>>   File \"/usr/local/home/cyan3/miniforge/envs/tf/lib/python3.9/site-packages/ipykernel_launcher.py\", line 17, in <module>\n>>>     app.launch_new_instance()\n>>> \n>>>   File \"/usr/local/home/cyan3/miniforge/envs/tf/lib/python3.9/site-packages/traitlets/config/application.py\", line 976, in launch_instance\n>>>     app.start()\n>>> \n>>>   File \"/usr/local/home/cyan3/miniforge/envs/tf/lib/python3.9/site-packages/ipykernel/kernelapp.py\", line 712, in start\n>>>     self.io_loop.start()\n>>> \n>>>   File \"/usr/local/home/cyan3/miniforge/envs/tf/lib/python3.9/site-packages/tornado/platform/asyncio.py\", line 215, in start\n>>>     self.asyncio_loop.run_forever()\n>>> \n>>>   File \"/usr/local/home/cyan3/miniforge/envs/tf/lib/python3.9/asyncio/base_events.py\", line 601, in run_forever\n>>>     self._run_once()\n>>> \n>>>   File \"/usr/local/home/cyan3/miniforge/envs/tf/lib/python3.9/asyncio/base_events.py\", line 1905, in _run_once\n>>>     handle._run()\n>>> \n>>>   File \"/usr/local/home/cyan3/miniforge/envs/tf/lib/python3.9/asyncio/events.py\", line 80, in _run\n>>>     self._context.run(self._callback, *self._args)\n>>> \n>>>   File \"/usr/local/home/cyan3/miniforge/envs/tf/lib/python3.9/site-packages/ipykernel/kernelbase.py\", line 510, in dispatch_queue\n>>>     await self.process_one()\n>>> \n>>>   File \"/usr/local/home/cyan3/miniforge/envs/tf/lib/python3.9/site-packages/ipykernel/kernelbase.py\", line 499, in process_one\n>>>     await dispatch(*args)\n>>> \n>>>   File \"/usr/local/home/cyan3/miniforge/envs/tf/lib/python3.9/site-packages/ipykernel/kernelbase.py\", line 406, in dispatch_shell\n>>>     await result\n>>> \n>>>   File \"/usr/local/home/cyan3/miniforge/envs/tf/lib/python3.9/site-packages/ipykernel/kernelbase.py\", line 730, in execute_request\n>>>     reply_content = await reply_content\n>>> \n>>>   File \"/usr/local/home/cyan3/miniforge/envs/tf/lib/python3.9/site-packages/ipykernel/ipkernel.py\", line 383, in do_execute\n>>>     res = shell.run_cell(\n>>> \n>>>   File \"/usr/local/home/cyan3/miniforge/envs/tf/lib/python3.9/site-packages/ipykernel/zmqshell.py\", line 528, in run_cell\n>>>     return super().run_cell(*args, **kwargs)\n>>> \n>>>   File \"/usr/local/home/cyan3/miniforge/envs/tf/lib/python3.9/site-packages/IPython/core/interactiveshell.py\", line 2881, in run_cell\n>>>     result = self._run_cell(\n>>> \n>>>   File \"/usr/local/home/cyan3/miniforge/envs/tf/lib/python3.9/site-packages/IPython/core/interactiveshell.py\", line 2936, in _run_cell\n>>>     return runner(coro)\n>>> \n>>>   File \"/usr/local/home/cyan3/miniforge/envs/tf/lib/python3.9/site-packages/IPython/core/async_helpers.py\", line 129, in _pseudo_sync_runner\n>>>     coro.send(None)\n>>> \n>>>   File \"/usr/local/home/cyan3/miniforge/envs/tf/lib/python3.9/site-packages/IPython/core/interactiveshell.py\", line 3135, in run_cell_async\n>>>     has_raised = await self.run_ast_nodes(code_ast.body, cell_name,\n>>> \n>>>   File \"/usr/local/home/cyan3/miniforge/envs/tf/lib/python3.9/site-packages/IPython/core/interactiveshell.py\", line 3338, in run_ast_nodes\n>>>     if await self.run_code(code, result, async_=asy):\n>>> \n>>>   File \"/usr/local/home/cyan3/miniforge/envs/tf/lib/python3.9/site-packages/IPython/core/interactiveshell.py\", line 3398, in run_code\n>>>     exec(code_obj, self.user_global_ns, self.user_ns)\n>>> \n>>>   File \"/tmp/ipykernel_264221/3461619996.py\", line 2, in <cell line: 2>\n>>>     model.compile(\"adam\", lr=1e-3,loss=loss_func)\n>>> \n>>>   File \"/usr/local/home/cyan3/miniforge/envs/tf/lib/python3.9/site-packages/deepxde/utils/internal.py\", line 22, in wrapper\n>>>     result = f(*args, **kwargs)\n>>> \n>>>   File \"/usr/local/home/cyan3/miniforge/envs/tf/lib/python3.9/site-packages/deepxde/model.py\", line 124, in compile\n>>>     self._compile_tensorflow_compat_v1(lr, loss_fn, decay, loss_weights)\n>>> \n>>>   File \"/usr/local/home/cyan3/miniforge/envs/tf/lib/python3.9/site-packages/deepxde/model.py\", line 169, in _compile_tensorflow_compat_v1\n>>>     losses_train = losses(self.data.losses_train)\n>>> \n>>>   File \"/usr/local/home/cyan3/miniforge/envs/tf/lib/python3.9/site-packages/deepxde/model.py\", line 155, in losses\n>>>     losses = losses_fn(\n>>> \n>>>   File \"/usr/local/home/cyan3/miniforge/envs/tf/lib/python3.9/site-packages/deepxde/data/data.py\", line 13, in losses_train\n>>>     return self.losses(targets, outputs, loss_fn, inputs, model, aux=aux)\n>>> \n>>>   File \"/usr/local/home/cyan3/miniforge/envs/tf/lib/python3.9/site-packages/deepxde/data/pde.py\", line 154, in losses\n>>>     losses.append(loss_fn[len(error_f) + i](bkd.zeros_like(error), error))\n>>> \n>>>   File \"/usr/local/home/cyan3/miniforge/envs/tf/lib/python3.9/site-packages/deepxde/losses.py\", line 71, in WASS2\n>>>     return tf.py_function(\n>>> \n\nInput Source operations connected to node EagerPyFunc_1:\nIn[0] zeros_like_4 (defined at /usr/local/home/cyan3/miniforge/envs/tf/lib/python3.9/site-packages/deepxde/backend/tensorflow_compat_v1/tensor.py:158)\t\nIn[1] sub_22 (defined at /usr/local/home/cyan3/miniforge/envs/tf/lib/python3.9/site-packages/deepxde/icbc/boundary_conditions.py:188)\n\nOperation defined at: (most recent call last)\n>>>   File \"/usr/local/home/cyan3/miniforge/envs/tf/lib/python3.9/runpy.py\", line 197, in _run_module_as_main\n>>>     return _run_code(code, main_globals, None,\n>>> \n>>>   File \"/usr/local/home/cyan3/miniforge/envs/tf/lib/python3.9/runpy.py\", line 87, in _run_code\n>>>     exec(code, run_globals)\n>>> \n>>>   File \"/usr/local/home/cyan3/miniforge/envs/tf/lib/python3.9/site-packages/ipykernel_launcher.py\", line 17, in <module>\n>>>     app.launch_new_instance()\n>>> \n>>>   File \"/usr/local/home/cyan3/miniforge/envs/tf/lib/python3.9/site-packages/traitlets/config/application.py\", line 976, in launch_instance\n>>>     app.start()\n>>> \n>>>   File \"/usr/local/home/cyan3/miniforge/envs/tf/lib/python3.9/site-packages/ipykernel/kernelapp.py\", line 712, in start\n>>>     self.io_loop.start()\n>>> \n>>>   File \"/usr/local/home/cyan3/miniforge/envs/tf/lib/python3.9/site-packages/tornado/platform/asyncio.py\", line 215, in start\n>>>     self.asyncio_loop.run_forever()\n>>> \n>>>   File \"/usr/local/home/cyan3/miniforge/envs/tf/lib/python3.9/asyncio/base_events.py\", line 601, in run_forever\n>>>     self._run_once()\n>>> \n>>>   File \"/usr/local/home/cyan3/miniforge/envs/tf/lib/python3.9/asyncio/base_events.py\", line 1905, in _run_once\n>>>     handle._run()\n>>> \n>>>   File \"/usr/local/home/cyan3/miniforge/envs/tf/lib/python3.9/asyncio/events.py\", line 80, in _run\n>>>     self._context.run(self._callback, *self._args)\n>>> \n>>>   File \"/usr/local/home/cyan3/miniforge/envs/tf/lib/python3.9/site-packages/ipykernel/kernelbase.py\", line 510, in dispatch_queue\n>>>     await self.process_one()\n>>> \n>>>   File \"/usr/local/home/cyan3/miniforge/envs/tf/lib/python3.9/site-packages/ipykernel/kernelbase.py\", line 499, in process_one\n>>>     await dispatch(*args)\n>>> \n>>>   File \"/usr/local/home/cyan3/miniforge/envs/tf/lib/python3.9/site-packages/ipykernel/kernelbase.py\", line 406, in dispatch_shell\n>>>     await result\n>>> \n>>>   File \"/usr/local/home/cyan3/miniforge/envs/tf/lib/python3.9/site-packages/ipykernel/kernelbase.py\", line 730, in execute_request\n>>>     reply_content = await reply_content\n>>> \n>>>   File \"/usr/local/home/cyan3/miniforge/envs/tf/lib/python3.9/site-packages/ipykernel/ipkernel.py\", line 383, in do_execute\n>>>     res = shell.run_cell(\n>>> \n>>>   File \"/usr/local/home/cyan3/miniforge/envs/tf/lib/python3.9/site-packages/ipykernel/zmqshell.py\", line 528, in run_cell\n>>>     return super().run_cell(*args, **kwargs)\n>>> \n>>>   File \"/usr/local/home/cyan3/miniforge/envs/tf/lib/python3.9/site-packages/IPython/core/interactiveshell.py\", line 2881, in run_cell\n>>>     result = self._run_cell(\n>>> \n>>>   File \"/usr/local/home/cyan3/miniforge/envs/tf/lib/python3.9/site-packages/IPython/core/interactiveshell.py\", line 2936, in _run_cell\n>>>     return runner(coro)\n>>> \n>>>   File \"/usr/local/home/cyan3/miniforge/envs/tf/lib/python3.9/site-packages/IPython/core/async_helpers.py\", line 129, in _pseudo_sync_runner\n>>>     coro.send(None)\n>>> \n>>>   File \"/usr/local/home/cyan3/miniforge/envs/tf/lib/python3.9/site-packages/IPython/core/interactiveshell.py\", line 3135, in run_cell_async\n>>>     has_raised = await self.run_ast_nodes(code_ast.body, cell_name,\n>>> \n>>>   File \"/usr/local/home/cyan3/miniforge/envs/tf/lib/python3.9/site-packages/IPython/core/interactiveshell.py\", line 3338, in run_ast_nodes\n>>>     if await self.run_code(code, result, async_=asy):\n>>> \n>>>   File \"/usr/local/home/cyan3/miniforge/envs/tf/lib/python3.9/site-packages/IPython/core/interactiveshell.py\", line 3398, in run_code\n>>>     exec(code_obj, self.user_global_ns, self.user_ns)\n>>> \n>>>   File \"/tmp/ipykernel_264221/3461619996.py\", line 2, in <cell line: 2>\n>>>     model.compile(\"adam\", lr=1e-3,loss=loss_func)\n>>> \n>>>   File \"/usr/local/home/cyan3/miniforge/envs/tf/lib/python3.9/site-packages/deepxde/utils/internal.py\", line 22, in wrapper\n>>>     result = f(*args, **kwargs)\n>>> \n>>>   File \"/usr/local/home/cyan3/miniforge/envs/tf/lib/python3.9/site-packages/deepxde/model.py\", line 124, in compile\n>>>     self._compile_tensorflow_compat_v1(lr, loss_fn, decay, loss_weights)\n>>> \n>>>   File \"/usr/local/home/cyan3/miniforge/envs/tf/lib/python3.9/site-packages/deepxde/model.py\", line 169, in _compile_tensorflow_compat_v1\n>>>     losses_train = losses(self.data.losses_train)\n>>> \n>>>   File \"/usr/local/home/cyan3/miniforge/envs/tf/lib/python3.9/site-packages/deepxde/model.py\", line 155, in losses\n>>>     losses = losses_fn(\n>>> \n>>>   File \"/usr/local/home/cyan3/miniforge/envs/tf/lib/python3.9/site-packages/deepxde/data/data.py\", line 13, in losses_train\n>>>     return self.losses(targets, outputs, loss_fn, inputs, model, aux=aux)\n>>> \n>>>   File \"/usr/local/home/cyan3/miniforge/envs/tf/lib/python3.9/site-packages/deepxde/data/pde.py\", line 154, in losses\n>>>     losses.append(loss_fn[len(error_f) + i](bkd.zeros_like(error), error))\n>>> \n>>>   File \"/usr/local/home/cyan3/miniforge/envs/tf/lib/python3.9/site-packages/deepxde/losses.py\", line 71, in WASS2\n>>>     return tf.py_function(\n>>> \n\nOriginal stack trace for 'EagerPyFunc_1':\n  File \"/usr/local/home/cyan3/miniforge/envs/tf/lib/python3.9/runpy.py\", line 197, in _run_module_as_main\n    return _run_code(code, main_globals, None,\n  File \"/usr/local/home/cyan3/miniforge/envs/tf/lib/python3.9/runpy.py\", line 87, in _run_code\n    exec(code, run_globals)\n  File \"/usr/local/home/cyan3/miniforge/envs/tf/lib/python3.9/site-packages/ipykernel_launcher.py\", line 17, in <module>\n    app.launch_new_instance()\n  File \"/usr/local/home/cyan3/miniforge/envs/tf/lib/python3.9/site-packages/traitlets/config/application.py\", line 976, in launch_instance\n    app.start()\n  File \"/usr/local/home/cyan3/miniforge/envs/tf/lib/python3.9/site-packages/ipykernel/kernelapp.py\", line 712, in start\n    self.io_loop.start()\n  File \"/usr/local/home/cyan3/miniforge/envs/tf/lib/python3.9/site-packages/tornado/platform/asyncio.py\", line 215, in start\n    self.asyncio_loop.run_forever()\n  File \"/usr/local/home/cyan3/miniforge/envs/tf/lib/python3.9/asyncio/base_events.py\", line 601, in run_forever\n    self._run_once()\n  File \"/usr/local/home/cyan3/miniforge/envs/tf/lib/python3.9/asyncio/base_events.py\", line 1905, in _run_once\n    handle._run()\n  File \"/usr/local/home/cyan3/miniforge/envs/tf/lib/python3.9/asyncio/events.py\", line 80, in _run\n    self._context.run(self._callback, *self._args)\n  File \"/usr/local/home/cyan3/miniforge/envs/tf/lib/python3.9/site-packages/ipykernel/kernelbase.py\", line 510, in dispatch_queue\n    await self.process_one()\n  File \"/usr/local/home/cyan3/miniforge/envs/tf/lib/python3.9/site-packages/ipykernel/kernelbase.py\", line 499, in process_one\n    await dispatch(*args)\n  File \"/usr/local/home/cyan3/miniforge/envs/tf/lib/python3.9/site-packages/ipykernel/kernelbase.py\", line 406, in dispatch_shell\n    await result\n  File \"/usr/local/home/cyan3/miniforge/envs/tf/lib/python3.9/site-packages/ipykernel/kernelbase.py\", line 730, in execute_request\n    reply_content = await reply_content\n  File \"/usr/local/home/cyan3/miniforge/envs/tf/lib/python3.9/site-packages/ipykernel/ipkernel.py\", line 383, in do_execute\n    res = shell.run_cell(\n  File \"/usr/local/home/cyan3/miniforge/envs/tf/lib/python3.9/site-packages/ipykernel/zmqshell.py\", line 528, in run_cell\n    return super().run_cell(*args, **kwargs)\n  File \"/usr/local/home/cyan3/miniforge/envs/tf/lib/python3.9/site-packages/IPython/core/interactiveshell.py\", line 2881, in run_cell\n    result = self._run_cell(\n  File \"/usr/local/home/cyan3/miniforge/envs/tf/lib/python3.9/site-packages/IPython/core/interactiveshell.py\", line 2936, in _run_cell\n    return runner(coro)\n  File \"/usr/local/home/cyan3/miniforge/envs/tf/lib/python3.9/site-packages/IPython/core/async_helpers.py\", line 129, in _pseudo_sync_runner\n    coro.send(None)\n  File \"/usr/local/home/cyan3/miniforge/envs/tf/lib/python3.9/site-packages/IPython/core/interactiveshell.py\", line 3135, in run_cell_async\n    has_raised = await self.run_ast_nodes(code_ast.body, cell_name,\n  File \"/usr/local/home/cyan3/miniforge/envs/tf/lib/python3.9/site-packages/IPython/core/interactiveshell.py\", line 3338, in run_ast_nodes\n    if await self.run_code(code, result, async_=asy):\n  File \"/usr/local/home/cyan3/miniforge/envs/tf/lib/python3.9/site-packages/IPython/core/interactiveshell.py\", line 3398, in run_code\n    exec(code_obj, self.user_global_ns, self.user_ns)\n  File \"/tmp/ipykernel_264221/3461619996.py\", line 2, in <cell line: 2>\n    model.compile(\"adam\", lr=1e-3,loss=loss_func)\n  File \"/usr/local/home/cyan3/miniforge/envs/tf/lib/python3.9/site-packages/deepxde/utils/internal.py\", line 22, in wrapper\n    result = f(*args, **kwargs)\n  File \"/usr/local/home/cyan3/miniforge/envs/tf/lib/python3.9/site-packages/deepxde/model.py\", line 124, in compile\n    self._compile_tensorflow_compat_v1(lr, loss_fn, decay, loss_weights)\n  File \"/usr/local/home/cyan3/miniforge/envs/tf/lib/python3.9/site-packages/deepxde/model.py\", line 169, in _compile_tensorflow_compat_v1\n    losses_train = losses(self.data.losses_train)\n  File \"/usr/local/home/cyan3/miniforge/envs/tf/lib/python3.9/site-packages/deepxde/model.py\", line 155, in losses\n    losses = losses_fn(\n  File \"/usr/local/home/cyan3/miniforge/envs/tf/lib/python3.9/site-packages/deepxde/data/data.py\", line 13, in losses_train\n    return self.losses(targets, outputs, loss_fn, inputs, model, aux=aux)\n  File \"/usr/local/home/cyan3/miniforge/envs/tf/lib/python3.9/site-packages/deepxde/data/pde.py\", line 154, in losses\n    losses.append(loss_fn[len(error_f) + i](bkd.zeros_like(error), error))\n  File \"/usr/local/home/cyan3/miniforge/envs/tf/lib/python3.9/site-packages/deepxde/losses.py\", line 71, in WASS2\n    return tf.py_function(\n  File \"/usr/local/home/cyan3/miniforge/envs/tf/lib/python3.9/site-packages/tensorflow/python/util/traceback_utils.py\", line 150, in error_handler\n    return fn(*args, **kwargs)\n  File \"/usr/local/home/cyan3/miniforge/envs/tf/lib/python3.9/site-packages/tensorflow/python/util/dispatch.py\", line 1096, in op_dispatch_handler\n    return dispatch_target(*args, **kwargs)\n  File \"/usr/local/home/cyan3/miniforge/envs/tf/lib/python3.9/site-packages/tensorflow/python/ops/script_ops.py\", line 522, in eager_py_func\n    return _internal_py_func(\n  File \"/usr/local/home/cyan3/miniforge/envs/tf/lib/python3.9/site-packages/tensorflow/python/ops/script_ops.py\", line 377, in _internal_py_func\n    result = gen_script_ops.eager_py_func(\n  File \"/usr/local/home/cyan3/miniforge/envs/tf/lib/python3.9/site-packages/tensorflow/python/ops/gen_script_ops.py\", line 68, in eager_py_func\n    _, _, _op, _outputs = _op_def_library._apply_op_helper(\n  File \"/usr/local/home/cyan3/miniforge/envs/tf/lib/python3.9/site-packages/tensorflow/python/framework/op_def_library.py\", line 744, in _apply_op_helper\n    op = g._create_op_internal(op_type_name, inputs, dtypes=None,\n  File \"/usr/local/home/cyan3/miniforge/envs/tf/lib/python3.9/site-packages/tensorflow/python/framework/ops.py\", line 3697, in _create_op_internal\n    ret = Operation(\n  File \"/usr/local/home/cyan3/miniforge/envs/tf/lib/python3.9/site-packages/tensorflow/python/framework/ops.py\", line 2101, in __init__\n    self._traceback = tf_stack.extract_stack_for_node(self._c_op)\n"
     ]
    }
   ],
   "source": [
    "loss_func=[\"MSE\",\"MSE\",\"MSE\",\"wass\",\"wass\"]\n",
    "model.compile(\"adam\", lr=1e-3,loss=loss_func)\n",
    "losshistory, train_state = model.train(epochs=15000)\n"
   ]
  },
  {
   "cell_type": "code",
   "execution_count": null,
   "id": "a04ce059",
   "metadata": {},
   "outputs": [],
   "source": [
    "dde.saveplot(losshistory, train_state, issave=True, isplot=True)"
   ]
  },
  {
   "cell_type": "code",
   "execution_count": null,
   "id": "c7ddc203",
   "metadata": {},
   "outputs": [],
   "source": []
  },
  {
   "cell_type": "code",
   "execution_count": null,
   "id": "90b7cb5d",
   "metadata": {},
   "outputs": [],
   "source": []
  }
 ],
 "metadata": {
  "kernelspec": {
   "display_name": "Python 3 (ipykernel)",
   "language": "python",
   "name": "python3"
  },
  "language_info": {
   "codemirror_mode": {
    "name": "ipython",
    "version": 3
   },
   "file_extension": ".py",
   "mimetype": "text/x-python",
   "name": "python",
   "nbconvert_exporter": "python",
   "pygments_lexer": "ipython3",
   "version": "3.9.13"
  }
 },
 "nbformat": 4,
 "nbformat_minor": 5
}
