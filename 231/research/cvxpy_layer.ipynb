{
 "cells": [
  {
   "cell_type": "code",
   "execution_count": 1,
   "id": "35fdd3e2",
   "metadata": {},
   "outputs": [
    {
     "name": "stdout",
     "output_type": "stream",
     "text": [
      "tensorflow\n"
     ]
    }
   ],
   "source": [
    "# 0 define backend\n",
    "import sys, os, time\n",
    "\n",
    "# %env DDE_BACKEND=tensorflow.compat.v1\n",
    "# %env XLA_FLAGS=--xla_gpu_cuda_data_dir=/usr/local/home/cyan3/miniforge/envs/tf\n",
    "\n",
    "os.environ['DDE_BACKEND'] = \"tensorflow\" # v2\n",
    "os.environ['XLA_FLAGS'] = \"--xla_gpu_cuda_data_dir=/usr/local/home/cyan3/miniforge/envs/tf\"\n",
    "\n",
    "# https://stackoverflow.com/questions/68614547/tensorflow-libdevice-not-found-why-is-it-not-found-in-the-searched-path\n",
    "# this directory has /nvvm/libdevice/libdevice.10.bc\n",
    "\n",
    "print(os.environ['DDE_BACKEND'])"
   ]
  },
  {
   "cell_type": "code",
   "execution_count": 2,
   "id": "b88ab77c",
   "metadata": {},
   "outputs": [
    {
     "name": "stderr",
     "output_type": "stream",
     "text": [
      "Using backend: tensorflow\n",
      "\n",
      "2022-09-09 13:16:40.480655: E tensorflow/stream_executor/cuda/cuda_driver.cc:271] failed call to cuInit: CUDA_ERROR_NO_DEVICE: no CUDA-capable device is detected\n",
      "2022-09-09 13:16:40.480729: I tensorflow/stream_executor/cuda/cuda_diagnostics.cc:169] retrieving CUDA diagnostic information for host: vipersim01.ndc.nasa.gov\n",
      "2022-09-09 13:16:40.480751: I tensorflow/stream_executor/cuda/cuda_diagnostics.cc:176] hostname: vipersim01.ndc.nasa.gov\n",
      "2022-09-09 13:16:40.480906: I tensorflow/stream_executor/cuda/cuda_diagnostics.cc:200] libcuda reported version is: 515.65.1\n",
      "2022-09-09 13:16:40.480962: I tensorflow/stream_executor/cuda/cuda_diagnostics.cc:204] kernel reported version is: 515.65.1\n",
      "2022-09-09 13:16:40.480978: I tensorflow/stream_executor/cuda/cuda_diagnostics.cc:310] kernel version seems to match DSO: 515.65.1\n"
     ]
    }
   ],
   "source": [
    "import tensorflow as tf\n",
    "\n",
    "import deepxde as dde\n",
    "import numpy as np\n",
    "from numpy import linalg as LA\n",
    "import math\n",
    "\n",
    "import matplotlib.pyplot as plt\n",
    "import pylab\n",
    "\n",
    "from os.path import dirname, join as pjoin\n",
    "\n",
    "from scipy import stats\n",
    "import scipy.io\n",
    "from scipy.stats import truncnorm, norm\n",
    "from scipy.optimize import linprog\n",
    "from scipy import sparse\n",
    "from scipy.stats import multivariate_normal\n",
    "\n",
    "gpu_devices = tf.config.experimental.list_physical_devices('GPU')\n",
    "for device in gpu_devices:\n",
    "    print(device)\n",
    "    \n",
    "if dde.backend.backend_name == \"pytorch\":\n",
    "    exp = dde.backend.torch.exp\n",
    "else:\n",
    "    from deepxde.backend import tf\n",
    "\n",
    "    exp = tf.exp"
   ]
  },
  {
   "cell_type": "code",
   "execution_count": 3,
   "id": "80aed865",
   "metadata": {},
   "outputs": [
    {
     "name": "stdout",
     "output_type": "stream",
     "text": [
      "1662754608.1453207\n"
     ]
    }
   ],
   "source": [
    "import cvxpy as cp\n",
    "import numpy as np\n",
    "import tensorflow as tf\n",
    "from scipy.linalg import solve_discrete_are\n",
    "from scipy.linalg import sqrtm\n",
    "from cvxpylayers.tensorflow.cvxpylayer import CvxpyLayer\n",
    "\n",
    "print(time.time())"
   ]
  },
  {
   "cell_type": "code",
   "execution_count": 95,
   "id": "d017e185",
   "metadata": {},
   "outputs": [
    {
     "name": "stdout",
     "output_type": "stream",
     "text": [
      "1662755250.0594432\n"
     ]
    }
   ],
   "source": [
    "N = nSample = 100\n",
    "\n",
    "# must be floats\n",
    "state_min = 0.0\n",
    "state_max = 6.0\n",
    "\n",
    "j1, j2, j3 =1,1,2 # axis-symmetric case\n",
    "q_statepenalty_gain = 0 # 0.5\n",
    "\n",
    "T_0=0. #initial time\n",
    "T_t=200. #Terminal time\n",
    "\n",
    "print(time.time())"
   ]
  },
  {
   "cell_type": "code",
   "execution_count": null,
   "id": "3ff520ce",
   "metadata": {},
   "outputs": [],
   "source": []
  },
  {
   "cell_type": "code",
   "execution_count": 73,
   "id": "4afa3b31",
   "metadata": {},
   "outputs": [
    {
     "name": "stdout",
     "output_type": "stream",
     "text": [
      "1662755143.65835\n"
     ]
    }
   ],
   "source": [
    "x_T = np.transpose(np.linspace(state_min, state_max, N))\n",
    "y_T = np.transpose(np.linspace(state_min, state_max, N))\n",
    "z_T = np.transpose(np.linspace(state_min, state_max, N))\n",
    "x_T=x_T.reshape(len(x_T),1)\n",
    "y_T=y_T.reshape(len(y_T),1)\n",
    "z_T=z_T.reshape(len(z_T),1)\n",
    "print(time.time())"
   ]
  },
  {
   "cell_type": "code",
   "execution_count": 96,
   "id": "d36c0b82",
   "metadata": {},
   "outputs": [
    {
     "name": "stdout",
     "output_type": "stream",
     "text": [
      "1662755277.6753075\n"
     ]
    }
   ],
   "source": [
    "def pdf1d(x, mu, sigma):\n",
    "    a, b = (state_min - mu) / sigma, (state_max - mu) / sigma\n",
    "    rho_x=truncnorm.pdf(x, a, b, loc = mu, scale = sigma)\n",
    "\n",
    "    # do NOT use gaussian norm, because it is only area=1\n",
    "    # from -inf, inf, will not be for finite state/grid\n",
    "    # rho_x = norm.pdf(x, mu, sigma)\n",
    "    return rho_x\n",
    "\n",
    "def boundary(_, on_initial):\n",
    "    return on_initial\n",
    "\n",
    "print(time.time())"
   ]
  },
  {
   "cell_type": "code",
   "execution_count": null,
   "id": "4a20e68d",
   "metadata": {},
   "outputs": [],
   "source": []
  },
  {
   "cell_type": "code",
   "execution_count": 7,
   "id": "8bc3514d",
   "metadata": {},
   "outputs": [
    {
     "name": "stdout",
     "output_type": "stream",
     "text": [
      "1662754617.398471\n"
     ]
    }
   ],
   "source": []
  },
  {
   "cell_type": "code",
   "execution_count": 151,
   "id": "8ac159f0",
   "metadata": {},
   "outputs": [
    {
     "name": "stdout",
     "output_type": "stream",
     "text": [
      "(10000, 1)\n",
      "(200, 10000)\n"
     ]
    }
   ],
   "source": [
    "x_grid = np.transpose(np.linspace(state_min, state_max, nSample))\n",
    "y_grid = np.transpose(np.linspace(state_min, state_max, nSample))\n",
    "[X,Y] = np.meshgrid(x_grid,x_grid)\n",
    "C = (X - Y)**2\n",
    "\n",
    "# cvector = C.flatten('F')\n",
    "cvector = C.reshape(nSample**2,1)\n",
    "\n",
    "A = np.concatenate(\n",
    "    (\n",
    "        np.kron(\n",
    "            np.ones((1,nSample)),\n",
    "            sparse.eye(nSample).toarray()\n",
    "        ),\n",
    "        np.kron(\n",
    "            sparse.eye(nSample).toarray(),\n",
    "            np.ones((1,nSample))\n",
    "        )\n",
    "    ), axis=0)\n",
    "# 2*nSample\n",
    "\n",
    "print(cvector.shape)\n",
    "print(A.shape)"
   ]
  },
  {
   "cell_type": "code",
   "execution_count": 153,
   "id": "aa00e423",
   "metadata": {},
   "outputs": [
    {
     "name": "stdout",
     "output_type": "stream",
     "text": [
      "1662770078.1267629\n"
     ]
    }
   ],
   "source": [
    "# 1d linprog example\n",
    "\n",
    "rho_0_1d=pdf1d(x_T, 5.0, 1.0).reshape(len(x_T),1)\n",
    "rho_T_1d=pdf1d(x_T, 4.0, 1.0).reshape(len(x_T),1)\n",
    "\n",
    "rho_0_1d = np.where(rho_0_1d < 0, 0, rho_0_1d)\n",
    "rho_0_1d = rho_0_1d / np.sum(np.abs(rho_0_1d))\n",
    "\n",
    "# rho_0_1d_trapz = np.trapz(rho_0_1d, axis=0)[0]\n",
    "# rho_0_1d = rho_0_1d / rho_0_1d_trapz\n",
    "# rho_0_1d_trapz = np.trapz(rho_0_1d, axis=0)\n",
    "# print(\"rho_0_1d_trapz=\",rho_0_1d_trapz)\n",
    "\n",
    "rho_T_1d = np.where(rho_T_1d < 0, 0, rho_T_1d)\n",
    "rho_T_1d = rho_T_1d / np.sum(np.abs(rho_T_1d))\n",
    "\n",
    "# rho_T_1d_trapz = np.trapz(rho_T_1d, axis=0)[0]\n",
    "# rho_T_1d = rho_T_1d / rho_T_1d_trapz\n",
    "# rho_T_1d_trapz = np.trapz(rho_T_1d, axis=0)\n",
    "# print(\"rho_T_1d_trapz=\",rho_T_1d_trapz)\n",
    "\n",
    "rho_0 = rho_0_1d\n",
    "rho_T = rho_T_1d\n",
    "\n",
    "print(time.time())"
   ]
  },
  {
   "cell_type": "code",
   "execution_count": 120,
   "id": "6150c047",
   "metadata": {},
   "outputs": [
    {
     "name": "stdout",
     "output_type": "stream",
     "text": [
      "Running HiGHS 1.2.2 [date: 2022-08-30, git hash: n/a]\n",
      "Copyright (c) 2022 ERGO-Code under MIT licence terms\n",
      "Presolving model\n",
      "200 rows, 10000 cols, 20000 nonzeros\n",
      "199 rows, 10000 cols, 19900 nonzeros\n",
      "Presolve : Reductions: rows 199(-1); columns 10000(-0); elements 19900(-100)\n",
      "Solving the presolved LP\n",
      "Using EKK dual simplex solver - serial\n",
      "  Iteration        Objective     Infeasibilities num(sum)\n",
      "          0     0.0000000000e+00 Pr: 199(1.99666) 0s\n",
      "       2699     6.3187344716e-01 Pr: 0(0) 0s\n",
      "Solving the original LP from the solution after postsolve\n",
      "Model   status      : Optimal\n",
      "Simplex   iterations: 2699\n",
      "Objective value     :  6.3187344716e-01\n",
      "HiGHS run time      :          0.13\n",
      "WARNING: Method getModelStatus(const bool scaled_model) is deprecated: alternative method is getModelStatus()\n",
      "0.6318734471629914\n"
     ]
    }
   ],
   "source": [
    "res = linprog(\n",
    "    cvector,\n",
    "    A_eq=A,\n",
    "    b_eq=np.concatenate((rho_0, rho_T), axis=0),\n",
    "    bounds=[(0, np.inf)],\n",
    "    options={\"disp\": True}\n",
    ")\n",
    "print(res.fun)"
   ]
  },
  {
   "cell_type": "code",
   "execution_count": 122,
   "id": "84e5c555",
   "metadata": {},
   "outputs": [
    {
     "name": "stdout",
     "output_type": "stream",
     "text": [
      "\n",
      "The optimal value is 0.6318734626810212\n"
     ]
    }
   ],
   "source": [
    "# Define and solve the CVXPY problem.\n",
    "x = cp.Variable(\n",
    "    cvector.shape[0],\n",
    "    nonneg=True\n",
    ")\n",
    "prob = cp.Problem(\n",
    "    cp.Minimize(cvector.T @ x),\n",
    "    [\n",
    "        A @ x == np.concatenate((\n",
    "            rho_0,\n",
    "            rho_T\n",
    "        ), axis=0).reshape(-1),\n",
    "        # do NOT specify bounds constraints here\n",
    "    ],\n",
    ")\n",
    "prob.solve(verbose=False)\n",
    "\n",
    "# Print result.\n",
    "print(\"\\nThe optimal value is\", prob.value)\n",
    "\n",
    "# print(\"A dual solution is\")\n",
    "# print(prob.constraints[0].dual_value)"
   ]
  },
  {
   "cell_type": "code",
   "execution_count": null,
   "id": "ba9f666a",
   "metadata": {},
   "outputs": [],
   "source": []
  },
  {
   "cell_type": "code",
   "execution_count": null,
   "id": "728f6ecc",
   "metadata": {},
   "outputs": [],
   "source": []
  },
  {
   "cell_type": "code",
   "execution_count": null,
   "id": "33303281",
   "metadata": {},
   "outputs": [],
   "source": []
  },
  {
   "cell_type": "code",
   "execution_count": 123,
   "id": "f0276ad5",
   "metadata": {},
   "outputs": [
    {
     "name": "stdout",
     "output_type": "stream",
     "text": [
      "1662767886.175151\n"
     ]
    }
   ],
   "source": [
    "# Generate data\n",
    "tf.random.set_seed(1)\n",
    "np.random.seed(1)\n",
    "\n",
    "n = 2\n",
    "m = 3\n",
    "\n",
    "A = np.eye(n) + 1e-2 * np.random.randn(n, n)\n",
    "B = 1e-2 / 3 * np.random.randn(n, m)\n",
    "Q = np.eye(n)\n",
    "R = np.eye(m)\n",
    "\n",
    "# Compute LQR control policy\n",
    "P_lqr = solve_discrete_are(A, B, Q, R)\n",
    "P = R + B.T@P_lqr@B\n",
    "P_sqrt_lqr = sqrtm(P)\n",
    "\n",
    "# Construct CVXPY problem and layer\n",
    "x_cvxpy = cp.Parameter((n, 1))\n",
    "P_sqrt_cvxpy = cp.Parameter((m, m))\n",
    "P_21_cvxpy = cp.Parameter((n, m))\n",
    "q_cvxpy = cp.Parameter((m, 1))\n",
    "\n",
    "u_cvxpy = cp.Variable((m, 1))\n",
    "y_cvxpy = cp.Variable((n, 1))\n",
    "\n",
    "objective = .5 * cp.sum_squares(P_sqrt_cvxpy @ u_cvxpy) + x_cvxpy.T @ y_cvxpy + q_cvxpy.T @ u_cvxpy\n",
    "problem = cp.Problem(\n",
    "    cp.Minimize(objective),\n",
    "    [\n",
    "        cp.norm(u_cvxpy) <= 1,\n",
    "         y_cvxpy == P_21_cvxpy @ u_cvxpy])\n",
    "assert problem.is_dpp()\n",
    "\n",
    "policy = CvxpyLayer(\n",
    "    problem,\n",
    "    [x_cvxpy, P_sqrt_cvxpy, P_21_cvxpy, q_cvxpy],\n",
    "    [u_cvxpy]\n",
    ")\n",
    "\n",
    "print(time.time())"
   ]
  },
  {
   "cell_type": "code",
   "execution_count": 124,
   "id": "6609beb0",
   "metadata": {},
   "outputs": [
    {
     "name": "stderr",
     "output_type": "stream",
     "text": [
      "2022-09-09 16:58:08.969134: I tensorflow/core/platform/cpu_feature_guard.cc:193] This TensorFlow binary is optimized with oneAPI Deep Neural Network Library (oneDNN) to use the following CPU instructions in performance-critical operations:  AVX2 AVX512F FMA\n",
      "To enable them in other operations, rebuild TensorFlow with the appropriate compiler flags.\n"
     ]
    },
    {
     "name": "stdout",
     "output_type": "stream",
     "text": [
      "(iter 0) loss: 1.18636 \n",
      "(iter 1) loss: 1.17736 \n",
      "(iter 2) loss: 1.16117 \n",
      "(iter 3) loss: 1.14003 \n",
      "(iter 4) loss: 1.11708 \n",
      "(iter 5) loss: 1.09235 \n",
      "(iter 6) loss: 1.06506 \n",
      "(iter 7) loss: 1.03635 \n",
      "(iter 8) loss: 1.00903 \n",
      "(iter 9) loss: 0.982168 \n",
      "(iter 10) loss: 0.954868 \n",
      "(iter 11) loss: 0.9264 \n",
      "(iter 12) loss: 0.900323 \n",
      "(iter 13) loss: 0.874538 \n",
      "(iter 14) loss: 0.851284 \n",
      "(iter 15) loss: 0.828712 \n",
      "(iter 16) loss: 0.808883 \n",
      "(iter 17) loss: 0.792439 \n",
      "(iter 18) loss: 0.778375 \n",
      "(iter 19) loss: 0.766479 \n",
      "(iter 20) loss: 0.75619 \n",
      "(iter 21) loss: 0.745386 \n",
      "(iter 22) loss: 0.734839 \n",
      "(iter 23) loss: 0.724758 \n",
      "(iter 24) loss: 0.715311 \n",
      "(iter 25) loss: 0.706913 \n",
      "(iter 26) loss: 0.699642 \n",
      "(iter 27) loss: 0.693338 \n",
      "(iter 28) loss: 0.687742 \n",
      "(iter 29) loss: 0.682673 \n",
      "(iter 30) loss: 0.678168 \n",
      "(iter 31) loss: 0.674003 \n",
      "(iter 32) loss: 0.670316 \n",
      "(iter 33) loss: 0.667046 \n",
      "(iter 34) loss: 0.664139 \n",
      "(iter 35) loss: 0.661546 \n",
      "(iter 36) loss: 0.659229 \n",
      "(iter 37) loss: 0.65714 \n",
      "(iter 38) loss: 0.655264 \n",
      "(iter 39) loss: 0.653567 \n",
      "(iter 40) loss: 0.652031 \n",
      "(iter 41) loss: 0.650634 \n",
      "(iter 42) loss: 0.649364 \n",
      "(iter 43) loss: 0.648201 \n",
      "(iter 44) loss: 0.647136 \n",
      "(iter 45) loss: 0.646156 \n",
      "(iter 46) loss: 0.645254 \n",
      "(iter 47) loss: 0.644422 \n",
      "(iter 48) loss: 0.64365 \n",
      "(iter 49) loss: 0.642936 \n",
      "(iter 50) loss: 0.642269 \n",
      "(iter 51) loss: 0.641649 \n",
      "(iter 52) loss: 0.64107 \n",
      "(iter 53) loss: 0.640529 \n",
      "(iter 54) loss: 0.64002 \n",
      "(iter 55) loss: 0.639541 \n",
      "(iter 56) loss: 0.639092 \n",
      "(iter 57) loss: 0.638666 \n",
      "(iter 58) loss: 0.638264 \n",
      "(iter 59) loss: 0.637882 \n",
      "(iter 60) loss: 0.63752 \n",
      "(iter 61) loss: 0.637177 \n",
      "(iter 62) loss: 0.63685 \n",
      "(iter 63) loss: 0.636537 \n",
      "(iter 64) loss: 0.636239 \n",
      "(iter 65) loss: 0.635954 \n",
      "(iter 66) loss: 0.635683 \n",
      "(iter 67) loss: 0.635421 \n",
      "(iter 68) loss: 0.63517 \n",
      "(iter 69) loss: 0.634928 \n",
      "(iter 70) loss: 0.634696 \n",
      "(iter 71) loss: 0.634471 \n",
      "(iter 72) loss: 0.634254 \n",
      "(iter 73) loss: 0.634047 \n",
      "(iter 74) loss: 0.633843 \n",
      "(iter 75) loss: 0.633646 \n",
      "(iter 76) loss: 0.633457 \n",
      "(iter 77) loss: 0.633273 \n",
      "(iter 78) loss: 0.633094 \n",
      "(iter 79) loss: 0.632921 \n",
      "(iter 80) loss: 0.632752 \n",
      "(iter 81) loss: 0.632588 \n",
      "(iter 82) loss: 0.632428 \n",
      "(iter 83) loss: 0.632273 \n",
      "(iter 84) loss: 0.632122 \n",
      "(iter 85) loss: 0.631975 \n",
      "(iter 86) loss: 0.631831 \n",
      "(iter 87) loss: 0.63169 \n",
      "(iter 88) loss: 0.631552 \n",
      "(iter 89) loss: 0.631417 \n",
      "(iter 90) loss: 0.631286 \n",
      "(iter 91) loss: 0.631158 \n",
      "(iter 92) loss: 0.631032 \n",
      "(iter 93) loss: 0.630909 \n",
      "(iter 94) loss: 0.630789 \n",
      "(iter 95) loss: 0.63067 \n",
      "(iter 96) loss: 0.630555 \n",
      "(iter 97) loss: 0.630441 \n",
      "(iter 98) loss: 0.63033 \n",
      "(iter 99) loss: 0.630221 \n",
      "1662767990.075151\n"
     ]
    }
   ],
   "source": [
    "def train(iters):\n",
    "    # Initialize with LQR control lyapunov function\n",
    "    P_sqrt = tf.Variable(P_sqrt_lqr)\n",
    "    P_21 = tf.Variable(A.T @ P_lqr @ B)\n",
    "    q = tf.Variable(tf.zeros((m, 1), dtype=tf.float64))\n",
    "    variables = [P_sqrt, P_21, q]\n",
    "    A_tf, B_tf, Q_tf, R_tf = map(tf.constant, [A, B, Q, R])\n",
    "\n",
    "    def g(x, u):\n",
    "        return tf.squeeze(\n",
    "            tf.transpose(x) @ Q_tf @ x + tf.transpose(u) @ R_tf @ u)\n",
    "\n",
    "    def evaluate(x0, P_sqrt, P_21, q, T):\n",
    "        x = x0\n",
    "        cost = 0.\n",
    "        for _ in range(T):\n",
    "            u, = policy(x, P_sqrt, P_21, q)\n",
    "            cost += g(x, u) / T\n",
    "            x = A_tf @ x + B_tf @ u + .2 * tf.random.normal((n, 1), dtype=tf.float64)\n",
    "        return cost\n",
    "\n",
    "    def eval_loss(N=8, T=25):\n",
    "        return sum(\n",
    "        [\n",
    "            evaluate(\n",
    "                tf.zeros((n, 1), dtype=tf.float64),\n",
    "                P_sqrt,\n",
    "                P_21,\n",
    "                q,\n",
    "                T=T\n",
    "            ) for _ in range(N)\n",
    "        ]) / N\n",
    "\n",
    "    results = []\n",
    "    optimizer = tf.keras.optimizers.SGD(learning_rate=0.02, momentum=0.9)\n",
    "    for i in range(iters):\n",
    "        tf.random.set_seed(1)\n",
    "        np.random.seed(1)\n",
    "        with tf.GradientTape() as tape:\n",
    "            loss = eval_loss()\n",
    "        gradients = tape.gradient(loss, variables)\n",
    "        optimizer.apply_gradients(zip(gradients, variables))\n",
    "        results.append(loss.numpy())\n",
    "        print(\"(iter %d) loss: %g \" % (i, results[-1]))\n",
    "    return results\n",
    "\n",
    "results = train(iters=100)\n",
    "\n",
    "print(time.time())"
   ]
  },
  {
   "cell_type": "code",
   "execution_count": 125,
   "id": "f7c2925a",
   "metadata": {},
   "outputs": [
    {
     "data": {
      "image/png": "[encoded data removed]",
      "text/plain": [
       "<Figure size 640x480 with 1 Axes>"
      ]
     },
     "metadata": {},
     "output_type": "display_data"
    }
   ],
   "source": [
    "import matplotlib.pyplot as plt\n",
    "\n",
    "plt.figure()\n",
    "plt.plot(results)\n",
    "plt.xlabel('iteration')\n",
    "plt.ylabel('average cost')\n",
    "plt.show()"
   ]
  },
  {
   "cell_type": "code",
   "execution_count": 190,
   "id": "f6457d54",
   "metadata": {},
   "outputs": [
    {
     "name": "stdout",
     "output_type": "stream",
     "text": [
      "[Parameter((200,))]\n",
      "x_sol\n",
      "tf.Tensor(\n",
      "[7.93610842e-08 7.95823100e-08 7.99275785e-08 ... 2.65252565e-09\n",
      " 1.34670189e-09 3.34239356e-03], shape=(10000,), dtype=float64)\n",
      "grad_ypred\n",
      "[None]\n",
      "problem.value None\n"
     ]
    }
   ],
   "source": [
    "import cvxpy as cp\n",
    "import tensorflow as tf\n",
    "from cvxpylayers.tensorflow import CvxpyLayer\n",
    "\n",
    "# Define and solve the CVXPY problem.\n",
    "x = cp.Variable(\n",
    "    cvector.shape[0],\n",
    "    nonneg=True\n",
    ")\n",
    "\n",
    "pred = cp.Parameter((A.shape[0],))\n",
    "\n",
    "problem = cp.Problem(\n",
    "    cp.Minimize(cvector.T @ x),\n",
    "    [\n",
    "        A @ x == pred,\n",
    "    ],\n",
    ")\n",
    "assert problem.is_dpp()\n",
    "print(problem.parameters())\n",
    "\n",
    "cvxpylayer = CvxpyLayer(\n",
    "    problem,\n",
    "    parameters=[pred],\n",
    "    variables=[x])\n",
    "\n",
    "rho_I=pdf1d(x_T, 4.0, 1.0).reshape(len(x_T),1)\n",
    "rho_I = np.where(rho_I < 0, 0, rho_I)\n",
    "rho_I = rho_I / np.sum(np.abs(rho_I))\n",
    "\n",
    "y_pred = tf.Variable(tf.zeros((100,), tf.double))\n",
    "y_pred = tf.constant(rho_I, shape=(100,))\n",
    "rho_0_tf = tf.constant(rho_0, shape=(100,))\n",
    "\n",
    "with tf.GradientTape() as tape:\n",
    "  # solve the problem, setting the values of A, b to A_tf, b_tf\n",
    "  param = tf.concat([rho_0_tf, y_pred], 0)\n",
    "  x_sol, = cvxpylayer(param)\n",
    "# compute the gradient of the summed solution with respect to A, b\n",
    "grad_ypred = tape.gradient(x_sol, [y_pred])\n",
    "\n",
    "print(\"x_sol\")\n",
    "print(x_sol)\n",
    "\n",
    "print(\"grad_ypred\")\n",
    "print(grad_ypred)\n",
    "\n",
    "print(\"problem.value\", problem.value)"
   ]
  },
  {
   "cell_type": "code",
   "execution_count": 193,
   "id": "4a1db88b",
   "metadata": {},
   "outputs": [
    {
     "name": "stdout",
     "output_type": "stream",
     "text": [
      "[0.63284935]\n"
     ]
    }
   ],
   "source": [
    "print(cvector.T @ x_sol.numpy())"
   ]
  }
 ],
 "metadata": {
  "kernelspec": {
   "display_name": "Python 3 (ipykernel)",
   "language": "python",
   "name": "python3"
  },
  "language_info": {
   "codemirror_mode": {
    "name": "ipython",
    "version": 3
   },
   "file_extension": ".py",
   "mimetype": "text/x-python",
   "name": "python",
   "nbconvert_exporter": "python",
   "pygments_lexer": "ipython3",
   "version": "3.9.13"
  }
 },
 "nbformat": 4,
 "nbformat_minor": 5
}
