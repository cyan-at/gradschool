{
 "cells": [
  {
   "cell_type": "markdown",
   "metadata": {},
   "source": [
    "# Problem 1 [50 points] Modeling and controllability\n",
    "\n",
    "<br />\n",
    "<img src=\"Trailer.png\" width=\"700\">\n",
    "<center>Figure 1: A car with multiple direct-hooked passive trailers.</center>\n",
    "\n",
    "Consider a car with $n\\in\\mathbb{N}$ direct-hooked passive trailers, which you may have seen in the airports carrying passenger luggage (Fig. 1). To mathematically model this system, we represent both the car and the trailers as having two driving wheels connected by an axle, as shown in Fig. 2.\n",
    "<img src=\"TarilerModel.png\" width=\"700\">\n",
    "<center>Figure 2: Model of a car with $n$ trailers. The inertial coordinate system is denoted as $(i_x,i_y)$.</center>\n",
    "<br />\n",
    "Each trailer is hooked up in the middle point of the axle of the previous body by a rigid bar of length $\\ell = 1$. To describe the state, we fix an inertial coordinate system, shown in the left bottom corner of Fig. 2. Notice that the connecting rod is parallel to the wheels since the rod + axle for any trailer is a rigid assembly.\n",
    "\n",
    "Suppose $(x, y)$ is the coordinate of the mid-point of the axle of the last trailer; $\\theta_n$ is the angle that the car’s pair of wheels make with the inertial horizontal axis; and $\\theta_{i}$, $0\\leq i \\leq n − 1$, is the angle that the $(n − i)$-th trailer’s pair of wheels make with the inertial horizontal axis. The state vector of the system is\n",
    "\n",
    "$$\\underline{x} := \\left(x,y,\\theta_{0},\\theta_{1}, ..., \\theta_{n}\\right)^{\\top}.$$\n",
    "\n",
    "The control vector consists of the car’s translational velocity $v$ and angular velocity $\\omega$, i.e., $\\underline{u} := (v, \\omega)^{\\top}$.\n",
    "\n",
    "The wheels of each body (1 car and $n$ trailers) are constrained to roll without slipping, i.e., the velocity of each body is parallel to the direction of its wheels. Let $f_{n} := 1$, and\n",
    "$$\n",
    "f_{i}:=\\cos \\left(\\theta_{i+1}-\\theta_{i}\\right) \\cos \\left(\\theta_{i+2}-\\theta_{i+1}\\right) \\ldots \\cos \\left(\\theta_{n}-\\theta_{n-1}\\right)=\\prod_{j=i+1}^{n} \\cos \\left(\\theta_{j}-\\theta_{j-1}\\right), \\quad 0 \\leq i \\leq n-1.\n",
    "$$"
   ]
  },
  {
   "cell_type": "markdown",
   "metadata": {},
   "source": [
    "## (a) [3 points] State space\n",
    "\n",
    "**Clearly write down** the state space $\\mathcal{X}$ as a manifold. **Explain** your answer."
   ]
  },
  {
   "cell_type": "markdown",
   "metadata": {},
   "source": [
    "1. We are given the state space as:\n",
    "$$\\underline{x} := \\left(x,y,\\theta_{0},\\theta_{1}, ..., \\theta_{n}\\right)^{\\top}.$$\n",
    "<br>\n",
    "2. Then we know that $\\left(x,y\\right)$ represents a 2D plane of $\\mathbb{R}^{2}$\n",
    "<br>\n",
    "3. There are $n$ joints in addition to represent the angles of the trailer's wheels w.r.t. horizontal axis, forming a space of $\\mathbb{S}^{n}$\n",
    "<br>\n",
    "4. Then the entire manifold $\\mathcal{X} = \\mathbb{R}^{2} \\times \\mathbb{S}^{n}$ "
   ]
  },
  {
   "cell_type": "markdown",
   "metadata": {},
   "source": [
    "## (b) [25 points] Standard control affine form\n",
    "\n",
    "**Prove that** the control system corresponding to the above model can be expressed in the drift-free form:\n",
    "\n",
    "$$\n",
    "\\underline{\\dot{x}}=g_{1}(\\underline{x}) u_{1}+g_{2}(\\underline{x}) u_{2},\n",
    "$$\n",
    "where the input vector fields are\n",
    "\n",
    "$$\\begin{align*}\n",
    "g_{1}(\\underline{x}) &= \\left[f_{0} \\cos \\theta_{0}, f_{0} \\sin \\theta_{0}, f_{1} \\sin \\left(\\theta_{1}-\\theta_{0}\\right), \\ldots, f_{i+1} \\sin \\left(\\theta_{i+1}-\\theta_{i}\\right), \\ldots, f_{n} \\sin \\left(\\theta_{n}-\\theta_{n-1}\\right), 0\\right]^{\\top},\\\\\n",
    "g_{2}(\\underline{x}) &= [\\underbrace{0, \\ldots, 0}_{(n+2) \\text { times }}, 1]^{\\top}.\n",
    "\\end{align*}$$"
   ]
  },
  {
   "cell_type": "markdown",
   "metadata": {},
   "source": [
    "1. We are given $\\underline{u} := (v, \\omega)^{\\top}$, then:\n",
    "$$\n",
    "\\underline{\\dot{x}}=g_{1}(\\underline{x}) v +g_{2}(\\underline{x}) \\omega\n",
    "$$\n",
    "<br>\n",
    "2. Base case: for the case of $n = 1$, there are 2 wheel pairs ($xy_0, xy_1$) making $\\theta_0, \\theta_1$ w.r.t. horizontal axis:\n",
    "    1. $\\dot{\\theta_1} = \\omega = u_2$, $v_{xy_1} = v = u_1$\n",
    "    2. The velocity magnitude at wheel pair **0** = the velocity at wheel pair **1** ***projected onto*** the vector *connecting wheel pair 0 to wheel pair 1*:\n",
    "    $$\n",
    "    v_{xy_0} = v \\cos(\\theta_1 - \\theta_0) = u_1 \\cos(\\theta_1 - \\theta_0) = u_1 f_0\n",
    "    $$\n",
    "    3. The direction of the velocity at wheel pair **0** is a vector $\\theta_0$ w.r.t the horizontal axis\n",
    "    4. From B. and C. above, we see that at wheel pair **0**:\n",
    "    $$\n",
    "    \\dot{x} = v_{xy_0} \\cos(\\theta_0) = u_1 f_0 \\cos(\\theta_0) \\\\\n",
    "    \\dot{y} = v_{xy_0} \\sin(\\theta_0) = u_1 f_0 \\sin(\\theta_0) \\\\\n",
    "    $$\n",
    "    5. We can also see that for the point at wheel pair **0**, $xy_0$, there is an axis of length $\\ell = 1$ being rotated with a velocity *tangent* to the vector $\\ell$ from $xy_0$ to $xy_1$. The magnitude of this tangent velocity is:\n",
    "    $$\n",
    "    v_{tangent-1-0} = v_{xy_1} \\sin(\\theta_1 - \\theta_0) = v_{xy_1} \\sin(\\theta_1 - \\theta_0) = u_1 1 \\sin(\\theta_1 - \\theta_0) = u_1 f_1\\sin(\\theta_1 - \\theta_0)\n",
    "    $$\n",
    "    6. By definition and from E.:\n",
    "    $$\n",
    "    \\omega_{xy_0} = \\dot{\\theta_0} = \\frac{v_{tangent-1-0}}{\\ell} = v_{tangent-1-0} = u_1 f_1\\sin(\\theta_1 - \\theta_0)\n",
    "    $$\n",
    "    7. From A, D, and F above, we can show the claim is true for the base case $n = 1$:\n",
    "    $$\n",
    "    \\dot{x} = \\left[ \\begin{matrix} \\dot{x} \\\\ \\dot{y} \\\\ \\dot{\\theta_0} \\\\ \\dot{\\theta_1} \\end{matrix} \\right] = \\left[ \\begin{matrix} u_1 f_0 \\cos(\\theta_0) \\\\ u_1 f_0 \\sin(\\theta_0) \\\\ u_1 f_1\\sin(\\theta_1 - \\theta_0) \\\\ u_2 \\end{matrix} \\right] = \\left[ \\begin{matrix} f_0 \\cos(\\theta_0) \\\\ f_0 \\sin(\\theta_0) \\\\ f_1\\sin(\\theta_1 - \\theta_0) \\\\ 0 \\end{matrix} \\right] u_1 (v) + \\left[ \\begin{matrix} 0 \\\\ 0 \\\\ 0 \\\\ 1 \\end{matrix} \\right] u_2 (\\omega)\n",
    "    $$\n",
    "    8. Observe in G above that $g_{2}(\\underline{x}) = e_3 = e_{n+2}$, containing 2 0s for $x, y$ and $(n-1) \\ldots 0 = n - 1 + 1 = n$ zeros for states $\\theta_0 \\ldots \\theta_{n-1}$, so a total of $2 + n$ 0s followed by a 1 $= e_{n+2}$\n",
    "    9. Observe also in G above that by definition $\\dot{\\theta_n} = \\omega = u_2$, so the **last row** of $g_{1}(\\underline{x}) = 0$\n",
    "3. We've shown in 2. above that for the base case $n = 1$, the control system in drift-free form follows:\n",
    "$$\n",
    "\\begin{align*}\n",
    "g_{1_n}(\\underline{x}) &= \\left[f_{0} \\cos \\theta_{0}, f_{0} \\sin \\theta_{0}, f_{1} \\sin \\left(\\theta_{1}-\\theta_{0}\\right), \\ldots, f_{n} \\sin \\left(\\theta_{n}-\\theta_{n-1}\\right), 0\\right]^{\\top},\\\\\n",
    "g_{2_n}(\\underline{x}) &= [\\underbrace{0, \\ldots, 0}_{(n+2) \\text { times }}, 1]^{\\top} = e_{n+2}\n",
    "\\end{align*}\n",
    "$$\n",
    "3. We can add another wheel pair $xy_{n+1}$ to the physical system. Let ${xy_n}$ physically refer to the prior 'first wheel pair', and the new wheel pair be $xy_{n+1}$. We can show the inductive step.\n",
    "    1. The state $x$ grows by 1 state variable $\\theta_{n+1}$\n",
    "    2. From A. and 2.H., we see that $g_{2}(\\underline{x})$ contains 2 0s for $x, y$ and $((n+1)-1) \\ldots 0 = (n+1) - 1 + 1 = n + 1$, so a total of $2 + n + 1 = n + 3$ 0s followed by a 1 $=e_{(n+1)+2}$\n",
    "    3. The control input $v$ to the the prior 'first wheel pair' $xy_n$, still with direction $\\theta_{n}$, now has magnitude:\n",
    "    $$\n",
    "    v_{xy_n}^{n+1} = v \\cos(\\theta_{n+1} - \\theta_{n}) = u_1 \\cos(\\theta_{n+1} - \\theta_{n})\n",
    "    $$\n",
    "    4. More generally, we observe that for **all** wheel pairs after $n + 1$, $i = n, \\ldots, 0$, the parallel velocity scalar $f$ term in $g_{1_{n}}$ is scaled by $\\cos(\\theta_{n+1} - \\theta_{n})$ and by definition are updated to fit the consistent definition for the new $n+1$ $g_{1_{n+1}}$ term:\n",
    "    $$\n",
    "    f_{i}^{n} \\cos(\\theta_{n+1} - \\theta_{n}) = \\cos(\\theta_{n+1} - \\theta_{n}) \\prod_{j=i+1}^{n} \\cos \\left(\\theta_{j}-\\theta_{j-1}\\right) \\\\\n",
    "    = \\prod_{j=i+1}^{n+1} \\cos \\left(\\theta_{j}-\\theta_{j-1}\\right) = f_{i}^{n+1}, \\quad 0 \\leq i \\leq n \\\\\n",
    "    f_0^{n} \\rightarrow f_0^{n+1} \\ldots f_{n-1}^{n} \\rightarrow f_{n-1}^{n+1} \\\\\n",
    "    f_n^{n} = 1, f_n^{n+1} = \\cos(\\theta_{n+1} - \\theta_{n}) = f_n^{n+1} \\\\\n",
    "    f_{n+1}^{n+1} = 1 \\\\\n",
    "    $$\n",
    "    5. We observe that at each wheel pair in the new control system, the angular velocity $\\omega_i^{n+1} = \\dot{\\theta_{i}}^{n+1}$ is still defined as $\\frac{v_{tangent-{i+1}-i}}{1} = f_{i+1}^{n+1} \\sin (\\theta_{i+1} - \\theta_{i})$ for $0 \\leq i \\leq n-1$, then for each $\\dot{\\theta_i}$ row of $g_{1_{n+1}}$ only the $f_{i+1}^{n+1}$ term updates.\n",
    "    6. Moreover, before we added $xy_{n+1}$:\n",
    "    $$\n",
    "    \\dot{\\theta_n}^{n} = \\omega\n",
    "    $$\n",
    "    And after adding the new wheel pair:\n",
    "    $$\n",
    "    \\dot{\\theta_n}^{n+1} = f_{n+1}^{n+1} \\sin (\\theta_{n+1} - \\theta_{n}) = \\sin (\\theta_{n+1} - \\theta_{n}) \\\\\n",
    "    $$\n",
    "    7. Finally, we see that the definitions for $\\dot{x}^{n+1} and \\dot{y}^{n+1}$ remain consistent:\n",
    "    $$\n",
    "    \\dot{x}^{n+1} = f_0^{n+1} \\cos(\\theta_0) \\\\\n",
    "    \\dot{y}^{n+1} = f_0^{n+1} \\sin(\\theta_0)\n",
    "    $$\n",
    "    8. Then from G., E., F. we have shown walking through each kind of element in $g_{1_{n+1}}$ the terms by construction remain consistent with their definitions in $g_{1_{n}}$\n",
    "    9. From B. and the fact that:\n",
    "    $$\n",
    "    \\dot{\\theta_{n+1}^{n+1}} = \\omega\n",
    "    $$\n",
    "    we see that $g_{2_{n+1}} = e_{(n+1)+2}$ which is consistent to the definition of $g_{2_{n}}$\n",
    "    10. From H. and I. above we've proven the inductive case that adding another wheel pair $xy_{n+1}$ yields a control system we can describe as\n",
    "    $$\n",
    "    \\begin{align*}\n",
    "    \\dot{x}^{n+1} &= g_{1_{n+1}}(\\underline{x}) v +g_{2_{n+1}}(\\underline{x}) \\omega \\\\\n",
    "    g_{1_{n+1}}(\\underline{x}) &= \\left[f_{0} \\cos \\theta_{0}, f_{0} \\sin \\theta_{0}, f_{1} \\sin \\left(\\theta_{1}-\\theta_{0}\\right), \\ldots, f_{(n+1)} \\sin \\left(\\theta_{(n+1)}-\\theta_{(n+1)-1}\\right), 0\\right]^{\\top},\\\\\n",
    "    g_{2_{n+1}}(\\underline{x}) &= [\\underbrace{0, \\ldots, 0}_{((n+1)+2) \\text { times }}, 1]^{\\top} = e_{(n+1)+2}\n",
    "    \\end{align*}\n",
    "    $$\n",
    "4. Then by induction, the claim holds true for **all** n"
   ]
  },
  {
   "cell_type": "markdown",
   "metadata": {},
   "source": [
    "## (c) [20 points] The case $n=1$\n",
    "\n",
    "For the special case of $n = 1$, i.e., the car with one trailer (for example, garbage truck, fire truck etc.), **prove that** the system is globally controllable."
   ]
  },
  {
   "cell_type": "markdown",
   "metadata": {},
   "source": [
    "1. From b. we showed the $n=1$ control system drift-free form: \n",
    "$$\n",
    "\\dot{x} = \\left[ \\begin{matrix} \\dot{x} \\\\ \\dot{y} \\\\ \\dot{\\theta_0} \\\\ \\dot{\\theta_1} \\end{matrix} \\right] = \\left[ \\begin{matrix} u_1 f_0 \\cos(\\theta_0) \\\\ u_1 f_0 \\sin(\\theta_0) \\\\ u_1 f_1\\sin(\\theta_1 - \\theta_0) \\\\ u_2 \\end{matrix} \\right] = \\left[ \\begin{matrix} f_0 \\cos(\\theta_0) \\\\ f_0 \\sin(\\theta_0) \\\\ f_1\\sin(\\theta_1 - \\theta_0) \\\\ 0 \\end{matrix} \\right] u_1 (v) + \\left[ \\begin{matrix} 0 \\\\ 0 \\\\ 0 \\\\ 1 \\end{matrix} \\right] u_2 (\\omega) \\\\\n",
    "g_1(x) = \\left[ \\begin{matrix} f_0 \\cos(\\theta_0) \\\\ f_0 \\sin(\\theta_0) \\\\ f_1\\sin(\\theta_1 - \\theta_0) \\\\ 0 \\end{matrix} \\right], \n",
    "g_2(x) = \\left[ \\begin{matrix} 0 \\\\ 0 \\\\ 0 \\\\ 1 \\end{matrix} \\right]\\\\\n",
    "adj_{g_2} g_1 = \\left[\\begin{matrix}0\\\\0\\\\f_{1} \\cos{\\left(\\theta_0 - \\theta_1 \\right)}\\\\0\\end{matrix}\\right] \\\\\n",
    "adj_{g_1} adj_{g_2} g_1 = \\left[\\begin{matrix}f_{0} f_{1} \\sin{\\left(\\theta_0 \\right)} \\cos{\\left(\\theta_0 - \\theta_1 \\right)}\\\\- f_{0} f_{1} \\cos{\\left(\\theta_0 - \\theta_1 \\right)} \\cos{\\left(\\theta_0 \\right)}\\\\f_{1}^{2}\\\\0\\end{matrix}\\right]\n",
    "$$\n",
    "2. We can verify the Rashevsky-chow rank condition:\n",
    "$$\n",
    "rank(\\left[ \\begin{matrix} g_1 & g_2 & adj_{g_2} g_1 & adj_{g_1} adj_{g_2} g_1 \\end{matrix} \\right]) = 4 \\\\\n",
    "\\Rightarrow span\\left\\{ \\begin{matrix} g_1 & g_2 & adj_{g_2} g_1 & adj_{g_1} adj_{g_2} g_1 \\end{matrix} \\right\\} = T_{x} \\mathbb{R}^2 \\times \\mathbb{S}^2 = \\mathbb{R}^{4}\n",
    "$$\n",
    "<br>\n",
    "3.\n",
    "$$\n",
    "det(\\left[ \\begin{matrix} g_1 & g_2 & adj_{g_2} g_1 & adj_{g_1} adj_{g_2} g_1 \\end{matrix} \\right]) = f_{0}^{2} f_{1}^{2} \\cos^{2}{\\left(\\theta_0 - \\theta_1 \\right)}\n",
    "$$\n",
    "And since $\\lVert \\theta_0 - \\theta_1 \\rVert = \\frac{\\pi}{2}$ is **not physically possible**, the determinant $\\neq 0$\n",
    "4. Then by Rachevsky-Chow Thm in Lec 18 pg 5, we show that the system is globally controllable."
   ]
  },
  {
   "cell_type": "markdown",
   "metadata": {},
   "source": [
    "## (d) [2 points] Degree of nonholonomy\n",
    "\n",
    "What is the degree of nonholonomy for the case in part (c)? **Give reasons**."
   ]
  },
  {
   "cell_type": "markdown",
   "metadata": {},
   "source": [
    "1. To reach the rank of 4 in (c), we had to go to $adj_{g_1} adj_{g_2} g_1$ (brackets of brackets) = $\\Delta_{3}$ (Leg 18 pg 2)\n",
    "2. Therefore the degree of nonholonomy is $k = 3$ where we stopped."
   ]
  }
 ],
 "metadata": {
  "kernelspec": {
   "display_name": "Python 3 (ipykernel)",
   "language": "python",
   "name": "python3"
  },
  "language_info": {
   "codemirror_mode": {
    "name": "ipython",
    "version": 3
   },
   "file_extension": ".py",
   "mimetype": "text/x-python",
   "name": "python",
   "nbconvert_exporter": "python",
   "pygments_lexer": "ipython3",
   "version": "3.8.10"
  }
 },
 "nbformat": 4,
 "nbformat_minor": 4
}
