{
 "cells": [
  {
   "cell_type": "markdown",
   "metadata": {},
   "source": [
    "# Problem 1. [2 x 4 = 8 points] Activation Function and Sector Nonlinearity\n",
    "\n",
    "In Lec. 11, p. 14-16, we introduced sector nonlinearity. In this exercise, we examine some concrete examples/non-examples.\n",
    "\n",
    "**Explain** which of the following commonly used neural network activation functions $\\sigma:\\mathbb{R}^{m}\\mapsto\\mathbb{R}^{m}$, are sector bounded and which are not? If any of these are sector-bounded then **derive** the corresponding sectors $[\\alpha,\\beta]$ as in Lec. 11, p. 15-16.\n",
    "\n",
    "(a) ReLU activation $\\sigma(x) = \\max\\{0_{m\\times 1},x\\}$ where $x\\in\\mathbb{R}^{m}$ and $\\max\\{\\cdot,\\cdot\\}$ is elementwise.\n",
    "\n",
    "(b) Leaky ReLU activation $\\sigma(x) = \\max\\{a x,x\\}$ where $x\\in\\mathbb{R}^{m}$, $a>0$, and $\\max\\{\\cdot,\\cdot\\}$ is elementwise.\n",
    "\n",
    "(c) Sigmoid activation $\\sigma(x) = \\exp(x)\\oslash\\left(\\boldsymbol{1} + \\exp(x)\\right)$ where $x\\in\\mathbb{R}^{m}$, $\\boldsymbol{1}$ is all-ones column vector, $\\oslash$ denotes elementwise division, and $\\exp(\\cdot)$ is elementwise. \n",
    "\n",
    "(d) Softmax activation $\\sigma(x) = \\dfrac{\\exp(x)}{\\boldsymbol{1}^{\\top}\\exp(x)}$ where $x\\in\\mathbb{R}^{m}$, $\\boldsymbol{1}$ is all-ones column vector, and $\\exp(\\cdot)$ is elementwise. "
   ]
  },
  {
   "cell_type": "markdown",
   "metadata": {},
   "source": [
    "a. It **is** sector bounded, with sector [0, 1]\n",
    "1. Consider the function $f(x) = \\max\\{0_{m\\times 1},x\\} (\\max\\{0_{m\\times 1},x\\} - x)$\n",
    "<br>\n",
    "2. When $x \\leq 0, f(x) = 0(0 - x) = 0 \\leq 0$\n",
    "<br>\n",
    "3. When $x \\gt 0, f(x) = x(x - x) = 0 \\leq 0$\n",
    "<br>\n",
    "4. So we see that $\\forall x, f(x) = \\max\\{0_{m\\times 1},x\\} (\\max\\{0_{m\\times 1},x\\} - x) \\leq 0$\n",
    "<br>\n",
    "5. Therefore, by Lec 11, pg 16, the sector bound is [0, 1]"
   ]
  },
  {
   "cell_type": "markdown",
   "metadata": {},
   "source": [
    "b. It **is** sector bounded, with sector [0, $\\infty$]\n",
    "1. When $x \\leq 0, \\max\\{a x,x\\} x = x x = x^{2} \\geq 0$\n",
    "<br>\n",
    "2. When $x > 0, \\max\\{a x,x\\} x = a x x = a x^{2} \\geq 0$\n",
    "<br>\n",
    "3. From above, we see that $\\forall x, \\max\\{a x,x\\} x \\geq 0$\n",
    "<br>\n",
    "4. From Lec 11, pg 16, the sector bound is [0, $\\infty$]"
   ]
  },
  {
   "cell_type": "markdown",
   "metadata": {},
   "source": [
    "c. **Not** sector bounded\n",
    "\n",
    "d. **Not** sector bounded"
   ]
  },
  {
   "cell_type": "markdown",
   "metadata": {},
   "source": [
    "# Problem 2. [50 points] Feedback Stabilization \n",
    "\n",
    "Consider the scalar control system $\\dot{x}=-x^{3} + u$. We want to design (static) state feedback control $u=u(x)$ such that origin of the closed-loop system is GAS. We will design multiple stabilizing controllers for this system, and compare their performance."
   ]
  },
  {
   "cell_type": "markdown",
   "metadata": {},
   "source": [
    "(a) **[5 points]** Design a **feedback linearizing controller** $u_{FL}(x)$ by applying \"cancel the nonlinearity and get a stable linear closed-loop system\" idea."
   ]
  },
  {
   "cell_type": "markdown",
   "metadata": {},
   "source": [
    "1. Let $u_{FL}(x) = x^{3} - x$, then $\\dot{x} = -x$\n",
    "<br>\n",
    "2. Let $V(x) = \\frac{x^{2}}{2}, \\dot{V(x)} = x (-x) = - x^{2}$\n",
    "<br>\n",
    "3. So by Lasalle, origin is **A.S.**, and since V is radially unbounded, origin is **G.A.S.**"
   ]
  },
  {
   "cell_type": "markdown",
   "metadata": {},
   "source": [
    "(b) **[5 points]** Prove that a **linear feedback controller** $u_{L}(x)=−x$ also makes the origin of the closed-loop system GAS. You will need to use the Barbashin-Krtasovskii theorem."
   ]
  },
  {
   "cell_type": "markdown",
   "metadata": {},
   "source": [
    "1. $u_{L}(x)=−x$, so $\\dot{x} = -x^{3} - x$\n",
    "<br>\n",
    "2. Let $V(x) = \\frac{x^{2}}{2}, \\quad \\dot{V(x)} = -(x^{4} + x^{2})$, negative semi-definite.\n",
    "<br>\n",
    "3. Let $S = \\{ x \\quad s.t. \\dot{V} = 0 \\}$\n",
    "<br>\n",
    "4. Observe\n",
    "\\begin{align}\n",
    "x \\quad s.t. \\dot{V} = 0 \\\\\n",
    "\\Rightarrow - (x^{4} + x^{2}) = 0  \\\\\n",
    "\\Rightarrow x^{4} + x^{2} = 0  \\\\\n",
    "\\Rightarrow x^{2} (x^{2} + 1) = 0  \\\\\n",
    "\\Rightarrow x = 0  \\\\\n",
    "\\end{align}\n",
    "<br>\n",
    "5. From 4., $x \\in S \\Rightarrow x = 0$, so by Barbashin-Krtasovskii, origin is **A.S.**\n",
    "<br>\n",
    "6. In addition, since V is radially unbounded, origin is **G.A.S.**"
   ]
  },
  {
   "cell_type": "markdown",
   "metadata": {},
   "source": [
    "(c) **[5 + 5 = 10 points]** **Give two reasons** why the controller $u_{L}(x)$ in part (b) is a better controller than $u_FL(x)$ in part (a). (**Hint:** think rate-of-convergence of the closed-loop system, and magnitude of control signal for large $x$. For the latter, you may find it insightful to plot $|u|$ as function of $x$.)"
   ]
  },
  {
   "cell_type": "markdown",
   "metadata": {},
   "source": [
    "1. For $\\lVert x \\rVert \\geq 0$, $\\lVert \\dot{x_{L}} \\rVert > \\lVert \\dot{x_{FL}} \\rVert$, so $x_{L}(x)$ converges faster than $x_{FL}(x)$. \n",
    "<br>\n",
    "2. $u_{L}(x)$ is less controller signal magnitude, so less risk of saturating / wrap-around issues or numerical issues. You can see the plots below to see this.\n",
    "\n",
    "![Magnitude plot](controller_output.png)"
   ]
  },
  {
   "cell_type": "markdown",
   "metadata": {},
   "source": [
    "(d) **[5 points]** The answer in part (c) tells us that it is better not to kill \"friendly nonlinearity\". Consider another design idea: **doing nothing controller**, i.e., $u_0(x)\\equiv 0$ for all $x\\in\\mathbb{R}$. Prove that $u_0(x)$ also makes the origin GAS."
   ]
  },
  {
   "cell_type": "markdown",
   "metadata": {},
   "source": [
    "1. For the **unforced system**, $\\dot{x} = -x^{3}$\n",
    "<br>\n",
    "2. Let $V(x) = \\frac{x^{2}}{2}, \\quad \\dot{V(x)} = -x^{4}$, negative semi-definite.\n",
    "<br>\n",
    "3. Let $S = \\{ x \\quad s.t. \\dot{V} = -x^{4} = 0 \\} = \\{ x \\quad s.t. x = 0 \\}$\n",
    "<br>\n",
    "4. From 3. and Barbashin-Krtasovskii, origin is **A.S.** and since $V$ is **radially unbounded**, origin is also **G.A.S.**"
   ]
  },
  {
   "cell_type": "markdown",
   "metadata": {},
   "source": [
    "(e) **[5 + 5 = 10 points]** **Give one advantage and one disadvantage** of $u_0(x)$ compared to $u_{L}(x)$. Again think in terms of the hint in part (c)."
   ]
  },
  {
   "cell_type": "markdown",
   "metadata": {},
   "source": [
    "1. The advantage of $u_0(x)$ is that the controller output magnitude is always **0**.\n",
    "<br>\n",
    "2. The disadvantage of $u_0(x)$ is that it converges slower because there is no additional $-x$ input to $\\dot{x}$ to aid in convergence."
   ]
  },
  {
   "cell_type": "markdown",
   "metadata": {},
   "source": [
    "(f) **[5 points]** Design another globally asymptotically stabilizing controller $u_{\\rm{S}}(x)$ using **Sontag’s formula** in Lec. 13. For this purpose, you need to use a CLF: use what comes to your mind without much thought."
   ]
  },
  {
   "cell_type": "markdown",
   "metadata": {},
   "source": [
    "1. Let $V(x) = \\frac{x^{2}}{2}$\n",
    "<br>\n",
    "2. $\\langle \\nabla_{x} V, g \\rangle = x$\n",
    "<br>\n",
    "3. $\\langle \\nabla_{x} V, f \\rangle = -x^{4}$\n",
    "<br>\n",
    "<br>\n",
    "4. $u_{s}(x) = \\psi(x) = 0$ if $\\langle \\nabla_{x} V, g \\rangle = x = 0$\n",
    "<br>\n",
    "5. Otherwise, $u_{s}(x) = \\psi(x) = -\\frac{-x^{4} + \\sqrt{(-x^{4})^{2} + x^{4}}}{x} = x = x^{3} - x \\sqrt{x^{4} + 1}$"
   ]
  },
  {
   "cell_type": "markdown",
   "metadata": {},
   "source": [
    "(g) **[5 + 5 = 10 points]** From your answer in part (f), **argue that** near $x=0$, we have $u_{\\rm{S}}(x)\\approx u_{L}(x)$; and for $|x|\\rightarrow\\infty$, we have $u_{\\rm{S}}(x)\\approx u_{0}(x)$, and therefore, $u_{\\rm{S}}(x)$ outperforms all the previous controllers.\n",
    "\n",
    "In a single figure, **plot all the four controllers** as functions of $x$."
   ]
  },
  {
   "cell_type": "markdown",
   "metadata": {},
   "source": [
    "1. As $x \\rightarrow 0$\n",
    "\\begin{align}\n",
    "& x^{3} - x\\sqrt{x^{4} + 1} \\\\\n",
    "& \\approx 0 - x \\sqrt{0 + 1} \\\\\n",
    "& \\approx -x = u_{L}(x) \\\\\n",
    "\\end{align}\n",
    "<br>\n",
    "2. 1 gives us **good convergence**, as shown above\n",
    "<br>\n",
    "3. As $x \\rightarrow \\infty$\n",
    "\\begin{align}\n",
    "& x^{3} - x\\sqrt{x^{4} + 1} \\\\\n",
    "& \\approx \\infty - x \\sqrt{\\infty} \\\\\n",
    "& \\approx \\infty - \\infty \\\\\n",
    "& \\approx 0 = u_0(x)\n",
    "\\end{align}\n",
    "<br>\n",
    "4. 3 gives us **good controller magnitude**, as shown above\n",
    "<br>\n",
    "5. By 2. and 4., this controller is better than prior ones.\n",
    "\n",
    "![all controllers](all_controllers.png)"
   ]
  },
  {
   "cell_type": "markdown",
   "metadata": {},
   "source": [
    "# Problem 3. [42 points] Backstepping\n",
    "\n",
    "Consider the following 3 state control system which is a modification of the worked out example in Lec. 13, p. 14-16, with an additional integrator at the input side:\n",
    "\\begin{array}{l}\n",
    "\\dot{x}_{1}=x_{1}^{2}-x_{1}^{3}+x_{2}, \\\\\n",
    "\\dot{x}_{2}=x_{3}, \\\\\n",
    "\\dot{x}_{3}=u.\n",
    "\\end{array}"
   ]
  },
  {
   "cell_type": "markdown",
   "metadata": {},
   "source": [
    "## (a) [20 points] Controller synthesis\n",
    "**Design** an integrator backstepping controller to make the origin GAS. In other words, find the feedback $u(x_1,x_2,x_3)$ and the overall Lyapunov certificate $V(x_1,x_2,x_3)$."
   ]
  },
  {
   "cell_type": "markdown",
   "metadata": {},
   "source": [
    "1. Consider\n",
    "\\begin{align}\n",
    "V_{1} & = \\frac{x_1^{2}}{2} \\\\\n",
    "\\dot{V_1} & = x_1 (x_1^{2} - x_1^{3} + x_2) \\\\\n",
    "\\end{align}\n",
    "<br>\n",
    "2. We want for a positive definite $W_1 = x_1^{2}$\n",
    "\\begin{align}\n",
    "\\dot{V_1} = x_1 (x_1^{2} - x_1^{3} + x_2) \\leq -W_1(x_1) \\\\\n",
    "\\end{align}\n",
    "<br>\n",
    "3. To the goal in 2, we assert a pseudocontrol $\\phi_{1}(x_1) = -x_1^{2} - x_1$ so that when $x_2 = \\phi_{1}(x_1)$:\n",
    "\\begin{align}\n",
    "\\dot{V_1} & = x_1 (x_1^{2} - x_1^{3} + \\phi_{1}) \\\\\n",
    "\\dot{V_1} & = x_1 (x_1^{2} - x_1^{3} - x_1^{2} - x1) \\\\\n",
    "\\dot{V_1} & = x_1 (- x_1^{3} - x1) \\\\\n",
    "\\dot{V_1} & = - x_1^{4} - x_1^{2} \\\\\n",
    "\\dot{V_1} & \\leq -W_1(x_1) \\\\\n",
    "\\end{align}\n",
    "<br>\n",
    "4. Let $z_2 = x_2 - \\phi_1(x_1)$, then with this change of variable the system becomes:\n",
    "\\begin{align}\n",
    "x_2 & = z_2 + \\phi_1(x_1) \\\\\n",
    "\\dot{x_1} & = x_1^{2} - x_1^{3} + z_2 + \\phi_{1}(x_1) = -x_1^{3} - x_1 + z_2 \\\\\n",
    "\\dot{z_2} & = \\dot{x_2} - \\dot{\\phi_{1}}(x_1) = x_3 - \\dot{\\phi_{1}}(x_1) \\\\\n",
    "\\dot{x_3} & = u\n",
    "\\end{align}\n",
    "Where $\\dot{\\phi_{1}}(x_1) = (-2x_1 - 1) (x_1^{2} - x_1^{3} + x_2)$\n",
    "<br>\n",
    "5. Now consider $V_2(x_1, z_2) = V_1 + \\frac{z_2^{2}}{2} = \\frac{x_1^{2}}{2} + \\frac{z_2^{2}}{2}$, again we want $\\dot{V_2} \\leq -W_2(x_1, z_2)$ for some positive definite function $W_2(x_1, z_2) = x_1^{2}$\n",
    "<br>\n",
    "6. We expand $\\dot{V_2(x_1, z_2)}$:\n",
    "\\begin{align}\n",
    "\\dot{V_2} & = \\langle \\nabla_{x_1} V_2, \\dot{x_1} \\rangle + \\langle \\nabla_{z_2} V_2, \\dot{z_2} \\rangle \\\\\n",
    "& = x_1 (-x_1^{3} - x_1 + z_2) + z_2 (\\dot{x_2} - \\dot{\\phi_{1}}(x_1)) \\\\\n",
    "& = x_1 (-x_1^{3} - x_1) + z_2 (x_1 + x_3 - \\dot{\\phi_{1}}(x_1)) \\\\\n",
    "\\end{align}\n",
    "<br>\n",
    "7. From 6 we see that if we want $\\dot{V_2} \\leq -W_2(x_1, z_2)$ for a positive definite $W_2(x_1, z_2)$, we can assert a pseudocontrol $\\phi_{2}(x_1, z_2)$ so that when $x_3 = \\phi_{2}(x_1, z_2)$, $\\dot{V_2} = x_1 (-x_1^{3} - x_1) + z_2 (-z_2)$\n",
    "<br>\n",
    "8. For 7 to be true:\n",
    "\\begin{align}\n",
    "x_1 + \\phi_{2}(x_1, z_2) - \\dot{\\phi_{1}}(x_1) & = -z_2 \\\\\n",
    "\\phi_{2}(x_1, z_2) & = -z_2 - x_1 + \\dot{\\phi_{1}}(x_1)\n",
    "\\end{align}\n",
    "<br>\n",
    "9. Now let's define another change of variable let $z_3 = x_3 - \\phi_{2}(x_1, z_2)$, then:\n",
    "\\begin{align}\n",
    "z_3 & = x_3 - \\phi_{2}(x_1, z_2) \\\\\n",
    "\\dot{z_3} & = \\dot{x_3} - \\dot{\\phi_{2}}(x_1, z_2) \\\\\n",
    "\\dot{z_3} & = u - \\dot{\\phi_{2}}(x_1, z_2) \\\\\n",
    "\\end{align}\n",
    "Furthermore:\n",
    "\\begin{align}\n",
    "z_3 & = x_3 - \\phi_{2}(x_1, z_2)\\\\\n",
    "x_3 & = z_3 + \\phi_{2}(x_1, z_2)\\\\\n",
    "\\end{align}\n",
    "And:\n",
    "\\begin{align}\n",
    "\\dot{z_2} & = \\dot{x_2} - \\dot{\\phi_{1}}(x_1)\\\\\n",
    "\\dot{z_2} & = x_3 - \\dot{\\phi_{1}}(x_1)\\\\\n",
    "\\dot{z_2} & = z_3 + \\phi_{2}(x_1, z_2) - \\dot{\\phi_{1}}(x_1)\\\\\n",
    "\\dot{z_2} & = z_3 + (-z_2 - x_1 + \\dot{\\phi_{1}}(x_1)) - \\dot{\\phi_{1}}(x_1)\\\\\n",
    "\\dot{z_2} & = z_3 - z_2 - x_1\\\\\n",
    "\\end{align}\n",
    "Then the new system is:\n",
    "\\begin{align}\n",
    "\\dot{x_1} & = -x_1^{3} - x_1 + z_2 \\\\\n",
    "\\dot{z_2} & = z_3 - z_2 - x_1 \\\\\n",
    "\\dot{z_3} & = u - \\dot{\\phi_2}(x_1, z_2)\n",
    "\\end{align}\n",
    "<br>\n",
    "10. Now consider $V_3(x_1, z_2, z_3) = V_2 + \\frac{z_3^{2}}{2} = \\frac{x_1^{2}}{2} + \\frac{z_2^{2}}{2} + \\frac{z_3^{2}}{2}$. Then:\n",
    "\\begin{align}\n",
    "\\dot{V_3} & = \\langle \\nabla_{x_1} V_3, \\dot{x_1} \\rangle + \\langle \\nabla_{z_2} V_3, \\dot{z_2} \\rangle + \\langle \\nabla_{z_3} V_3, \\dot{z_3} \\rangle \\\\\n",
    "\\dot{V_3} & = x_1 \\dot{x_1} + z_2 \\dot{z_2} + z_3 \\dot{z_3} \\\\\n",
    "\\dot{V_3} & = x_1 (-x_1^{3} - x_1 + z_2) + z_2 (z_3 - z_2 - x_1) + z_3 (u - \\dot{\\phi_2}(x_1, z_2)) \\\\\n",
    "\\dot{V_3} & = x_1 (-x_1^{3} - x_1) + x_1 z_2 + z_2 (-x_1) + z_2 (z_3 - z_2) + z_3 (u - \\dot{\\phi_2}(x_1, z_2)) \\\\\n",
    "\\dot{V_3} & = x_1 (-x_1^{3} - x_1) + z_2 (- z_2) + z_3 (z_2 + u - \\dot{\\phi_2}(x_1, z_2)) \\\\\n",
    "\\dot{V_3} & = x_1 (-x_1^{3} - x_1) - z_2^{2} + z_3 (z_2 + u - \\dot{\\phi_2}(x_1, z_2)) \\\\\n",
    "\\end{align}\n",
    "<br>\n",
    "11. From 10, we see that if we want $\\dot{V_3} \\leq -W_3(x_1, z_2, z_3)$ for a positive definite $W_3(x_1, z_2, z_3)$, we can **derive u** so that:\n",
    "\\begin{align}\n",
    "z_2 + u - \\dot{\\phi_2}(x_1, z_2) & = -z_3 \\\\\n",
    "u & = -z_3 - z_2 + \\dot{\\phi_2}(x_1, z_2) \\\\\n",
    "\\end{align}\n",
    "Where\n",
    "\\begin{align}\n",
    "\\dot{\\phi_2}(x_1, z_2) & = \\langle \\nabla_{x_1} \\phi_2, \\dot{x_1} \\rangle + \\langle \\nabla_{z_2} \\phi_2, \\dot{z_2} \\rangle\n",
    "\\end{align}\n",
    "<br>\n",
    "12. So from 11, if we define $u = -z_3 - z_2 + \\dot{\\phi_2}(x_1, z_2)$, then:\n",
    "\\begin{align}\n",
    "\\dot{V_3}(x_1, z_2, z_3) = x_1(-x_1^{3} - x_1) - z_2^{2} - z_3^{2}\n",
    "\\end{align}\n",
    "Which we see is a negative of a non-negative function. And our goal in 11:\n",
    "\\begin{align}\n",
    "\\dot{V_3} \\leq -W_3(x_1, z_2, z_3)\n",
    "\\end{align}\n",
    "is achieved for a positive definite function $W_3(x_1, z_2, z_3) = x_1^{2}$"
   ]
  },
  {
   "cell_type": "markdown",
   "metadata": {},
   "source": [
    "## (b) [22 points] Numerical simulation\n",
    "\n",
    "Use your answer in part (a) to write a MATLAB function $\\texttt{𝙱𝚊𝚌𝚔𝚜𝚝𝚎𝚙𝚙𝚒𝚗𝚐𝙲𝚕𝚘𝚜𝚎𝚍𝙻𝚘𝚘𝚙.𝚖}$ that can be called by the supplied executable $\\texttt{𝙱𝚊𝚌𝚔𝚜𝚝𝚎𝚙𝚙𝚒𝚗𝚐.𝚖}$ in CANVAS Files section. Submit the two plots generated by $\\texttt{𝙱𝚊𝚌𝚔𝚜𝚝𝚎𝚙𝚙𝚒𝚗𝚐.𝚖}$: \n",
    "\n",
    "(i) a phase portrait of the closed loop dynamics for 10 randomly generated initial conditions, \n",
    "\n",
    "(ii) a representative time series plot for a specific controlled trajectory.\n",
    "\n",
    "The plot commands are already there in $\\texttt{𝙱𝚊𝚌𝚔𝚜𝚝𝚎𝚙𝚙𝚒𝚗𝚐.𝚖}$. So your job is to correctly implement the function $\\texttt{𝙱𝚊𝚌𝚔𝚜𝚝𝚎𝚙𝚙𝚒𝚗𝚐𝙲𝚕𝚘𝚜𝚎𝚍𝙻𝚘𝚘𝚙.𝚖}$."
   ]
  },
  {
   "cell_type": "markdown",
   "metadata": {},
   "source": [
    "![phase portrait](backstepping_3.png)\n",
    "\n",
    "![time series plot](backstepping_3_2.png)"
   ]
  }
 ],
 "metadata": {
  "kernelspec": {
   "display_name": "Python 3 (ipykernel)",
   "language": "python",
   "name": "python3"
  },
  "language_info": {
   "codemirror_mode": {
    "name": "ipython",
    "version": 3
   },
   "file_extension": ".py",
   "mimetype": "text/x-python",
   "name": "python",
   "nbconvert_exporter": "python",
   "pygments_lexer": "ipython3",
   "version": "3.8.10"
  }
 },
 "nbformat": 4,
 "nbformat_minor": 4
}
