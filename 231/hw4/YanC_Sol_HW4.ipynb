{
 "cells": [
  {
   "cell_type": "markdown",
   "metadata": {},
   "source": [
    "# Problem 1 [60 points] Lyapunov analysis for unforced and forced systems"
   ]
  },
  {
   "cell_type": "markdown",
   "metadata": {},
   "source": [
    "## (a) [15 + 15 = 30 points] Asymptotic stability for the unforced system\n",
    "\n",
    "(i) Consider the nonlinear system\n",
    "$$\\dot{x}_{1} = x_{2}, \\qquad \\dot{x}_{2} = -h_{1}(x_1) - h_2(x_2),$$\n",
    "where for $i=1,2$, the functions $h_{i}(\\cdot)$ are locally Lipschitz, $h_{i}(0)=0$ and $yh_{i}(y) > 0 \\;\\forall\\:y\\in(-a,a)$ for some nonzero real constant $a$. Clearly, the origin is a fixed point but there may be more fixed points depending on the nonlinear functions $h_{i}(\\cdot)$. **Prove that** the origin is AS.\n",
    "\n",
    "To do this, motivated by the pendulum example in Lec. 3, p. 13-14 and Lec. 4, p. 1-2, consider the Lyapunov function $V(x_1,x_2) = \\int_{0}^{x_1}h_1(y)\\:{\\rm{d}}y + \\frac{1}{2}x_2^2$. This Lyapunov function can be thought of as a generalized energy: the intergal term is a generalized potential energy and the second summand is a generalized kinetic energy. You may need to use the LaSalle invariance.\n",
    "\n",
    "(ii) Let us consider a specific instance of the above given by\n",
    "$$\\dot{x}_{1} = x_{2}, \\qquad \\dot{x}_{2} = -\\alpha x_1^3 - \\beta x_2, \\qquad \\alpha,\\beta>0.$$\n",
    "\n",
    "**Prove that** the origin for this system is in fact GAS."
   ]
  },
  {
   "cell_type": "markdown",
   "metadata": {},
   "source": [
    "(i)\n",
    "1. $\\int_{0}^{x_1}h_1(y)$ scales to any function $h_1(x_1)$ by a $x_1$ term, and we are told $x_1 h_1(0) = 0$, $x_1 h_1(x_1) > 0$. In addition $\\frac{1}{2}x_2^2$ is pos def. So $V(x_1, x_2)$ is positive definite since $V(0) = 0, V(\\geq 0) \\geq 0$\n",
    "<br>\n",
    "2. Derive $\\dot{V}$:\n",
    "\\begin{align}\n",
    "\\dot{V}(x_1, x_2) &= \\begin{bmatrix} h_1(x_1) && x_2 \\end{bmatrix} \\begin{bmatrix} x_2 \\\\ -h_1(x_1) - h_2(x_2) \\end{bmatrix} \\\\\n",
    "&= h_1(x_1)x_2 - h_1(x_1)x_2 - x_2 h_2(x_2) \\\\\n",
    "&= -x_2 h_2(x_2) \\\\\n",
    "\\end{align}\n",
    "<br>\n",
    "3. $x_2 h_2(x_2) > 0 \\Rightarrow \\dot{V} = -x_2 h_2(x_2) < 0$\n",
    "<br>\n",
    "4. From 3., $\\dot{V}(0) = 0, \\dot{V}(\\neq0) < 0$, so $\\dot{V}$ is **negative semi-definite**\n",
    "<br>\n",
    "5. Let the set $\\mathcal{S} = \\{ x \\quad s.t. \\dot{V}(x) = -x_2 h_2(x_2) = 0 \\} = \\{ x \\quad s.t. -x_2 = 0 \\}$\n",
    "<br>\n",
    "6. Since $\\dot{x_1} = x_2, x \\in \\mathcal{S} \\Rightarrow \\dot{x_1} = 0$\n",
    "<br>\n",
    "7. Since $\\dot{x_2} = -h_1(x_1) - h_2(x_2), x \\in \\mathcal{S} \\Rightarrow \\dot{x_2} = -h_1(x_1)$\n",
    "<br>\n",
    "8. From 7., $\\dot{x_2} = 0 \\Rightarrow x_1 = 0$\n",
    "<br>\n",
    "9. From 6. and 8., only $x \\in \\mathcal{S} \\quad s.t. \\dot{x} = 0 \\Rightarrow x = (0, 0)$\n",
    "<br>\n",
    "10. From 9 and by LaSalle's Invariance Thm, we see that $(0, 0)$ is **A.S.**"
   ]
  },
  {
   "cell_type": "markdown",
   "metadata": {},
   "source": [
    "(ii)\n",
    "1. We see that $h_1(x_1) = \\alpha x_1^{3}$\n",
    "<br>\n",
    "2. We can see $V(x_1, x_2) = \\frac{\\alpha x_1^{4}}{4} + \\frac{x_2^{2}}{2}$\n",
    "<br>\n",
    "3. We can see also that $\\lim_{\\lVert x \\rVert_{2} \\rightarrow +\\infty} V = +\\infty$, thus $V$ is **radially unbounded**\n",
    "<br>\n",
    "4. From (i) we showed the origin is **A.S.**, and from Lecture 3 pg 9 and 3., we see the origin is also **G.A.S.**"
   ]
  },
  {
   "cell_type": "markdown",
   "metadata": {},
   "source": [
    "## (b) [30 points] Finite gain $\\mathcal{L}_{2}$ stability for the forced system\n",
    "\n",
    "Now consider the forced system in input-output form given by\n",
    "$$\\dot{x}_{1} = x_{2}, \\qquad \\dot{x}_{2} = -\\alpha x_1^3 - \\beta x_2 + u, \\qquad \\alpha,\\beta>0, \\qquad y=x_2.$$\n",
    "\n",
    "Use Lec. 10, p. 1-2 to **prove that** the above system is finite gain $\\mathcal{L}_2$ stable **by deriving an upper bound on $\\mathcal{L}_2$ gain in terms of parameters $\\alpha,\\beta$**. \n",
    "\n",
    "(**Hint:** to use the Hamilton-Jacobi inequality theorem in Lec. 10, p. 1-2, choose the function $V$ to be a positive scaling of the Lyapunov function in part (a). This will lead to an inequality involving the gain upper bound $\\gamma$, the scaling and the parameters. Requiring $\\gamma$ to be smallest will yield the optimal scaling.)"
   ]
  },
  {
   "cell_type": "markdown",
   "metadata": {},
   "source": [
    "1. We can see for this system (picking $V = K*V_{part(a)}$ for some $K > 0$:\n",
    "\\begin{align}\n",
    "h(*) = \\begin{bmatrix} 0 \\\\ 1 \\end{bmatrix} \\\\\n",
    "g(*) = \\begin{bmatrix} 0 \\\\ 1 \\end{bmatrix} \\\\\n",
    "\\frac{\\partial{V}}{\\partial{x}} = \\begin{bmatrix} K \\alpha x_1^{3} && K x_2 \\end{bmatrix} \\\\\n",
    "\\frac{\\partial{V}}{\\partial{t}} = \\frac{\\partial{V}}{\\partial{x}} f(*) = -\\beta K x_2^{2}\n",
    "\\end{align}\n",
    "<br>\n",
    "2. Constructing and solving the H-J inequality:\n",
    "\\begin{align}\n",
    "\\frac{\\partial{V}}{\\partial{t}} + \\frac{1}{2 \\gamma^{2}} \\frac{\\partial{V}}{\\partial{x}} g g^{T} \\frac{\\partial{V}}{\\partial{x}}^{T} + \\frac{1}{2} h^{T} h \\leq 0 \\\\\n",
    "= -\\beta K x_2^{2} + \\frac{1}{2 \\gamma^{2}} K^{2} x_2^{2} + \\frac{1}{2} x_2^{2} \\leq 0 \\\\\n",
    "= -\\beta K + \\frac{1}{2 \\gamma^{2}} K^{2} + \\frac{1}{2} \\leq 0 \\\\\n",
    "\\Rightarrow -\\beta K + \\frac{1}{2 \\gamma^{2}} K^{2} + \\frac{1}{2} \\leq 0 \\\\\n",
    "\\Rightarrow -2 \\gamma^{2} \\beta K + K^{2} + \\gamma^{2} \\leq 0 \\\\\n",
    "\\Rightarrow K^{2}\\leq 2 \\gamma^{2} \\beta K - \\gamma^{2}  \\\\\n",
    "\\Rightarrow K^{2}\\leq (2 \\beta K - 1) \\gamma^{2}  \\\\\n",
    "\\Rightarrow \\gamma^{2} \\geq \\frac{K^{2}}{2 \\beta K - 1} \\\\\n",
    "\\Rightarrow \\gamma \\geq \\sqrt{\\frac{K^{2}}{2 \\beta K - 1}} \\\\\n",
    "\\end{align}\n",
    "<br>\n",
    "3. We can see that the RHS in 2. will be positive as long as the denominator is positive. To achieve this, we can select K s.t.\n",
    "\\begin{align}\n",
    "2 \\beta K - 1 \\geq 0 \\\\\n",
    "\\Rightarrow K \\geq \\frac{1}{2 \\beta} \\\\\n",
    "\\Rightarrow Let K = \\frac{1}{\\beta} \\\\\n",
    "\\Rightarrow \\gamma \\geq \\sqrt{\\frac{K^{2}}{2 - 1}} \\\\\n",
    "\\Rightarrow \\gamma \\geq \\sqrt{K^{2}} \\\\\n",
    "\\Rightarrow \\gamma \\geq K \\\\\n",
    "\\Rightarrow \\gamma \\geq \\frac{1}{\\beta} \\\\\n",
    "\\end{align}\n",
    "<br>\n",
    "4. From 3. (RHS is positive, thus $\\gamma \\gt 0$), we've shown there exists such an upper bound, therefore the above system is <b>$\\mathcal{L}_2$ stable</b>"
   ]
  },
  {
   "cell_type": "markdown",
   "metadata": {},
   "source": [
    "# Problem 2 [40 points] $\\mathcal{L}_{p}$ gain for composition\n",
    "\n",
    "In Lec. 10, p. 3-4, we stated that the finite gain $\\mathcal{L}_{p}$ stability is preserved under series and parrallel compositions of the subsystems. **Prove the same by deriving $\\mathcal{L}_{p}$ gain upper bound for the overall system in terms of the $\\mathcal{L}_{p}$ gain upper bounds for the subsystems**."
   ]
  },
  {
   "cell_type": "markdown",
   "metadata": {},
   "source": [
    "1. Let system 1 be $\\mathcal{L}_{p}$ stable, then by definition $\\lVert y_{1} \\rVert_{2} \\leq \\gamma_{1} \\lVert u_{1} \\rVert_{2}$.\n",
    "<br>  \n",
    "2. Let system 2 be likewise $\\mathcal{L}_{p}$ stable, $\\lVert y_{2} \\rVert_{2} \\leq \\gamma_{1} \\lVert u_{2} \\rVert_{2}$\n",
    "<br>\n",
    "3. In series by definition $u_{2} == y_{1}$, so:\n",
    "\\begin{align}\n",
    "\\lVert y_{2} \\rVert_{2} \\leq \\gamma_{2} \\lVert u_{2} \\rVert_{2} = \\gamma_{2} \\lVert y_{1} \\rVert_{2} \\\\\n",
    "\\Rightarrow \\lVert y_{2} \\rVert_{2} \\leq \\gamma_{2} \\lVert y_{1} \\rVert_{2} \\leq \\Rightarrow \\gamma_{2} \\gamma_{1} \\lVert u_{1} \\rVert_{2} \\\\\n",
    "\\Rightarrow \\lVert y_{2} \\rVert_{2} \\leq \\gamma_{2} \\gamma_{1} \\lVert u_{1} \\rVert_{2} \\\\\n",
    "\\Rightarrow \\frac{\\lVert y_{2} \\rVert_{2}}{\\lVert u_{1} \\rVert_{2}} \\leq \\gamma_{2} \\gamma_{1} \\\\\n",
    "\\end{align}\n",
    "<br>\n",
    "We see the RHS is a product of positive terms, so the LHS is also positive\n",
    "<br>\n",
    "So system 1 in series with system 2 is <b>$\\mathcal{L}_{p}$ stable with upper bound $\\gamma_{2} \\gamma_{1}$</b>\n",
    "4. Likewise, we can show if system 1 is parallel to system 2:\n",
    "\\begin{align}\n",
    "\\lVert y \\rVert_{2} = \\lVert y_{1} \\rVert_{2} + \\lVert y_{2} \\rVert_{2} \\\\\n",
    "\\Rightarrow \\lVert y \\rVert_{2} \\leq \\gamma_{1} \\lVert u_{1} \\rVert_{2} + \\gamma_{2} \\lVert u_{2} \\rVert_{2} \\\\\n",
    "\\Rightarrow \\lVert y \\rVert_{2} \\leq \\gamma_{1} \\lVert u \\rVert_{2} + \\gamma_{2} \\lVert u \\rVert_{2} \\\\\n",
    "\\Rightarrow \\lVert y \\rVert_{2} \\leq (\\gamma_{1} + \\gamma_{2}) \\lVert u \\rVert_{2} \\\\\n",
    "\\Rightarrow \\frac{\\lVert y \\rVert_{2}}{\\lVert u \\rVert_{2}} \\leq \\gamma_{2} + \\gamma_{1} \\\\\n",
    "\\end{align}\n",
    "<br>\n",
    "We see the RHS is a product of positive terms, so the LHS is also positive\n",
    "<br>\n",
    "So system 1 parallel with system 2 is <b>$\\mathcal{L}_{p}$ stable with upper bound $\\gamma_{2} + \\gamma_{1}$\n"
   ]
  }
 ],
 "metadata": {
  "kernelspec": {
   "display_name": "Python 3 (ipykernel)",
   "language": "python",
   "name": "python3"
  },
  "language_info": {
   "codemirror_mode": {
    "name": "ipython",
    "version": 3
   },
   "file_extension": ".py",
   "mimetype": "text/x-python",
   "name": "python",
   "nbconvert_exporter": "python",
   "pygments_lexer": "ipython3",
   "version": "3.8.10"
  }
 },
 "nbformat": 4,
 "nbformat_minor": 4
}
