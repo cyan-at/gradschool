{
 "cells": [
  {
   "cell_type": "markdown",
   "metadata": {},
   "source": [
    "# Problem 1. [50 points] Lyapunov techniques for estimating ROA\n",
    "\n",
    "Consider the following nonlinear system with state vector $(x_1,x_2)\\in\\mathbb{R}^{2}$, given by\n",
    "$$\\dot{x}_{1} = x_{2}, \\\\\n",
    "\\quad \\dot{x}_{2} = -x_{1} - x_{2} + x_{1}^{3}.$$"
   ]
  },
  {
   "cell_type": "markdown",
   "metadata": {},
   "source": [
    "## (a) [10 points] Fixed points\n",
    "Find all isolated fixed points. Show all your calculations.\n",
    "\n",
    "1. From $\\dot{x_1} = x_2$, we know fixed points have $\\dot{x_1} = 0 \\rightarrow x_2 = 0$\n",
    "<br>\n",
    "<br>\n",
    "2. Given $x_2 = 0$:\n",
    "\\begin{align}\n",
    "\\dot{x_2} = -x_1 - x_2 + x_1^{3} = x_1(x_1^{2} - 1)\\\\\n",
    "\\rightarrow x_1 = {0, \\pm1}\n",
    "\\end{align}\n",
    "<br>\n",
    "3. Therefore, isolated fixed points are: $(0, 0), (0, 1), (0, -1)$"
   ]
  },
  {
   "cell_type": "markdown",
   "metadata": {},
   "source": [
    "## (b) [10 + 10 = 20 points] Origin is AS\n",
    "\n",
    "(i) Using the Lyapunov function $V(x_1,x_2)= \\frac{1}{2}x_{2}^{2} + \\int_{0}^{x_{1}}(y-y^3){\\rm{d}}y$, **prove that** the origin is AS. You may need to use the LaSalle invariance.\n",
    "\n",
    "1. We can perform the integration in $V$:\n",
    "\\begin{align}\n",
    "V = \\frac{x_2^{2}}{2} + \\frac{x_1^{2}}{2} - \\frac{x_1^{4}}{4}\n",
    "\\end{align}\n",
    "<br>\n",
    "2. We can derive $\\dot{V}$:\n",
    "\\begin{align}\n",
    "\\dot{V}(x_1, x_2) &= \\frac{\\partial{V}}{\\partial{x_1}}\\frac{\\partial{x_1}}{\\partial{t}} + \\frac{\\partial{V}}{\\partial{x_2}}\\frac{\\partial{x_2}}{\\partial{t}} \\\\\n",
    "&= (x_1 - x_1^{3}) x_2 + x_2 (x_1^{3} - x_1 - x_2) \\\\\n",
    "&= -x_2^{2}\n",
    "\\end{align}\n",
    "<br>\n",
    "3. From 1. we see that: $\\dot{V}$ exists $\\rightarrow$ $V$ is $C_{1}$\n",
    "<br>\n",
    "4. We see that:\n",
    "\\begin{align}\n",
    "\\frac{x_1^{2}}{2} - \\frac{x_1^{4}}{4} \\geq 0\\\\\n",
    "\\frac{x_1^{2}}{2} \\geq \\frac{x_1^{4}}{4}\\\\\n",
    "2 \\geq x_1^{2}\\\\\n",
    "\\lVert  x_1  \\rVert \\leq \\sqrt{2} \\rightarrow \\frac{x_1^{2}}{2} - \\frac{x_1^{4}}{4} \\geq 0\\\\\n",
    "\\end{align}\n",
    "But since $x_1 = 1, -1$ are other isolated fixed points, we cannot be A.S. if D includes them\n",
    "So Let $D = \\left\\{x \\in R^{2} : \\lVert  x_1  \\rVert \\lt 1 \\right\\}$\n",
    "<br>\n",
    "<br>\n",
    "5. Then from 4. we see that over the set $D, V \\geq 0, V(0) = 0, V(\\neq 0) > 0$. $V$ over $D$ is positive definite function.\n",
    "<br>\n",
    "<br>\n",
    "6. We can also see that in $D$, $\\dot{V}$, which is not a function of $x_1$ so it makes no difference, $\\dot{V} = -x_2^{2} <= 0$\n",
    "<br>\n",
    "<br>\n",
    "7. Let $S = \\left\\{ x \\in D | \\dot{V}(x) = 0\\right\\}$\n",
    "<br>\n",
    "<br>\n",
    "8. Then for $x \\in S$, we see that:\n",
    "\\begin{align}\n",
    "x \\in S \\rightarrow -x_2^{2} = 0 \\rightarrow x_2 = 0 \\\\\n",
    "\\dot{x_1} = 0 \\rightarrow \\dot{x_1} = x_2 = 0 \\\\\n",
    "\\dot{x_2} = 0 \\rightarrow \\dot{x}_{2} = x_{1}^{3} - x_{1} = 0 \\\\\n",
    "\\rightarrow x_{1} = \\left\\{-1, 0, 1\\right\\} \\rightarrow x_1 = 0\n",
    "\\end{align}\n",
    "So, we see that in $S \\in D$, only $(0, 0)$ stays identically in $S$\n",
    "<br>\n",
    "<br>\n",
    "9. Then by 5., 6., 7. + 8., and Lec3 pg14-15, **$(0, 0)$ is A.S.** \n",
    "\n",
    "(ii) **Make a 3d surface plot** of the above Lyapunov function $V$ over the domain $[-2,2]^{2}$ along with the contour/level set plots of $V$ in the plane over the same domain. It will be helpful to make the surface plot somewhat transparent.\n",
    "\n",
    "![Contour plot](1b_contours.png)\n",
    "\n",
    "![Contour plot](1b_contours2.png)"
   ]
  },
  {
   "cell_type": "markdown",
   "metadata": {},
   "source": [
    "## (c) [15 + 5 = 20 points] ROA estimation\n",
    "\n",
    "(i) Use the Lyapunov function in part (b) to **estimate the ROA for the origin**.\n",
    "\n",
    "1. Given the set $D$ defined in (b line 5.), we know over $D$, $V$ is positive definite. \n",
    "<br>\n",
    "2. From (b line 6.) we know that over $D$, $\\dot{V} < 0$ for $x_2 \\neq 0$\n",
    "<br>\n",
    "3. Given the set $D$ defined in (b), we know $\\lVert x_1 \\rVert < 1 \\rightarrow x_1 = 1 - \\epsilon, \\quad 0 < \\epsilon < 2$\n",
    "<br>\n",
    "4. By definition of positive invariance, we seek to find the bounds for $(x_1, x_2)$ s.t.\n",
    "\\begin{align}\n",
    "\\dot{x} \\leq 0\\\\\n",
    "\\rightarrow \\dot{x_1} = x_2 \\leq 0\\\\\n",
    "\\rightarrow \\dot{x_2} = -x_1 - x_2 + x_1^{3} \\leq 0\\\\\n",
    "\\rightarrow x_1^{3} - x_1 \\leq x_2 \\leq 0\\\\\n",
    "\\rightarrow x_1(x_1^{2} - 1) \\leq x_2 \\leq 0\\\\\n",
    "\\rightarrow (1-\\epsilon)((1-\\epsilon)^{2} - 1) \\leq x_2 \\leq 0\\\\\n",
    "\\rightarrow 3\\epsilon^{2}-2\\epsilon-\\epsilon^{3} \\leq x_2 \\leq 0\\\\\n",
    "\\end{align}\n",
    "<br>\n",
    "5. We want to maximize $V = \\frac{x_2^{2}}{2} + \\frac{x_1^{2}}{2} - \\frac{x_1^{4}}{4}$ that meets all the constraints so far.\n",
    "<br>\n",
    "6. If we take the derivative of the $\\frac{x_1^{2}}{2} - \\frac{x_1^{4}}{4}$ to find the $x_1$ to maximize $V$ contribution\n",
    "\\begin{align}\n",
    "\\frac{\\partial{}}{\\partial{t}} (\\frac{x_1^{2}}{2} - \\frac{x_1^{4}}{4}) & = x_1 - x_1^{3} = 0\\\\\n",
    "\\rightarrow x_1 ( 1 - x_1^{2}) &= 0\\\\\n",
    "\\rightarrow x_1 \\in {-1, 0, 1}\\\\\n",
    "\\end{align}\n",
    "<br>\n",
    "7. So we see that the $x_1$ term is maximum $(=1/4)$ when $x_1 \\in {-1, 1}$, but since those fall outside the set $D$, it is inconclusive, so we switch to $x_2$\n",
    "<br>\n",
    "8. From 4., we see that $3\\epsilon^{2}-2\\epsilon-\\epsilon^{3} \\leq x_2 \\leq 0$, so we want to minimize the leftmost term to maximize $\\frac{x_2^{2}}{2}$ term of $V$\n",
    "<br>\n",
    "9. Taking the derivative and solving for 0 will yield the $\\epsilon$ that will minimize the leftmost term:\n",
    "\\begin{align}\n",
    "\\frac{\\partial{}}{\\partial{t}} (3\\epsilon^{2}-2\\epsilon-\\epsilon^{3}) = 3\\epsilon^{2} - 6\\epsilon + 2 = 0\\\\\n",
    "\\rightarrow \\epsilon = 1 \\pm \\frac{\\sqrt{3}}{3}\\\\\n",
    "\\rightarrow @ \\epsilon = 0.423 \\rightarrow 3\\epsilon^{2}-2\\epsilon-\\epsilon^{3} = -0.385 \\leq x_2\\\\\n",
    "\\rightarrow x_2 = -0.385\\\\\n",
    "\\rightarrow @ \\epsilon = 0.423, x_1 = 1 - \\epsilon = 0.577\\\\\n",
    "\\rightarrow @ x_1 = 0.577, x_2 = -0.385, V = 0.213\n",
    "\\end{align}\n",
    "<br>\n",
    "10. So $V = 0.213 = c$ we can conclude is the maximal c s.t. $x \\in D$, and $\\dot{x} <= 0$ (positive invariant). We can than construct\n",
    "\\begin{align}\n",
    "\\Omega_{c} = \\left\\{ x \\in R^{2} | \\quad V(x) \\leq c = 0.213 \\right\\}\n",
    "\\end{align}\n",
    "Then we see that $\\Omega_{c}$ is closed and bounded, and $\\Omega_{c} \\subset D$\n",
    "<br>\n",
    "11. Then by Lec 7 pg 6-7, $\\Omega_{c} \\subseteq ROA$\n",
    "  \n",
    "(ii) **Make a 2d plot of your estimated ROA** in the state space.\n",
    "\n",
    "![State space](1c_statespace.png)"
   ]
  },
  {
   "cell_type": "markdown",
   "metadata": {},
   "source": [
    "# Problem 2. [50 points] Lyapunov stability for continuous time LTI system\n",
    "\n",
    "Consider the LTI system $\\dot{x}=Ax$ where $x\\in\\mathbb{R}^{n}$. Recall that the origin is GAS if and only if the matrix $A$ is Hurwitz (i.e., all its eigenvalues lie in the open left-half of the complex plane). In this exercise, we revisit the LTI stability from the Lyapunov viewpoint."
   ]
  },
  {
   "cell_type": "markdown",
   "metadata": {},
   "source": [
    "## (a) [10 + 10 = 20 points] Lyapunov matrix inequality and equation\n",
    "\n",
    "(i) Use the Lyapunov function $V(x) = x^{\\top}Px$ to **prove that** the LTI system is GAS provided the following two matrix inequalities are simultaneously satisfied:\n",
    "$$P \\succ 0, \\quad \\mathcal{L}(P):=A^{\\top}P + PA \\prec 0.$$\n",
    "The latter inequality is called the \"Lyapunov matrix inequality\"."
   ]
  },
  {
   "cell_type": "markdown",
   "metadata": {},
   "source": [
    "(i)\n",
    "\n",
    "1. We can derive $\\dot{V}$ as follows given $V = x^{T}Px, \\quad \\dot{x} = Ax$:\n",
    "\\begin{align}\n",
    "\\dot{V} &= \\dot{x}^{T}Px + x^{T}P\\dot{x}\\\\\n",
    "&= (Ax)^{T}Px + x^{T}PAx\\\\\n",
    "&= x^{T}A^{T}Px + x^{T}PAx\\\\\n",
    "&= x^{T}(A^{T}P + PA)x\\\\\n",
    "&= x^{T}\\mathcal{L}(P)x\\\\\n",
    "\\end{align}\n",
    "<br>\n",
    "2. From 1. we see that if $x^{T}\\mathcal{L}(P)x \\lt 0$, then $\\dot{V} \\lt 0$, **negative definite**\n",
    "<br>\n",
    "3. If $P \\succ 0$, then $V$ is **positive definite function**.\n",
    "<br>\n",
    "4. We can show that $V$ is **radially unbounded**.\n",
    "\\begin{align}\n",
    "Px = \\lambda x, \\quad \\lambda \\succ 0\\\\\n",
    "\\rightarrow x^{T}Px = \\lambda \\lVert x \\rVert^{2}\\\\\n",
    "\\lim_{\\lVert x \\rVert^{2}\\to\\infty} x^{T}Px = \\lim_{\\lVert x \\rVert^{2}\\to\\infty} \\lambda \\lVert x \\rVert^{2} = +\\infty\\\\\n",
    "\\end{align}\n",
    "<br>\n",
    "5. So by 2., 3., and 4., and Lec 3 pg 9 (Barbashin-Krasovski Thm.), the LTI system is **G.A.S**"
   ]
  },
  {
   "cell_type": "markdown",
   "metadata": {},
   "source": [
    "(ii) **Argue that** the condition $\\mathcal{L}(P) \\prec 0$ is equivalent to the statement: for any $Q \\succ 0$, there exists $P \\succ 0$ that solves the linear matrix equation $\\mathcal{L}(P) = -Q$. This equation is called the \"Lyapunov matrix equation\"."
   ]
  },
  {
   "cell_type": "markdown",
   "metadata": {},
   "source": [
    "1. For the equivalence first direction:\n",
    "<br>\n",
    "$\\forall Q \\succ 0$, there exists $P \\succ 0$ that solves $\\mathcal{L}(P) = -Q$ $\\Rightarrow$ $\\mathcal{L}(P) \\prec 0$\n",
    "<br>\n",
    "2. For the other direction: we want to construct a $P \\succ 0$ s.t. $A^{T}P + PA = -Q$ for $Q \\lt 0$\n",
    "<br>\n",
    "3. Let $P = \\int_{0}^{\\infty} e^{tA^{T}}Qe^{tA}$ for some $Q \\succ s.t. Q \\succ 0$ We can show that $P \\succ 0$:\n",
    "\\begin{align}\n",
    "x \\neq 0, \\quad x^{T}Px = 0 \\Rightarrow \\int_{0}^{\\infty} x^{T}e^{tA^{T}}Qe^{tA}x = 0 \\\\\n",
    "\\Rightarrow e^{At}x = 0 \\Rightarrow x = 0 \\quad (e^{At} \\neq 0)\\\\\n",
    "\\end{align}\n",
    "This contradiction shows $x^{T}Px \\succ 0 \\Leftrightarrow x \\neq 0, x^{T}Px = 0 \\Leftrightarrow x = 0$, $P$ is **positive definite**.\n",
    "<br>\n",
    "4. We can now evaluate $PA + A^{T}P$:\n",
    "\\begin{align}\n",
    "PA + A^{T}P &= \\int_{0}^{\\infty} Ae^{tA^{T}}Qe^{tA} + \\int_{0}^{\\infty} A^{T}e^{tA^{T}}Qe^{tA}\\\\\n",
    "&= \\int_{0}^{\\infty} Ae^{tA^{T}}Qe^{tA} + A^{T}e^{tA^{T}}Qe^{tA}\\\\\n",
    "&= \\int_{0}^{\\infty} \\left( \\frac{\\partial{}}{\\partial{t}} e^{tA^{T}}Qe^{tA} \\right)\\\\\n",
    "&= e^{tA^{T}}Qe^{tA} \\big|_0^{\\infty}\\\\\n",
    "&= -Q\\\\\n",
    "\\end{align}\n",
    "<br>\n",
    "5. So we've shown by construction that for all $Q \\succ 0$, we can construct a $P$ based on that $Q$ s.t. $\\mathcal{L}(P) = -Q$\n",
    "<br>\n",
    "6. So from 3., 4., 5., we know that if $\\mathcal{L}(P) \\lt 0$, by definition $\\mathcal{L}(P) = PA + A^{T}P = -Q$ for some $Q > 0$, and in 3. and 4. we show how this is done."
   ]
  },
  {
   "cell_type": "markdown",
   "metadata": {},
   "source": [
    "## (b) [10 + 10 = 20 points] $A$ Hurwitz $\\Rightarrow$ Unique solution for Lyapunov matrix equation\n",
    "\n",
    "You have shown in part (a) that existence of solution for the Lyapunov matrix equation (equivalently, Lyapunov matrix inequality) $\\Rightarrow$ GAS $\\Leftrightarrow$ $A$ Hurwitz. **Now prove the converse:** if $A$ is Hurwitz then for any $Q\\succ 0$, there exists **unique** $P\\succ 0$ that solves $\\mathcal{L}(P)=-Q$.\n",
    "\n",
    "(**Hint:** prove existence by construction. Prove uniqueness by contradiction.)"
   ]
  },
  {
   "cell_type": "markdown",
   "metadata": {},
   "source": [
    "1. Let's say that $P$ is **not unique**, then there is another $\\bar{P} \\neq P$ s.t. $\\mathcal{L}(\\bar{P}) = -Q$\n",
    "<br>\n",
    "2. $\\mathcal{L}(P) - \\mathcal{L}(\\bar{P}) = -Q + Q = 0 = (P - \\bar{P})A + A^{T}(P - \\bar{P})$\n",
    "And furthermore:\n",
    "\\begin{align}\n",
    "(P - \\bar{P})A + A^{T}(P - \\bar{P}) = 0\\\\\n",
    "\\Rightarrow e^{A^{T}t}(P - \\bar{P})A + A^{T}(P - \\bar{P})e^{At} = 0\\\\\n",
    "\\Rightarrow \\frac{\\partial{}}{\\partial{t}} e^{A^{T}t}(P - \\bar{P})e^{At} = 0\\\\\n",
    "\\end{align}\n",
    "<br>\n",
    "3. So we know from 2. that $f(t) = e^{A^{T}t}(P - \\bar{P})e^{At}$ is **constant**, thus:\n",
    "\\begin{align}\n",
    "f(0) = f(\\infty)\\\\\n",
    "f(0) = P - \\bar{P}\\\\\n",
    "f(\\infty) = 0\\\\\n",
    "P - \\bar{P} = 0\\\\\n",
    "P = \\bar{P}\n",
    "\\end{align}\n",
    "<br>\n",
    "4. We see from 1. and 3. that there is a contradiction, therefore **P must be unique**"
   ]
  },
  {
   "cell_type": "markdown",
   "metadata": {},
   "source": [
    "## (c) [10 points] Monotonicity of the solution of Lyapunov matrix equation\n",
    "\n",
    "For an LTI system with $A$ Hurwitz, **prove that** if $Q_1 \\succ Q_2$ then $P_1 \\succ P_2$. (The converse is false but you don't need to prove that)."
   ]
  },
  {
   "cell_type": "markdown",
   "metadata": {},
   "source": [
    "1. From 2.a.ii above, $P = \\int_{0}^{\\infty} e^{tA^{T}}Qe^{tA}$, then:\n",
    "\\begin{align}\n",
    "Q_1 \\succ Q_2\\\\\n",
    "\\Rightarrow e^{A^{T}t}Q_1e^{At} \\succ e^{A^{T}t}Q_2e^{At}\\\\\n",
    "\\Rightarrow \\int_{0}^{\\infty} e^{A^{T}t}Q_1e^{At} \\succ \\int_{0}^{\\infty} e^{A^{T}t}Q_2e^{At} \\\\\n",
    "\\Rightarrow P_1 \\succ P_2 \\\\\n",
    "\\end{align}\n",
    "This direct proof shows the claim."
   ]
  }
 ],
 "metadata": {
  "kernelspec": {
   "display_name": "Python 3 (ipykernel)",
   "language": "python",
   "name": "python3"
  },
  "language_info": {
   "codemirror_mode": {
    "name": "ipython",
    "version": 3
   },
   "file_extension": ".py",
   "mimetype": "text/x-python",
   "name": "python",
   "nbconvert_exporter": "python",
   "pygments_lexer": "ipython3",
   "version": "3.8.10"
  }
 },
 "nbformat": 4,
 "nbformat_minor": 4
}
