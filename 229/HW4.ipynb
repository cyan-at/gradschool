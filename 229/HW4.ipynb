{
 "cells": [
  {
   "cell_type": "markdown",
   "metadata": {},
   "source": [
    "# Problem 1. [10 x 7 = 70 points] Convex Functions\n",
    "\n",
    "For each of the following, **state clearly if the function is convex, concave, neither convex nor concave**. **Then prove your statement**.\n",
    "\n",
    "(a) $f(x) = \\dfrac{\\|Ax + b\\|_2^2}{\\langle c, x\\rangle + d}$ over ${\\rm{dom}}(f)=\\{x\\in\\mathbb{R}^{n}\\mid \\langle c, x\\rangle + d > 0\\}$ where $A\\in\\mathbb{R}^{m\\times n}$, $b\\in\\mathbb{R}^{m}$, $c\\in\\mathbb{R}^{n}$, $d\\in\\mathbb{R}$. \n",
    "\n",
    "(b) $f(X)=\\sum_{i=1}^{n}\\lambda_{i}(X)\\log\\lambda_i(X)$ over ${\\rm{dom}}(f)=\\mathbb{S}^{n}_{++}$ where $\\lambda_{i}(X)$ denotes the $i$th eigenvalue of $X$.\n",
    "\n",
    "(c) $f(x) = \\underset{i=1,...,k}{\\max}\\|A^{(i)}x - b^{(i)}\\|_3$ over ${\\rm{dom}}(f)=\\mathbb{R}^{n}$ where $A^{(i)}\\in\\mathbb{R}^{m\\times n}$, $b^{(i)}\\in\\mathbb{R}^{m}$ for all $i=1,...,k$.\n",
    "\n",
    "(d) $f(x) = {\\rm{ReLU}}\\left(\\langle a , x\\rangle + b\\right)$ over ${\\rm{dom}}(f)=\\mathbb{R}^{n}$ where $a\\in\\mathbb{R}^{n}$, $b\\in\\mathbb{R}$, ${\\rm{ReLU}}(y):=\\max\\{0,y\\}$ for $y\\in\\mathbb{R}$.\n",
    "\n",
    "(e) $f(x) = -\\int_{0}^{2\\pi}\\log\\left(\\sum_{k=1}^{n}x_{k}\\cos((k-1)\\theta)\\right){\\rm{d}}\\theta$ over ${\\rm{dom}}(f)=\\{x\\in\\mathbb{R}^{n}\\mid \\sum_{k=1}^{n}x_{k}\\cos((k-1)\\theta) > 0 \\; \\forall \\; \\theta \\in [0, 2\\pi)\\}$.\n",
    "\n",
    "(f) $f(X) = \\lambda_{\\min}(X)$ over ${\\rm{dom}}(f)=\\mathbb{S}^{n}$ where $\\lambda_{\\min}(X)$ denotes the minimum eigenvalue of $X$.\n",
    "\n",
    "(g) $f(x) = \\log\\left({\\rm{logistic}}(x)\\right)$ over ${\\rm{dom}}(f)=\\mathbb{R}$ where ${\\rm{logistic}}(x):=\\frac{\\exp(x)}{1+\\exp(x)}$."
   ]
  },
  {
   "cell_type": "markdown",
   "metadata": {},
   "source": [
    "# Problem 2. [15 + 15 = 30 points] Legendre-Fenchel Conjugates\n",
    "\n",
    "For each the following function $f$, **derive** the Legendre-Fenchel conjugate $f^{*}$ and its domain ${\\rm{dom}}(f^{*})$.\n",
    "\n",
    "(a) $f(x)=\\sum_{i=1}^{n}x_{i}\\log x_{i}$ over ${\\rm{dom}}(f)=\\mathbb{R}^{n}_{++}$.\n",
    "\n",
    "(b) $f(X) = {\\rm{tr}}\\left(X^{-1}\\right)$ over ${\\rm{dom}}(f)=\\mathbb{S}^{n}_{++}$."
   ]
  }
 ],
 "metadata": {
  "kernelspec": {
   "display_name": "Python 3 (ipykernel)",
   "language": "python",
   "name": "python3"
  },
  "language_info": {
   "codemirror_mode": {
    "name": "ipython",
    "version": 3
   },
   "file_extension": ".py",
   "mimetype": "text/x-python",
   "name": "python",
   "nbconvert_exporter": "python",
   "pygments_lexer": "ipython3",
   "version": "3.8.10"
  }
 },
 "nbformat": 4,
 "nbformat_minor": 4
}
