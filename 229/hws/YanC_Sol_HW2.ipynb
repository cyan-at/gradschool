{
 "cells": [
  {
   "cell_type": "markdown",
   "metadata": {},
   "source": [
    "# Problem 1. [50 points] Affine and Convex Sets, Cones, and Hulls\n",
    "\n",
    "## (a) [10 + (1+4) = 15 points] Copositive matrices \n",
    "\n",
    "(i) In Lec. 4, p. 3, we mentioned without proof that the set of copositive matrices\n",
    "$$\\mathbb{S}_{\\rm{copo}}^{n} := \\{X\\in\\mathbb{S}^{n} \\mid x^{\\top}X x \\geq 0 \\;\\text{for all}\\;x\\in\\mathbb{R}^{n}_{+}\\}$$\n",
    "is convex. Please note there was a typo (now corrected in notes) in the bottom of that page: the correct set inclusion is: $\\mathbb{S}^{n}_{+} \\subset \\mathbb{S}^{n}_{\\rm{copo}} \\subset \\mathbb{S}^{n}$.\n",
    "\n",
    "**Prove that** $\\mathbb{S}_{\\rm{copo}}^{n}$ is a **convex set**.\n",
    "\n",
    "(ii) Is $\\mathbb{S}_{\\rm{copo}}^{n}$ also a **cone**? **Why/why not?**\n",
    "\n",
    "## (b) [(1+9) + (1+4) = 15 points] Permutation matrices\n",
    "\n",
    "(i) A permutation matrix of size $n\\times n$ is a binary matrix such that it has exactly single 1 in each row and each column, the rest of the entries are zero. For example, there are only two permuation matrices of size $2\\times 2$: \n",
    "$$\\begin{pmatrix}1 & 0\\\\\n",
    "0 & 1\\end{pmatrix}, \\quad \\begin{pmatrix}0 & 1\\\\\n",
    "1 & 0\\end{pmatrix}.$$\n",
    "In general, there are $n!$ permutation matrices of size $n\\times n$. For fixed $n$, is the set of all $n\\times n$ permutation matrices a **convex set**? **Why/why not?**\n",
    "\n",
    "(ii) For fixed $n$, is the set of all $n\\times n$ permutation matrices a **cone**? **Why/why not?**\n",
    "\n",
    "## (c) [(1+4) + (1+9) + (1+4) = 20 points] Probability simplex\n",
    "\n",
    "(i) Consider the probability simplex $\\Delta^{n-1}\\subset\\mathbb{R}^{n}$ introduced in Lec. 2, p. 5-6. What is the **affine hull** ${\\rm{aff}}(\\Delta^{n-1})$? **Explain briefly**.\n",
    "\n",
    "(ii) Is $\\Delta^{n-1}$ a **convex set**? **Why/why not?**\n",
    "\n",
    "(iii) Is $\\Delta^{n-1}$ a **cone**? **Why/why not?**"
   ]
  },
  {
   "cell_type": "markdown",
   "metadata": {},
   "source": [
    "a\n",
    "i.\n",
    "1. Let $A \\in \\mathbb{S}_{\\rm{copo}}^{n}$ and $B \\in \\mathbb{S}_{\\rm{copo}}^{n}, B \\neq A$\n",
    "2. Let $C = \\theta A + (1-\\theta) B$ for some $\\theta \\in [0, 1]$\n",
    "3. Then for **all** $x\\in\\mathbb{R}^{n}_{+}$\n",
    "\\begin{align}\n",
    "x C x & = x^{T} (\\theta A + (1-\\theta) B) x \\\\\n",
    "& = x^{T} \\theta A x + x^{T} (1-\\theta) B x \\\\\n",
    "& = \\theta (x^{T} A x) + (1-\\theta) x^{T} B x \\\\\n",
    "& = \\theta (\\geq 0) + (1-\\theta) (\\geq 0)\n",
    "\\end{align}\n",
    "4. We see that since\n",
    "\\begin{align}\n",
    "\\theta & \\in [0, 1] \\\\\n",
    "\\Rightarrow & \\theta \\in [0, 1] \\geq 0, (1-\\theta) \\geq 0 \\\\\n",
    "\\Rightarrow & x^{T} C x \\geq 0 \\\\\n",
    "\\end{align}\n",
    "5. Then any interpolation $C$ between any $A, B \\in \\mathbb{S}_{\\rm{copo}}^{n}$ is also by definition copositive\n",
    "6. Then by definition the set $\\mathbb{S}_{\\rm{copo}}^{n}$ **is convex**"
   ]
  },
  {
   "cell_type": "markdown",
   "metadata": {},
   "source": [
    "a ii.\n",
    "1. Let $A \\in \\mathbb{S}_{\\rm{copo}}^{n}$, and $\\theta \\geq 0$\n",
    "2. Let $C = \\theta A$, then for all $x$,\n",
    "\\begin{align}\n",
    "x^{T} C x = x^{T} \\theta A x & = \\theta x^{T} A x \\\\\n",
    "&= (\\geq 0) (\\geq 0) \\\\\n",
    "&= (\\geq 0) \\\\\n",
    "\\end{align}\n",
    "3. We see that for all $\\theta \\geq 0$, for all $x$, $x^{T} C x \\geq 0$ thus by definition $C = \\theta A \\in \\mathbb{S}_{\\rm{copo}}^{n}$\n",
    "4. Then by definition, the set $\\mathbb{S}_{\\rm{copo}}^{n}$ **is a cone**"
   ]
  },
  {
   "cell_type": "markdown",
   "metadata": {},
   "source": [
    "b i.\n",
    "1. For $\\theta \\in [0, 1]$, we define $C = \\theta A + (1-\\theta) B$\n",
    "2. Then we see that for such an example $\\theta = 0.5, n = 2$\n",
    "\\begin{align}\n",
    "C = 0.5 \\begin{pmatrix}1 & 0\\\\\n",
    "0 & 1\\end{pmatrix} + 0.5 \\begin{pmatrix}0 & 1\\\\\n",
    "1 & 0\\end{pmatrix} = \\begin{pmatrix}0.5 & 0.5\\\\\n",
    "0.5 & 0.5\\end{pmatrix} \\notin P\n",
    "\\end{align}\n",
    "3. From this counterexample, we see that the set $P$ of permutation matrices is **not** convex"
   ]
  },
  {
   "cell_type": "markdown",
   "metadata": {},
   "source": [
    "b ii.\n",
    "1. For any $n = 2, \\quad \\theta \\neq 1 = 0.5$, $\\quad C = \\theta \\begin{pmatrix}1 & 0\\\\\n",
    "0 & 1\\end{pmatrix} = \\begin{pmatrix}0.5 & 0\\\\\n",
    "0 & 0.5\\end{pmatrix} \\notin P$\n",
    "2. So from above, we see that the set $P$ is **not a cone**"
   ]
  },
  {
   "cell_type": "markdown",
   "metadata": {},
   "source": [
    "c i.\n",
    "1. The probability simplex $\\Delta^{n-1}$ can be rewritten as $\\{\\Sigma_i^{n} \\theta_i e_i | \\Sigma_i^{n} \\theta_i = 1, \\theta_i \\geq 0\\}$ for the vectors $e_i$ that are null column vectors with 1 at the ith row.\n",
    "2. The probability simplex is the **convex set** containing those vectors $e_1...e_n$, and the affine hull of the simplex is the **hyperplane** containing those vectors $e_1...e_n$"
   ]
  },
  {
   "cell_type": "markdown",
   "metadata": {},
   "source": [
    "c ii.\n",
    "1. For any two vectors $A, B \\in \\Delta^{n-1}$, and any $\\theta \\in [0, 1]$ and $C = \\theta A + (1-\\theta) B$, we can look at the sum of the elements of $C$\n",
    "\\begin{align}\n",
    "\\Sigma_{i} c_{i} &= \\Sigma_{i} \\theta a_i + \\Sigma_{i} (1-\\theta) b_i \\\\\n",
    "&= \\theta \\Sigma_i a_i + (1-\\theta) \\Sigma_i b_i \\\\\n",
    "&= \\theta + (1-\\theta) \\\\\n",
    "& = 1\n",
    "\\end{align}\n",
    "2. We see that $C = \\theta A + (1-\\theta) B  \\in \\Delta^{n-1}$, then $\\Delta^{n-1}$ **is convex**"
   ]
  },
  {
   "cell_type": "markdown",
   "metadata": {},
   "source": [
    "c iii.\n",
    "1. Let  $\\theta = 2$, and $B = \\theta A$ for some $A \\in \\Delta^{n-1}$\n",
    "2. Then looking at the sum of terms in $B$:\n",
    "\\begin{align}\n",
    "\\Sigma_i b_i & = \\Sigma_i \\theta a_i \\\\\n",
    "& = \\theta \\Sigma_i a_i \\\\\n",
    "& = \\theta 1 \\\\\n",
    "& = 2 \\gt 0\n",
    "\\end{align}\n",
    "3. We see then that for this case of $\\theta = 2 \\gt 0$, $B = \\theta A \\notin \\Delta^{n-1}$, then the set $\\Delta^{n-1}$ is **not a cone**"
   ]
  },
  {
   "cell_type": "markdown",
   "metadata": {},
   "source": [
    "# Problem 2. [15 + 15 + 20 = 50 points] Derivative of Scalar with respect to Matrix\n",
    "\n",
    "Before attempting the following, please review Lec. 4, p. 12-17. **Compute $\\dfrac{\\partial f}{\\partial X}$ for**\n",
    "\n",
    "(a) $f(X) = {\\rm{tr}}(X^2)$, where $X\\in\\mathbb{R}^{n\\times n}$,\n",
    "\n",
    "(b) $f(X) = {\\rm{tr}}(X^{\\top}X)$, where $X\\in\\mathbb{R}^{m\\times n}$,\n",
    "\n",
    "(c) $f(X) = -\\log\\det X$, where $X\\in\\mathbb{S}^{n}_{++}$.\n",
    "\n",
    "(Hint: use $\\det(I + hY) = 1 + h\\: {\\rm{tr}}(Y) + O(h^2)$, and that $\\log(1+y)= y + O(y^2)$ for $|y|$ smaller than $1$)"
   ]
  },
  {
   "cell_type": "markdown",
   "metadata": {},
   "source": [
    "2 a\n",
    "<br>\n",
    "1.\n",
    "\\begin{align}\n",
    "\\mathcal{D}_{z} f(X) & = \\lim_{h -> 0} \\frac{f(X + hZ) - f(X)}{h} \\\\\n",
    "& = \\lim_{h -> 0} \\frac{ tr(X+hZ)^{2}) - tr(X^2) }{ h } \\\\\n",
    "& = \\lim_{h -> 0} \\frac{ tr(X^2 + XhZ + hZX + hZhZ) - tr(X^{2}) }{ h} \\\\\n",
    "& = \\lim_{h -> 0} \\frac{ h tr(XZ) + h tr(XZ) + h^2 tr(Z^2) }{ h} \\\\\n",
    "& = \\lim_{h -> 0} \\frac{ 2h tr(XZ) + h^2 tr(Z^2) }{ h} \\\\\n",
    "& = \\lim_{h -> 0} 2 tr(XZ) + h tr(Z^2) \\\\\n",
    "& = 2 tr(XZ) \\\\\n",
    "& = tr(2XZ) \\\\\n",
    "& = tr((2X^{T})^{T}Z) \\\\\n",
    "\\end{align}\n",
    "2. Then from above we see that $\\frac{\\partial{f}}{\\partial{X}} = 2X^{T} $"
   ]
  },
  {
   "cell_type": "markdown",
   "metadata": {},
   "source": [
    "2 b\n",
    "<br>\n",
    "1.\n",
    "\\begin{align}\n",
    "\\mathcal{D}_{z} f(X) & = \\lim_{h -> 0} \\frac{f(X + hZ) - f(X)}{h} \\\\\n",
    "& = \\lim_{h -> 0} \\frac{ tr( (X+hZ)^{T}(X+hZ) ) - tr( X^{T}X ) }{h} \\\\\n",
    "& = \\lim_{h -> 0} \\frac{ tr( X^{T}X + X^{T}hZ + hZ^{T}X + hZ^{T}hZ ) - tr( X^{T}X ) }{h} \\\\\n",
    "& = \\lim_{h -> 0} \\frac{ tr(X^{T}X) + tr(X^{T}hZ) + tr(hZ^{T}X) + tr(hZ^{T}hZ) - tr( X^{T}X ) }{h} \\\\\n",
    "& = \\lim_{h -> 0} \\frac{ htr(X^{T}Z) + htr(Z^{T}X) + h^2tr(Z^{T}Z) }{h} \\\\\n",
    "& = \\lim_{h -> 0} tr(X^{T}Z) + tr(Z^{T}X) + htr(Z^{T}Z) \\\\\n",
    "& = tr(X^{T}Z) + tr(Z^{T}X) \\\\\n",
    "& = tr(X^{T}Z) + tr((Z^{T}X)^{T}) \\\\\n",
    "& = tr(X^{T}Z) + tr(ZX^{T}) \\\\\n",
    "& = tr(X^{T}Z) + tr(X^{T}Z) \\\\\n",
    "& = tr(2X^{T}Z) \\\\\n",
    "& = tr((2X)^{T}Z)\n",
    "\\end{align}\n",
    "2. Then from above, $\\frac{\\partial{f}}{\\partial{X}} = 2X $"
   ]
  },
  {
   "cell_type": "markdown",
   "metadata": {},
   "source": [
    "2 c\n",
    "<br>\n",
    "1. \n",
    "\\begin{align}\n",
    "\\mathcal{D}_{z} f(X) & = \\lim_{h -> 0} \\frac{f(X + hZ) - f(X)}{h} \\\\\n",
    "& = \\lim_{h -> 0} \\frac{ -\\log\\det(X+hZ) - (-\\log\\det(X) }{h} \\\\\n",
    "& = \\lim_{h -> 0} \\frac{ \\log\\det(X) - \\log\\det(X+hZ) }{h} \\\\\n",
    "& = \\lim_{h -> 0} \\frac{ \\log\\det(X) - \\log\\det(X(I + X^{-1}hZ)) }{h} \\\\\n",
    "& = \\lim_{h -> 0} \\frac{ \\log\\det(X) - \\log\\det(X)\\det(I + X^{-1}hZ) }{h} \\\\\n",
    "& = \\lim_{h -> 0} \\frac{ \\log\\det(X) - \\log\\det(X) - \\log\\det(I + X^{-1}hZ) }{h} \\\\\n",
    "& = \\lim_{h -> 0} \\frac{ - \\log\\det(I + X^{-1}hZ) }{h} \\\\\n",
    "& = \\lim_{h -> 0} \\frac{ - \\log(1 + htr(X^{-1}Z) + O(h^{2})) }{h} \\quad \\text{let} \\quad y = X^{-1}hZ \\\\\n",
    "& = \\lim_{h -> 0} \\frac{ - \\log(1 + htr(X^{-1}Z) + O(h^{2})) }{h} \\quad \\text{let} \\quad y = h tr(X^{-1}Z) + O(h^{2}) \\\\\n",
    "& = \\lim_{h -> 0} \\frac{ -(htr(X^{-1}Z) + O(h^{2}) + O( (htr(X^{-1}Z) + O(h^{2}))^2  ) }{h} \\quad \\text{let} \\quad y = h tr(X^{-1}Z) + O(h^{2}) \\\\\n",
    "& = -\\lim_{h -> 0} \\frac{ htr(X^{-1}Z) }{h} - \\lim_{h -> 0} \\frac{ O(h^{2}) }{h} - \\lim_{h -> 0} \\frac{O( (htr(X^{-1}Z) + O(h^{2}))^2 }{h} \\\\\n",
    "& = -\\lim_{h -> 0} tr(X^{-1}Z) - \\lim_{h -> 0} \\frac{ O(h^{2}) }{h} - \\lim_{h -> 0} \\frac{O( (htr(X^{-1}Z) + O(h^{2}))^2 }{h} \\\\\n",
    "& = -tr(X^{-1}Z)\\\\\n",
    "& = tr((-X^{-T})^{T}Z)\\\\\n",
    "\\end{align}\n",
    "2. Then from above, $\\frac{\\partial{f}}{\\partial{X}} = -X^{-T}$"
   ]
  }
 ],
 "metadata": {
  "kernelspec": {
   "display_name": "Python 3 (ipykernel)",
   "language": "python",
   "name": "python3"
  },
  "language_info": {
   "codemirror_mode": {
    "name": "ipython",
    "version": 3
   },
   "file_extension": ".py",
   "mimetype": "text/x-python",
   "name": "python",
   "nbconvert_exporter": "python",
   "pygments_lexer": "ipython3",
   "version": "3.8.10"
  }
 },
 "nbformat": 4,
 "nbformat_minor": 4
}
