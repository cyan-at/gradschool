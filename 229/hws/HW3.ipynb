{
 "cells": [
  {
   "cell_type": "markdown",
   "metadata": {},
   "source": [
    "# Problem 1. [10 x 5 = 50 points] Set Convexity\n",
    "\n",
    "(a) **Prove or disprove** convexity of the set \n",
    "$$\\{c\\in\\mathbb{R}^{n+1} \\mid -5 \\leq c_0 + c_1\\sin(x) + c_2\\sin(2x) + ... + c_{n}\\sin(n x) \\leq 7 \\; \\text{for}\\; 2022 \\leq x \\leq 2023\\}.$$\n",
    "\n",
    "(b) **Prove or disprove** convexity of the set\n",
    "$$\\bigg\\{x\\in\\mathbb{R}^{n} \\mid \\frac{|x_1|^{p}}{a_1^p} + \\frac{|x_2|^{p}}{a_2^p} + ... + \\frac{|x_n|^{p}}{a_n^p} \\leq 1\\bigg\\}, \\quad \\text{for fixed}\\quad p\\ge 1, \\;a_i > 0 \\;\\forall\\; i=1, ..., n.$$\n",
    "\n",
    "(c) **Prove** the convexity of the following set\n",
    "$$\\{x\\in\\mathbb{R}^{n} \\mid \\|x -a \\|_2 \\leq k \\|x-b\\|_2, \\; a\\neq b, \\; 0\\leq k \\leq 1\\}.$$\n",
    "\n",
    "(d) Consider a discrete (scalar) random variable $x$ having $n$ possible outcomes $a_1,...,a_n$ with respective probabilities $\\mathbb{P}\\left(x=a_i\\right)=p_i$ for all $i=1,...,n$. You already learnt that the probability vector $p:=(p_1,...,p_n)^{\\top}\\in\\Delta^{n-1}$ (standard simplex). Given nonlinear $f:\\mathbb{R}\\mapsto\\mathbb{R}$, we define its expectation $\\mathbb{E}f(x) := \\sum_{i=1}^{n}p_i f(a_i)$. For any $\\alpha  < \\beta$, **prove** that the following set is convex:\n",
    "$$\\{p\\in\\Delta^{n-1}\\mid \\alpha \\leq \\mathbb{E}f(x) \\leq \\beta\\}.$$\n",
    "\n",
    "(e) Consider the same notations as in part (d). Define the variance ${\\rm{var}}(x) := \\mathbb{E}x^2 - \\left(\\mathbb{E}x\\right)^2$. **Give a simple counter-example** to show nonconvexity of the set\n",
    "$$\\{p\\in\\Delta^{n-1}\\mid {\\rm{var}}(x) \\leq \\alpha\\}, \\quad \\text{for fixed}\\quad\\alpha >0.$$"
   ]
  },
  {
   "cell_type": "markdown",
   "metadata": {},
   "source": [
    "# Problem 2 [15 + 15 + 15 + 5 = 50 points] A Set of Matrices\n",
    "\n",
    "(a) Consider the set of matrices\n",
    "$$\\mathcal{X} := \\{X\\in\\mathbb{R}^{n\\times n} \\mid X_{ij}\\geq 0, \\quad \\sum_{i=1}^{n}X_{ij}=1, \\quad \\sum_{j=1}^{n}X_{ij}=1\\quad\\text{for all}\\quad i,j=1,...,n\\}.$$\n",
    "**Prove** that $\\mathcal{X}$ is a **convex set**.\n",
    "\n",
    "(b) Is $\\mathcal{X}$ a **cone**? **Why/why not?**\n",
    "\n",
    "(c) **Prove** that $\\mathcal{X}$ is a **polyhedron**. (Hint: review the definition of polyhedron from Lec. 6, p. 5)\n",
    "\n",
    "(d) Fix $n=2$. In this case, **what is the relation** between $\\mathcal{X}$ and the **convex hull of all $2\\times 2$ permutation matrices** (which you encountered in HW2, Prob. 1(b))? **Explain briefly**."
   ]
  }
 ],
 "metadata": {
  "kernelspec": {
   "display_name": "Python 3 (ipykernel)",
   "language": "python",
   "name": "python3"
  },
  "language_info": {
   "codemirror_mode": {
    "name": "ipython",
    "version": 3
   },
   "file_extension": ".py",
   "mimetype": "text/x-python",
   "name": "python",
   "nbconvert_exporter": "python",
   "pygments_lexer": "ipython3",
   "version": "3.8.10"
  }
 },
 "nbformat": 4,
 "nbformat_minor": 4
}
