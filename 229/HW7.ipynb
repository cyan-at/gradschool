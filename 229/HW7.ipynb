{
 "cells": [
  {
   "cell_type": "markdown",
   "metadata": {},
   "source": [
    "# Problem 1. [100 points] Hello Europa\n",
    "\n",
    "Scientists speculate that beneath its thick icy surface, [Jupyter's moon Europa](https://en.wikipedia.org/wiki/Europa_(moon)) has huge salty water ocean that stays in liquid phase due to tidal effects. Some believe that Europa's subsurface ocean is a promising place to harbor extraterrestial life.\n",
    "\n",
    "Consider a robotic space mission that delivers $m$ rovers equipped with biochemical sensors on Europa's icy surface at **known locations** $a_{i}\\in\\mathbb{R}^{n}$ (for our application $n=2$ or $3$, but we will fix the numerical data later). All coordinates are measured w.r.t. a fixed reference frame (which is irrelevant for this problem). Upon landing, all rovers detect that a source located at **unknown location** $x\\in\\mathbb{R}^{n}$ is emitting biochemical signal. Specifically, the sensors onboard the rovers measure the noisy range $r_i$ between the source and the $i$th rover:\n",
    "$$r_i = \\|x-a_i\\|_2 + \\varepsilon_i, \\quad i=1,...,m,$$\n",
    "where $(\\varepsilon_1, ..., \\varepsilon_m)^{\\top}$ denotes the **unknown noise vector**. The purpose of this problem is to estimate the source location $x\\in\\mathbb{R}^{n}$ from the noisy measurements $r_i>0$.\n"
   ]
  },
  {
   "cell_type": "markdown",
   "metadata": {},
   "source": [
    "## (a) [15 + 5 = 20 points] Range Error Formulation\n",
    "\n",
    "(i) A natural way to formulate this problem is to solve\n",
    "$$\\underset{x\\in\\mathbb{R}^{n}}{\\min}\\sum_{i=1}^{m}\\left(r_i - \\|x-a_i\\|_2\\right)^{2},$$\n",
    "or equivalently,\n",
    "\\begin{align*}\n",
    "&\\underset{x\\in\\mathbb{R}^{n},g\\in\\mathbb{R}^{m}}{\\min}\\sum_{i=1}^{m}\\left(r_i - g_i\\right)^{2}\\\\\n",
    "&\\text{subject to} \\quad g_i^2 = \\|x-a_i\\|_2^{2} \\quad \\forall i=1,...,m.\n",
    "\\end{align*}\n",
    "Use the change-of-variables \n",
    "$$G := \\begin{pmatrix}g\\\\\n",
    "1\\end{pmatrix}\\left(g^{\\top} \\quad 1\\right), \\qquad X := \\begin{pmatrix}x\\\\\n",
    "1\\end{pmatrix}\\left(x^{\\top} \\quad 1\\right),$$\n",
    "to **re-write** the above as an optimization problem over the matrix decision variable pair $(X,G)$.\n",
    "\n",
    "(ii) **Mathematically argue** whether the optimization problem derived in part (a)(i) is convex or nonconvex. "
   ]
  },
  {
   "cell_type": "markdown",
   "metadata": {},
   "source": [
    "i.\n"
   ]
  },
  {
   "cell_type": "markdown",
   "metadata": {},
   "source": [
    "## (b) [15 + 5 = 20 points] Squared Range Error Formulation\n",
    "\n",
    "(i) A different formulation is to solve\n",
    "$$\\underset{x\\in\\mathbb{R}^{n}}{\\min}\\underbrace{\\sum_{i=1}^{m}\\left(\\|x-a_i\\|_2^2 - r_i^2\\right)^{2}}_{f_0(x)},$$\n",
    "or equivalently,\n",
    "\\begin{align*}\n",
    "&\\underset{x\\in\\mathbb{R}^{n},\\alpha\\in\\mathbb{R}}{\\min}\\sum_{i=1}^{m}\\left(\\alpha - 2a_i^{\\top}x + \\|a_i\\|_2^2 - r_i^2\\right)^{2}\\\\\n",
    "&\\text{subject to} \\quad x^{\\top}x=\\alpha.\n",
    "\\end{align*}\n",
    "Introducing $y:=\\begin{pmatrix}\n",
    "x\\\\\n",
    "\\alpha\n",
    "\\end{pmatrix}\\in\\mathbb{R}^{n+1}$, re-write the above problem as \n",
    "\\begin{align*}\n",
    "&\\underset{y\\in\\mathbb{R}^{n+1}}{\\min}\\|Ay-b\\|_2^{2}\\\\\n",
    "&\\text{subject to} \\quad y^{\\top}Cy + 2d^{\\top}y = 0.\n",
    "\\end{align*}\n",
    "**In other words, derive** $A,b,C,d$ as function of the problem data: $r_1^2,..., r_m^2$, and $a_1,..., a_m$.\n",
    "\n",
    "(ii) **Mathematically argue** whether the optimization problem derived in part (b)(i) is convex or nonconvex."
   ]
  },
  {
   "cell_type": "code",
   "execution_count": null,
   "metadata": {},
   "outputs": [],
   "source": []
  },
  {
   "cell_type": "markdown",
   "metadata": {},
   "source": [
    "## (c) [25 + 35 = 60 points] Numerical Solution\n",
    "\n",
    "(i) Let us call the problem derived in part (b)(i) as the primal problem. It can be theoretically proved that this primal problem has zero duality gap. This theoretical knowledge suggests the following strategy: derive the Lagrange dual problem for the primal in part (b)(i), then numerically solve that Lagrange dual problem via cvx/cvxpy/Convex.jl, then invoke strong duality. \n",
    "\n",
    "**Using this strategy, compute the optimal estimate of the source location** $x^{\\rm{opt}}\\in\\mathbb{R}^{2}$ for $m=5$ rovers located at\n",
    "$$a_1=\\begin{pmatrix}\n",
    "1.8\\\\\n",
    "2.5\n",
    "\\end{pmatrix},\\quad a_2=\\begin{pmatrix}\n",
    "2.0\\\\\n",
    "1.7\n",
    "\\end{pmatrix},\\quad a_3=\\begin{pmatrix}\n",
    "1.5\\\\\n",
    "1.5\n",
    "\\end{pmatrix},\\quad a_4=\\begin{pmatrix}\n",
    "1.5\\\\\n",
    "2.0\n",
    "\\end{pmatrix},\\quad a_5=\\begin{pmatrix}\n",
    "2.5\\\\\n",
    "1.5\n",
    "\\end{pmatrix},$$\n",
    "and $r=(2.00, 1.24, 0.59, 1.31, 1.44)$. **Please submit your code**.\n",
    "\n",
    "For the above data, see figure file $\\texttt{f0Contour.png}$ in CANVAS file section, folder: Homework Problems and Solutions, showing the contour lines of the objective $f_0(x)$ in part (b) with rover locations $a_i$ denoted as circles.\n",
    "\n",
    "(ii) Let us now execute an alternative strategy to solve the primal problem in part (b) as follows. Use the KKT condition to write the primal argmin $y^{\\rm{opt}}$ as an explicit function of the optimal Lagrange multiplier $\\nu^{\\rm{opt}}$. Then derive a nonlinear algebraic equation of the form $\\phi(\\nu^{\\rm{opt}})=0$ and solve the same using bisection method for the numerical data given in part (c)(i). Finally, **compute and compare** the $x^{\\rm{opt}}$ obtained from part c(ii) and c(i)."
   ]
  },
  {
   "cell_type": "code",
   "execution_count": null,
   "metadata": {},
   "outputs": [],
   "source": []
  }
 ],
 "metadata": {
  "kernelspec": {
   "display_name": "Python 3 (ipykernel)",
   "language": "python",
   "name": "python3"
  },
  "language_info": {
   "codemirror_mode": {
    "name": "ipython",
    "version": 3
   },
   "file_extension": ".py",
   "mimetype": "text/x-python",
   "name": "python",
   "nbconvert_exporter": "python",
   "pygments_lexer": "ipython3",
   "version": "3.8.10"
  }
 },
 "nbformat": 4,
 "nbformat_minor": 4
}
