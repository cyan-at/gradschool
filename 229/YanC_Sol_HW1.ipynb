{
 "cells": [
  {
   "cell_type": "markdown",
   "metadata": {},
   "source": [
    "# Problem 1. [50 points] Positive Semi-definite Matrices"
   ]
  },
  {
   "cell_type": "markdown",
   "metadata": {},
   "source": [
    "## (a) [10 + 10 = 20 points] Matricial Outer Product\n",
    "\n",
    "(i) Consider an arbitrary $Y\\in\\mathbb{R}^{m\\times n}\\setminus\\{0\\}$. **Prove that** $YY^{\\top}\\in\\mathbb{S}^{m}_{+}$.\n",
    "\n",
    "(ii) Consider an arbitrary $X\\in\\mathbb{S}^{m}_{+}$. **Prove that** we can always decompose $X$ as $X=YY^{\\top}$ for some $Y\\in\\mathbb{R}^{m\\times m}$. "
   ]
  },
  {
   "cell_type": "markdown",
   "metadata": {},
   "source": [
    "i. \n",
    "1. $Y Y^{T} = \\mathbb{R}^{m\\times n} \\mathbb{R}^{n\\times m} = \\mathbb{R}^{m\\times m}$, a square matrix\n",
    "2. Let $X = Y Y^{T}$\n",
    "\\begin{align}\n",
    "X^{T} & = (Y Y^{T})^{T} = (Y^{T})^{T} Y^{T} = Y Y^{T} = X \\\\\n",
    "\\Rightarrow X & = Y Y^{T} \\in S^{m}\n",
    "\\end{align}\n",
    "3. Let $\\underline{v} \\in R^{m}$, then\n",
    "\\begin{align}\n",
    "\\underline{v}^{T} Y Y^{T} \\underline{v} & = (Y^{T} \\underline{v})^{T} (Y^{T} \\underline{v}) \\\\\n",
    "& = \\lVert Y^{T} \\underline{v} \\rVert_{2}^{2} \\ge 0\n",
    "\\end{align}\n",
    "then by definition $Y Y^{T} \\in S_{+}^{m}$"
   ]
  },
  {
   "cell_type": "markdown",
   "metadata": {},
   "source": [
    "ii.\n",
    "1. From lecture 2 pg 12\n",
    "\\begin{align}\n",
    "X & \\in S_{+}^{m} \\\\\n",
    "& \\Rightarrow \\quad \\lambda_{i}(X) \\ge 0 \\quad \\forall i=0..m \\\\\n",
    "& \\Rightarrow \\quad \\sqrt{\\lambda_{i}(X)} \\ge 0 \\quad \\forall i=0..m\n",
    "\\end{align}\n",
    "2. For a real symmetric matrix such as $X$, the eigendecomposition exists of $X = P D P^{-1}$ where $P$ is orthogonal ($P^{-1} = P^{T}$) and $D$ is a diagonal matrix with the eigenvalues along the diagonal.\n",
    "3. Define a diagonal matrix $K$ of the square root of X eigenvalues s.t. $K K^{T} = D$, entries will exist and be real and non-negative from 1.\n",
    "4. Then it follows that:\n",
    "\\begin{align}\n",
    "X & = P D P^{-1} \\\\\n",
    "& = P K K^{T} P^{-1} \\\\\n",
    "& = P K P^{-1} P K^{T} P^{-1} \\\\\n",
    "& = P K P^{-1} (P^{-1})^{T} K^{T} P^{T} \\\\\n",
    "& = P K P^{-1} (P K P^{-1})^{T} \\\\\n",
    "& = Y Y^{T}, \\quad Y = P K P^{-1} \\in \\mathbb{R}^{m \\times m}\n",
    "\\end{align}\n",
    "5. From 4., we see that given $X \\in S_{+}^{m}$ and the eigendecomposition always exists with orthogonal $P$, then it follows that $X$ can always be decomposed into $Y Y^{T} \\in \\mathbb{R}^{m \\times m}$"
   ]
  },
  {
   "cell_type": "markdown",
   "metadata": {},
   "source": [
    "## (b) [(10 + 5) + 5 + 10 = 30 points] Set of $3\\times 3$ Correlation Matrices\n",
    "\n",
    "(i) In statistics, any $3\\times 3$ correlation matrix is of the form $\\begin{pmatrix}\n",
    "1 & x & y\\\\\n",
    "x & 1 & z\\\\\n",
    "y & z & 1\n",
    "\\end{pmatrix}$ where the scalars $x,y,z$ are such that the matrix is positive semi-definite. So we can visualize the set of all $3\\times 3$ correlation matrices as\n",
    "$$\\mathcal{X}:=\\bigg\\{(x,y,z)\\in\\mathbb{R}^{3}\\mid \\begin{pmatrix}\n",
    "1 & x & y\\\\\n",
    "x & 1 & z\\\\\n",
    "y & z & 1\n",
    "\\end{pmatrix} \\in \\mathbb{S}^{3}_{+}\\bigg\\} \\subset \\mathbb{R}^{3}.$$\n",
    "Use your favorite plotting tool (MATLAB/Python/Julia) to **make a 3D plot of $\\mathcal{X}$** in the domain $[-1,1]^{3}$. **Briefly explain** the math behind your code.\n",
    "\n",
    "(ii) **Mathematically argue why** $\\mathcal{X}\\subseteq [-1,1]^{3}$. \"Mathematically\" means argue with some inequalities etc. Don't just say \"Duh! Look at my plot.\" :-)\n",
    "\n",
    "(iii) **Prove that** $\\mathcal{X} = \\{(\\cos\\alpha,\\cos\\beta,\\cos\\gamma)\\in\\mathbb{R}^{3}\\mid (\\alpha,\\beta,\\gamma)\\:\\text{are the pairwise angles between three unit vectors in } \\mathbb{R}^{3}\\}$.\n",
    "\n",
    "(Hint: Use what you proved in part (a)(ii).)"
   ]
  },
  {
   "cell_type": "code",
   "execution_count": 59,
   "metadata": {},
   "outputs": [
    {
     "data": {
      "image/png": "[encoded data removed]",
      "text/plain": [
       "<Figure size 432x288 with 1 Axes>"
      ]
     },
     "metadata": {
      "needs_background": "light"
     },
     "output_type": "display_data"
    }
   ],
   "source": [
    "# i.\n",
    "# construct the state-space as a discrete sampling of [-1, 1]^3\n",
    "# define a function to test if x,y,z is in the set X (if it satisfies determinant checks)\n",
    "# apply function to all states\n",
    "# filter out states that are in set X, and scatter plot them\n",
    "\n",
    "import matplotlib.pyplot as plt\n",
    "import numpy as np\n",
    "\n",
    "N = 25\n",
    "x = np.linspace(-1, 1, N)\n",
    "y = np.linspace(-1, 1, N)\n",
    "z = np.linspace(-1, 1, N)\n",
    "\n",
    "X, Y, Z = np.meshgrid(x, y, z)\n",
    "X = X.reshape(-1)\n",
    "Y = Y.reshape(-1)\n",
    "Z = Z.reshape(-1)\n",
    "\n",
    "def in_X(xyz):\n",
    "    x = xyz[0]\n",
    "    y = xyz[1]\n",
    "    z = xyz[2]\n",
    "    \n",
    "    # delete nothing\n",
    "    test0 = (1-z**2) - x*(x - y*z) + y * (x*z - y)\n",
    "\n",
    "    # delete 1 row-col pair\n",
    "    test1 = 1 - x**2\n",
    "    test2 = 1 - y**2\n",
    "    test3 = 1 - z**2\n",
    "    \n",
    "    # diagonal entries are 1, always > 0\n",
    "    \n",
    "    if test0 >= 0 and test1 >= 0 and test2 >= 0 and test3 >= 0:\n",
    "        return True\n",
    "    \n",
    "    return False\n",
    "\n",
    "state = np.vstack((X, Y, Z)).T\n",
    "\n",
    "in_x_result = np.apply_along_axis(in_X, 1, state)\n",
    "\n",
    "in_set = state[in_x_result]\n",
    "out_set = state[np.logical_not(in_x_result)]\n",
    "\n",
    "fig = plt.figure()\n",
    "ax = fig.add_subplot(projection='3d')\n",
    "ax.scatter(in_set[:, 0], in_set[:, 1], in_set[:, 2], marker='o')\n",
    "# ax.scatter(out_set[:, 0], out_set[:, 1], out_set[:, 2], marker='o')\n",
    "\n",
    "plt.show()"
   ]
  },
  {
   "cell_type": "markdown",
   "metadata": {},
   "source": [
    "ii.\n",
    "1. From Lec 2 pg 13, we know that $\\mathcal{X} \\in \\mathcal{S}_{+}^{3} \\Leftrightarrow$ all principal minors of $\\mathcal{X} \\ge 0$\n",
    "2. In follows then that the determinants of the upper left 1x1, 2x2, and 3x3 matrices of $\\begin{pmatrix}\n",
    "1 & x & y\\\\\n",
    "x & 1 & z\\\\\n",
    "y & z & 1\n",
    "\\end{pmatrix}$ must be $\\ge 0$\n",
    "3. Then from definition of determinants:\n",
    "\\begin{align}\n",
    "1 & \\ge 0 \\\\\n",
    "1 - x^{2} & \\ge 0 \\\\\n",
    "(1 - z^{2}) - x(x - zy) + y(xz - y) & \\ge 0 \\\\\n",
    "\\end{align}\n",
    "4. But we see that the three above inequalities do **not** always hold for every point in $[-1,1]^{3}$. Consider the point $(x, y, z) = (1, 1, -1)$\n",
    "\\begin{align}\n",
    "1 & \\ge 0 \\\\\n",
    "1 - 1^{2} = 0 & \\ge 0 \\\\\n",
    "(1 - (-1)^{2}) - (1)(1 - (-1)(1)) + (1)((1)(-1) - 1) = 0 - 2 - 2 = -4 & < 0 \\\\\n",
    "\\end{align}\n",
    "5. Then we see that there exists at least 1 point in the domain that is **outside** $\\mathcal{X}$, therefore $\\mathcal{X}\\subseteq [-1,1]^{3}$"
   ]
  },
  {
   "cell_type": "markdown",
   "metadata": {},
   "source": [
    "iii.\n",
    "1. From Problem1.a.ii., any vector in $\\mathcal{X}$ forms a symmetric matrix $P(x,  y, z)$ and can be decomposed as $Y Y^{T}$ for some $3x3$ matrix $Y$\n",
    "<br>\n",
    "\n",
    "2. Let $Y_{n:}$ denote the nth **row** of Y, and $Y_{:m}$ denote the mth **column** of Y\n",
    "<br>\n",
    "\n",
    "3. $P(x, y, z) = Y Y^{T} =\n",
    "\\begin{bmatrix}\n",
    "Y_{1:} * Y^{T}_{:1} & Y_{1:} * Y^{T}_{:2} & Y_{1:} * Y^{T}_{:3} \\\\\n",
    "Y_{2:} * Y^{T}_{:1} & Y_{2:} * Y^{T}_{:2} & Y_{2:} * Y^{T}_{:3} \\\\\n",
    "Y_{3:} * Y^{T}_{:1} & Y_{3:} * Y^{T}_{:2} & Y_{3:} * Y^{T}_{:3}\n",
    "\\end{bmatrix} =\n",
    "\\begin{bmatrix}\n",
    "Y_{1:} * Y_{1:} & Y_{1:} * Y_{2:} & Y_{1:} * Y_{3:} \\\\\n",
    "Y_{2:} * Y_{1:} & Y_{2:} * Y_{2:} & Y_{2:} * Y_{3:} \\\\\n",
    "Y_{3:} * Y_{1:} & Y_{3:} * Y_{2:} & Y_{3:} * Y_{3:}\n",
    "\\end{bmatrix}$\n",
    "<br>\n",
    "\n",
    "4. We see that every entry of $P(x, y, z)_{ij} = Y Y^{T} = Y_{i:} Y_{j:}$, the dot product between the $i$th **row vector** and the $j$th **row vector**.\n",
    "<br>\n",
    "\n",
    "5. Restating 4, $P(x, y, z)_{ij} = <Y_{i:}, Y_{j:}> = \\|Y_{i:}\\| \\|Y_{j:}\\| \\cos(\\theta)$ for some $\\theta$ angle between the vectors $Y_{i:}, Y_{j:}$\n",
    "<br>\n",
    "\n",
    "6. By definition, $P(x, y, z)_{11} = P(x, y, z)_{22} = P(x, y, z)_{33} = 1$, then:\n",
    "\\begin{align}\n",
    "<Y_{1:}, Y_{1:}> & = \\|Y_{1:}\\| \\|Y_{1:}\\| \\cos(0) = \\|Y_{1:}\\|^{2} = 1 \\\\\n",
    "& \\Rightarrow \\|Y_{1:}\\| = 1 \\\\\n",
    "& \\Rightarrow \\|Y_{2:}\\| = \\|Y_{3:}\\| = 1\n",
    "\\end{align}\n",
    "<br>\n",
    "7. We've shown then that every vector in $\\mathcal{X}$ corresponds to a symmetric matrix $P(x, y, z)$ that can be decomposed into $Y Y^{T}$ where the rows of $Y$ are unit vectors.\n",
    "<br>\n",
    "8. It follows that $P(x, y, z)_{ij} = <Y_{i:}, Y_{j:}> = \\|Y_{i:}\\| \\|Y_{j:}\\| \\cos(\\theta) = \\cos(\\theta)$ for $\\theta$ angle between unit vectors $Y_{i:}, Y_{j:}$\n",
    "<br>\n",
    "9. From 8, the non-diagonal terms in $P$ can be written\n",
    "\\begin{align}\n",
    "P(x, y, z)_{21} = \\cos(Y_{2:}, Y_{1:}) = \\cos(Y_{1:}, Y_{2:}) = P(x, y, z)_{12} = \\cos(\\alpha) \\\\\n",
    "P(x, y, z)_{31} = \\cos(Y_{3:}, Y_{1:}) = \\cos(Y_{1:}, Y_{3:}) = P(x, y, z)_{13} = \\cos(\\beta) \\\\\n",
    "P(x, y, z)_{23} = \\cos(Y_{2:}, Y_{3:}) = \\cos(Y_{3:}, Y_{2:}) = P(x, y, z)_{32} = \\cos(\\gamma) \\\\\n",
    "\\end{align}\n",
    "<br>\n",
    "10. Then we've shown that every vector $(x, y, z)$ in the set $\\mathcal{X}$ can be rewritten as a symmetric matrix $P$ where the diagonal terms are 1, and non-diagonal terms are as in 8."
   ]
  },
  {
   "cell_type": "markdown",
   "metadata": {},
   "source": [
    "# Problem 2. [5 x 10 = 50 points] True/False: Norms\n",
    "\n",
    "For each of the following, **state True/False**. If your answer is \"True\", then give a **short proof**. If your answer is \"False\", then give a **simple counter-example**.\n",
    "\n",
    "(a) For all $x\\in\\mathbb{R}^{n}$, $Q\\in {\\rm{O}}(n)$, we have $\\|Qx\\|_{2} = \\|x\\|_{2}$.\n",
    "\n",
    "(b) For all $x\\in\\mathbb{R}^{n}$, we have $\\|x\\|_{1} \\geq \\|x\\|_{\\infty}$.\n",
    "\n",
    "(c) For all $x\\in\\mathbb{R}^{n}$, we have $\\|x\\|_2 = \\sqrt{{\\rm{tr}}(xx^{\\top})}$.\n",
    "\n",
    "(d) Let $0<p,q\\leq \\infty$ such that $p\\neq q$. The identity $\\|x\\|_p = \\|x\\|_{q}$ holds for finitely many vectors $x\\in\\mathbb{R}^{n}$.\n",
    "\n",
    "(e) Let $1\\leq p < q\\leq \\infty$. The identity $\\|x\\|_p = n^{\\frac{1}{p}-\\frac{1}{q}}\\|x\\|_{q}$ holds for finitely many vectors $x\\in\\mathbb{R}^{n}$.\n",
    "\n",
    "(f) Let $\\sigma$ denote the vector comprising of the singular values of $X\\in\\mathbb{R}^{m\\times n}$. Then $\\|\\sigma\\|_{\\infty} = \\|X\\|_{2}$.\n",
    "\n",
    "(g) Let $\\sigma$ denote the vector comprising of the singular values of $X\\in\\mathbb{R}^{m\\times n}$. Then $\\|\\sigma\\|_{0} = {\\rm{rank}}(X)$.\n",
    "\n",
    "(h) For all $X\\in\\mathbb{R}^{m\\times n}$, we have $\\|X\\|_{1} \\geq \\|X\\|_{\\infty}$.\n",
    "\n",
    "(i) For all $X\\in\\mathbb{R}^{n\\times n}$, $Q\\in {\\rm{O}}(n)$, we have $\\|QX\\|_{\\rm{F}} = \\|X\\|_{\\rm{F}}$.\n",
    "\n",
    "(j) For all $X\\in\\mathbb{R}^{n\\times n}$, $Q\\in {\\rm{O}}(n)$, we have $\\|QX\\|_{2} = \\|X\\|_{2}$."
   ]
  },
  {
   "cell_type": "markdown",
   "metadata": {},
   "source": [
    "a. True\n",
    "1. Eigenvalue of $Q$ is $\\pm 1$ by definition, thus $Qx = \\pm 1 x$, and $\\|Qx\\|_{2} = \\|\\pm1x\\|_{2} = \\|x\\|_{2}$"
   ]
  },
  {
   "cell_type": "markdown",
   "metadata": {},
   "source": [
    "b. True\n",
    "1. $\\|x\\|_{1} = \\|x\\|_{\\infty} + \\left( \\sum{ \\lVert x_i \\rVert \\quad s.t. x_i < \\|x\\|_{\\infty} } \\right) = \\|x\\|_{\\infty} + a$\n",
    "2. By definition, $a \\ge 0$, then\n",
    "\\begin{align}\n",
    "\\|x\\|_{\\infty} + a & \\ge \\|x\\|_{\\infty} \\\\\n",
    "\\|x\\|_{1} & \\ge \\|x\\|_{\\infty}\n",
    "\\end{align} "
   ]
  },
  {
   "cell_type": "markdown",
   "metadata": {},
   "source": [
    "c. True\n",
    "1. $Y = xx^{T} \\Rightarrow Y_{ij} = x_{i} x_{j} \\Rightarrow tr(Y) = tr(xx^{T}) = \\sum{x_{i} x_{i}} = \\sum{x_{i}^{2}} \\Rightarrow \\sqrt{tr(x x^{T})} = \\sqrt{\\sum{x_{i}^{2}} } = \\| x \\|_{2}$ "
   ]
  },
  {
   "cell_type": "markdown",
   "metadata": {},
   "source": [
    "d. False\n",
    "1. Let $n = 2$, and $x = (2, 0)$\n",
    "\\begin{align}\n",
    "\\| x \\|_{2} & = \\sqrt{2^{2}} = 2 = \\| x \\|_{1} \\\\\n",
    "\\Rightarrow \\alpha \\| x \\|_{2} & = \\alpha \\| x \\|_{1} \\\\\n",
    "\\Rightarrow \\| \\alpha x \\|_{2} & = \\| \\alpha x \\|_{1} \\quad \\text{since scaling vector scales} \\quad l_1, l_2 \\quad \\text{norm}\\\\\n",
    "\\end{align}\n",
    "for **any** scalar $\\alpha$ from $-\\infty, +\\infty$, then there are **infinitely** many vectors in $R^{n=2}$ where $\\| x \\|_{2} = \\| x \\|_{1}$"
   ]
  },
  {
   "cell_type": "markdown",
   "metadata": {},
   "source": [
    "e. True\n",
    "1. For arbitrary $n, p, q$, the scaling of vector $\\| \\alpha x \\|_{p} \\neq \\alpha \\|x\\|_{p}$. Consider the counter example:\n",
    "\\begin{align}\n",
    "x  & = (1, 1), q = 3 \\\\\n",
    "\\|x\\|_{q} & = (1^3 + 1^3)^{\\frac{1}{3}} = 2^{\\frac{1}{3}} \\\\\n",
    "\\|2 x\\|_{q} & = (2^3 + 2^3)^{\\frac{1}{3}} = 16^{\\frac{1}{3}} \\neq 2 \\times 2^{\\frac{1}{3}}\n",
    "\\end{align}"
   ]
  },
  {
   "cell_type": "markdown",
   "metadata": {},
   "source": [
    "f. True\n",
    "\n",
    "\\begin{align}\n",
    "\\|X\\|_{2} & = \\sup_{\\|v\\|_2 = 1}{ \\|Xv\\|_{2} } \\\\\n",
    "& = \\sup_{\\|y\\|_2 = 1}{ \\|U\\Sigma V^{T}y\\|_{2} } \\\\\n",
    "& = \\sup_{\\|y\\|_2 = 1}{ \\|\\Sigma V^{T}y\\|_{2} } \\quad \\text{since U is unitary} \\\\\n",
    "& = \\sup_{\\|z\\|_2 = 1}{ \\|\\Sigma z\\|_{2} } \\quad z = V^{T}y \\quad, \\text{V unitary thus} \\quad \\|z\\|_2 = V^{T} \\| y \\|_2 \\\\\n",
    "& = \\sigma_{max}(X) \\quad z = [1, 0...0]^{T} \\quad \\text{yields the max product, largest term of diagonal matrix } \\Sigma, \\sigma_{max}(X) \\\\\n",
    "& = \\|\\sigma\\|_{\\infty}\n",
    "\\end{align}\n"
   ]
  },
  {
   "cell_type": "markdown",
   "metadata": {},
   "source": [
    "g. True\n",
    "\n",
    "1. $X = U \\Sigma V^{T} \\quad \\text{SVD decomposition}$\n",
    "2. Since $\\Sigma$ is by definition a diagonal matrix of the singular values, $\\| \\sigma \\|_{0} = rank(\\Sigma)$\n",
    "3. Since the matrices $U, V$ have inverses, they are full rank, and product with full rank matrix preserves rank\n",
    "4. Then it follows that $rank(X) = rank(U \\Sigma V^{T}) = rank(\\Sigma) = \\|\\sigma\\|_{0}$"
   ]
  },
  {
   "cell_type": "markdown",
   "metadata": {},
   "source": [
    "h. False\n",
    "\\begin{align}\n",
    "A & = \\begin{bmatrix}\n",
    "1 & 1 \\\\ 2 & 2\n",
    "\\end{bmatrix} \\\\\n",
    "\\|A\\|_1 & = \\max(3, 3) = 3 \\\\\n",
    "\\|A\\|_{\\infty} & = \\max(2, 4) = 4 \\\\\n",
    "\\end{align}\n",
    "We see then that for A, $\\|A\\|_{\\infty} > \\|A\\|_{1}$, A is a counterexample"
   ]
  },
  {
   "cell_type": "markdown",
   "metadata": {},
   "source": [
    "i.True\n",
    "\\begin{align}\n",
    "\\| QX \\|_{F} & = \\| \\pm 1 X \\|_{F} \\\\\n",
    "& = \\sqrt{ \\sum_{i=1}^{n}{ \\sum_{j=1}^{n}{ \\lVert (\\pm 1 x_{ij})^{2} \\rVert } } } \\\\\n",
    "& = \\sqrt{ \\sum_{i=1}^{n}{ \\sum_{j=1}^{n}{ \\lVert (x_{ij})^{2} \\rVert } } } \\\\\n",
    "& = \\| X \\|_{F}\n",
    "\\end{align}"
   ]
  },
  {
   "cell_type": "markdown",
   "metadata": {},
   "source": [
    "j. True\n",
    "\\begin{align}\n",
    "\\|QX\\|_{2} & = \\sqrt{\\lambda_{max}((QX)^{T}(QX))} \\\\\n",
    "& = \\sqrt{\\lambda_{max}(X^{T} Q^{T} Q X )} \\\\\n",
    "& = \\sqrt{\\lambda_{max}(X^{T} X )} \\\\\n",
    "& = \\| X \\|_{2}\n",
    "\\end{align}"
   ]
  }
 ],
 "metadata": {
  "kernelspec": {
   "display_name": "Python 3 (ipykernel)",
   "language": "python",
   "name": "python3"
  },
  "language_info": {
   "codemirror_mode": {
    "name": "ipython",
    "version": 3
   },
   "file_extension": ".py",
   "mimetype": "text/x-python",
   "name": "python",
   "nbconvert_exporter": "python",
   "pygments_lexer": "ipython3",
   "version": "3.9.13"
  }
 },
 "nbformat": 4,
 "nbformat_minor": 4
}
